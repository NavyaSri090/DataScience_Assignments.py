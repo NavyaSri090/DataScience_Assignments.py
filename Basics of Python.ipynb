{
 "cells": [
  {
   "cell_type": "markdown",
   "id": "b852d22a",
   "metadata": {},
   "source": [
    "# 1:Prime Number"
   ]
  },
  {
   "cell_type": "markdown",
   "id": "3fa5477f",
   "metadata": {},
   "source": [
    "Write a Python program that checks whether a given number is prime or not. A prime number is a natural number greater than 1 that has no positive divisors other than 1 and itself."
   ]
  },
  {
   "cell_type": "code",
   "execution_count": 15,
   "id": "39b631d4",
   "metadata": {},
   "outputs": [
    {
     "name": "stdout",
     "output_type": "stream",
     "text": [
      "Enter any number: 1\n",
      "1 is not a prime number\n"
     ]
    }
   ],
   "source": [
    "# taking input from user\n",
    "number = int(input(\"Enter any number: \"))\n",
    "\n",
    "# prime number is always greater than 1\n",
    "if number > 1:\n",
    "    for i in range(2, number):\n",
    "        if (number % i) == 0:\n",
    "            print(number, \"is not a prime number\")\n",
    "            break\n",
    "    else:\n",
    "        print(number, \"is a prime number\")\n",
    "\n",
    "# if the entered number is less than or equal to 1\n",
    "# then it is not prime number\n",
    "else:\n",
    "    print(number, \"is not a prime number\")"
   ]
  },
  {
   "cell_type": "markdown",
   "id": "513f059e",
   "metadata": {},
   "source": [
    "# 2:Product of Random Numbers"
   ]
  },
  {
   "cell_type": "markdown",
   "id": "d4f8255d",
   "metadata": {},
   "source": [
    "Develop a Python program that generates two random numbers and asks the user to enter the product of these numbers. The program should then check if the user's answer is correct and display an appropriate message."
   ]
  },
  {
   "cell_type": "code",
   "execution_count": 39,
   "id": "da3cc60e",
   "metadata": {},
   "outputs": [],
   "source": [
    "import random"
   ]
  },
  {
   "cell_type": "code",
   "execution_count": 43,
   "id": "f31bcb71",
   "metadata": {},
   "outputs": [
    {
     "name": "stdout",
     "output_type": "stream",
     "text": [
      "First Number: 8 Second Number: 5\n",
      "Enter the product of the 2 numbers:40\n",
      "40 Correct Answer\n"
     ]
    }
   ],
   "source": [
    "#Random Numbers\n",
    "num1=random.randint(1,10)\n",
    "num2=random.randint(1,10)\n",
    "product=num1*num2\n",
    "print(\"First Number:\",num1,\"Second Number:\",num2)\n",
    "input_user=int(input(\"Enter the product of the 2 numbers:\"))\n",
    "if product==input_user:\n",
    "    print(product,\"Correct Answer\")\n",
    "else:\n",
    "    print(\"Wrong Answer and the correct answer is:\",product)\n",
    "    "
   ]
  },
  {
   "cell_type": "code",
   "execution_count": 44,
   "id": "c008f7bb",
   "metadata": {},
   "outputs": [
    {
     "name": "stdout",
     "output_type": "stream",
     "text": [
      "First Number: 0.5967064633362286 Second Number: 0.1231854766730982\n",
      "Enter the product of the 2 numbers:0.2146\n",
      "Wrong Answer and the correct answer is: 0.07350557011999191\n"
     ]
    }
   ],
   "source": [
    "# Random Float values\n",
    "num1=random.random()\n",
    "num2=random.random()\n",
    "product=num1*num2\n",
    "print(\"First Number:\",num1,\"Second Number:\",num2)\n",
    "input_user=float(input(\"Enter the product of the 2 numbers:\"))\n",
    "if product==input_user:\n",
    "    print(product,\"Correct Answer\")\n",
    "else:\n",
    "    print(\"Wrong Answer and the correct answer is:\",product)\n",
    "    "
   ]
  },
  {
   "cell_type": "markdown",
   "id": "d1fbd879",
   "metadata": {},
   "source": [
    "# 3: Squares of Even/Odd Numbers"
   ]
  },
  {
   "cell_type": "markdown",
   "id": "7179e5f9",
   "metadata": {},
   "source": [
    "Create a Python script that prints the squares of all even or odd numbers within the range of 100 to 200. Choose either even or odd numbers and document your choice in the code."
   ]
  },
  {
   "cell_type": "code",
   "execution_count": 67,
   "id": "4fd1a304",
   "metadata": {},
   "outputs": [
    {
     "name": "stdout",
     "output_type": "stream",
     "text": [
      "The number is Even: 100\n",
      "Square of the number is: 10000\n",
      "The number is Even: 102\n",
      "Square of the number is: 10404\n",
      "The number is Even: 104\n",
      "Square of the number is: 10816\n",
      "The number is Even: 106\n",
      "Square of the number is: 11236\n",
      "The number is Even: 108\n",
      "Square of the number is: 11664\n",
      "The number is Even: 110\n",
      "Square of the number is: 12100\n",
      "The number is Even: 112\n",
      "Square of the number is: 12544\n",
      "The number is Even: 114\n",
      "Square of the number is: 12996\n",
      "The number is Even: 116\n",
      "Square of the number is: 13456\n",
      "The number is Even: 118\n",
      "Square of the number is: 13924\n",
      "The number is Even: 120\n",
      "Square of the number is: 14400\n",
      "The number is Even: 122\n",
      "Square of the number is: 14884\n",
      "The number is Even: 124\n",
      "Square of the number is: 15376\n",
      "The number is Even: 126\n",
      "Square of the number is: 15876\n",
      "The number is Even: 128\n",
      "Square of the number is: 16384\n",
      "The number is Even: 130\n",
      "Square of the number is: 16900\n",
      "The number is Even: 132\n",
      "Square of the number is: 17424\n",
      "The number is Even: 134\n",
      "Square of the number is: 17956\n",
      "The number is Even: 136\n",
      "Square of the number is: 18496\n",
      "The number is Even: 138\n",
      "Square of the number is: 19044\n",
      "The number is Even: 140\n",
      "Square of the number is: 19600\n",
      "The number is Even: 142\n",
      "Square of the number is: 20164\n",
      "The number is Even: 144\n",
      "Square of the number is: 20736\n",
      "The number is Even: 146\n",
      "Square of the number is: 21316\n",
      "The number is Even: 148\n",
      "Square of the number is: 21904\n",
      "The number is Even: 150\n",
      "Square of the number is: 22500\n",
      "The number is Even: 152\n",
      "Square of the number is: 23104\n",
      "The number is Even: 154\n",
      "Square of the number is: 23716\n",
      "The number is Even: 156\n",
      "Square of the number is: 24336\n",
      "The number is Even: 158\n",
      "Square of the number is: 24964\n",
      "The number is Even: 160\n",
      "Square of the number is: 25600\n",
      "The number is Even: 162\n",
      "Square of the number is: 26244\n",
      "The number is Even: 164\n",
      "Square of the number is: 26896\n",
      "The number is Even: 166\n",
      "Square of the number is: 27556\n",
      "The number is Even: 168\n",
      "Square of the number is: 28224\n",
      "The number is Even: 170\n",
      "Square of the number is: 28900\n",
      "The number is Even: 172\n",
      "Square of the number is: 29584\n",
      "The number is Even: 174\n",
      "Square of the number is: 30276\n",
      "The number is Even: 176\n",
      "Square of the number is: 30976\n",
      "The number is Even: 178\n",
      "Square of the number is: 31684\n",
      "The number is Even: 180\n",
      "Square of the number is: 32400\n",
      "The number is Even: 182\n",
      "Square of the number is: 33124\n",
      "The number is Even: 184\n",
      "Square of the number is: 33856\n",
      "The number is Even: 186\n",
      "Square of the number is: 34596\n",
      "The number is Even: 188\n",
      "Square of the number is: 35344\n",
      "The number is Even: 190\n",
      "Square of the number is: 36100\n",
      "The number is Even: 192\n",
      "Square of the number is: 36864\n",
      "The number is Even: 194\n",
      "Square of the number is: 37636\n",
      "The number is Even: 196\n",
      "Square of the number is: 38416\n",
      "The number is Even: 198\n",
      "Square of the number is: 39204\n"
     ]
    }
   ],
   "source": [
    "for i in range(100,200):\n",
    "    if(i%2)==0:\n",
    "        print(\"The number is Even:\",i)\n",
    "        print(\"Square of the number is:\",i*i)\n"
   ]
  },
  {
   "cell_type": "markdown",
   "id": "f4617f8f",
   "metadata": {},
   "source": [
    "# 4: Word counter"
   ]
  },
  {
   "cell_type": "markdown",
   "id": "814e4d62",
   "metadata": {},
   "source": [
    "write a program to count the number of words in a given text."
   ]
  },
  {
   "cell_type": "code",
   "execution_count": 72,
   "id": "f15b9b8f",
   "metadata": {},
   "outputs": [
    {
     "name": "stdout",
     "output_type": "stream",
     "text": [
      "'Hello':1\n",
      "'Iam':1\n",
      "'Navya':1\n",
      "'Sri':1\n"
     ]
    }
   ],
   "source": [
    "def count_words(text):\n",
    "    words=text.split()\n",
    "    word_count={}\n",
    "    for word in words:\n",
    "        word.lower()\n",
    "        word_count[word]=word_count.get(word,0)+1\n",
    "    for word,count in word_count.items():\n",
    "        print(f\"'{word}':{count}\")\n",
    "text=\"Hello Iam Navya Sri\" \n",
    "count_words(text)                        \n",
    "                        "
   ]
  },
  {
   "cell_type": "code",
   "execution_count": null,
   "id": "eb79f84a",
   "metadata": {},
   "outputs": [],
   "source": []
  },
  {
   "cell_type": "code",
   "execution_count": null,
   "id": "18e8fae8",
   "metadata": {},
   "outputs": [],
   "source": []
  },
  {
   "cell_type": "markdown",
   "id": "4701b845",
   "metadata": {},
   "source": [
    "# 5: Check for Palindrome"
   ]
  },
  {
   "cell_type": "markdown",
   "id": "ab673c0e",
   "metadata": {},
   "source": [
    "Write a Python function called is_palindrome that takes a string as input and returns True if the string is a palindrome, and False otherwise. A palindrome is a word, phrase, number, or other sequence of characters that reads the same forward and backward, ignoring spaces, punctuation, and capitalization."
   ]
  },
  {
   "cell_type": "code",
   "execution_count": 64,
   "id": "cdbb7c65",
   "metadata": {},
   "outputs": [
    {
     "name": "stdout",
     "output_type": "stream",
     "text": [
      "Enter String:madam\n",
      "True\n"
     ]
    }
   ],
   "source": [
    "def is_palindrome(string):\n",
    "    if(string==string[::-1]):\n",
    "        return \"True\"\n",
    "    else:\n",
    "        return \"False\"\n",
    "string=input(\"Enter String:\")\n",
    "print(is_palindrome(string))"
   ]
  },
  {
   "cell_type": "code",
   "execution_count": null,
   "id": "4f335dba",
   "metadata": {},
   "outputs": [],
   "source": []
  }
 ],
 "metadata": {
  "kernelspec": {
   "display_name": "Python 3 (ipykernel)",
   "language": "python",
   "name": "python3"
  },
  "language_info": {
   "codemirror_mode": {
    "name": "ipython",
    "version": 3
   },
   "file_extension": ".py",
   "mimetype": "text/x-python",
   "name": "python",
   "nbconvert_exporter": "python",
   "pygments_lexer": "ipython3",
   "version": "3.11.5"
  }
 },
 "nbformat": 4,
 "nbformat_minor": 5
}
