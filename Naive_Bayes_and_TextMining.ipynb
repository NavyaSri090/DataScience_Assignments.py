{
  "nbformat": 4,
  "nbformat_minor": 0,
  "metadata": {
    "colab": {
      "provenance": [],
      "gpuType": "T4"
    },
    "kernelspec": {
      "name": "python3",
      "display_name": "Python 3"
    },
    "language_info": {
      "name": "python"
    },
    "accelerator": "GPU"
  },
  "cells": [
    {
      "cell_type": "code",
      "source": [
        "import pandas as pd\n",
        "import numpy as np\n",
        "import matplotlib.pyplot as plt\n",
        "import seaborn as sns\n",
        "import warnings\n",
        "warnings.filterwarnings('ignore')"
      ],
      "metadata": {
        "id": "f6-UWBh1v1Ua"
      },
      "execution_count": 65,
      "outputs": []
    },
    {
      "cell_type": "code",
      "source": [
        "from google.colab import files\n",
        "uploaded=files.upload()"
      ],
      "metadata": {
        "colab": {
          "base_uri": "https://localhost:8080/",
          "height": 73
        },
        "id": "Uy-n2g0VwuOg",
        "outputId": "f55b375d-dba5-4053-d6cf-13f8720bdd4d"
      },
      "execution_count": 66,
      "outputs": [
        {
          "output_type": "display_data",
          "data": {
            "text/plain": [
              "<IPython.core.display.HTML object>"
            ],
            "text/html": [
              "\n",
              "     <input type=\"file\" id=\"files-1930cd55-f3d8-4c86-8920-e41b2f8a1394\" name=\"files[]\" multiple disabled\n",
              "        style=\"border:none\" />\n",
              "     <output id=\"result-1930cd55-f3d8-4c86-8920-e41b2f8a1394\">\n",
              "      Upload widget is only available when the cell has been executed in the\n",
              "      current browser session. Please rerun this cell to enable.\n",
              "      </output>\n",
              "      <script>// Copyright 2017 Google LLC\n",
              "//\n",
              "// Licensed under the Apache License, Version 2.0 (the \"License\");\n",
              "// you may not use this file except in compliance with the License.\n",
              "// You may obtain a copy of the License at\n",
              "//\n",
              "//      http://www.apache.org/licenses/LICENSE-2.0\n",
              "//\n",
              "// Unless required by applicable law or agreed to in writing, software\n",
              "// distributed under the License is distributed on an \"AS IS\" BASIS,\n",
              "// WITHOUT WARRANTIES OR CONDITIONS OF ANY KIND, either express or implied.\n",
              "// See the License for the specific language governing permissions and\n",
              "// limitations under the License.\n",
              "\n",
              "/**\n",
              " * @fileoverview Helpers for google.colab Python module.\n",
              " */\n",
              "(function(scope) {\n",
              "function span(text, styleAttributes = {}) {\n",
              "  const element = document.createElement('span');\n",
              "  element.textContent = text;\n",
              "  for (const key of Object.keys(styleAttributes)) {\n",
              "    element.style[key] = styleAttributes[key];\n",
              "  }\n",
              "  return element;\n",
              "}\n",
              "\n",
              "// Max number of bytes which will be uploaded at a time.\n",
              "const MAX_PAYLOAD_SIZE = 100 * 1024;\n",
              "\n",
              "function _uploadFiles(inputId, outputId) {\n",
              "  const steps = uploadFilesStep(inputId, outputId);\n",
              "  const outputElement = document.getElementById(outputId);\n",
              "  // Cache steps on the outputElement to make it available for the next call\n",
              "  // to uploadFilesContinue from Python.\n",
              "  outputElement.steps = steps;\n",
              "\n",
              "  return _uploadFilesContinue(outputId);\n",
              "}\n",
              "\n",
              "// This is roughly an async generator (not supported in the browser yet),\n",
              "// where there are multiple asynchronous steps and the Python side is going\n",
              "// to poll for completion of each step.\n",
              "// This uses a Promise to block the python side on completion of each step,\n",
              "// then passes the result of the previous step as the input to the next step.\n",
              "function _uploadFilesContinue(outputId) {\n",
              "  const outputElement = document.getElementById(outputId);\n",
              "  const steps = outputElement.steps;\n",
              "\n",
              "  const next = steps.next(outputElement.lastPromiseValue);\n",
              "  return Promise.resolve(next.value.promise).then((value) => {\n",
              "    // Cache the last promise value to make it available to the next\n",
              "    // step of the generator.\n",
              "    outputElement.lastPromiseValue = value;\n",
              "    return next.value.response;\n",
              "  });\n",
              "}\n",
              "\n",
              "/**\n",
              " * Generator function which is called between each async step of the upload\n",
              " * process.\n",
              " * @param {string} inputId Element ID of the input file picker element.\n",
              " * @param {string} outputId Element ID of the output display.\n",
              " * @return {!Iterable<!Object>} Iterable of next steps.\n",
              " */\n",
              "function* uploadFilesStep(inputId, outputId) {\n",
              "  const inputElement = document.getElementById(inputId);\n",
              "  inputElement.disabled = false;\n",
              "\n",
              "  const outputElement = document.getElementById(outputId);\n",
              "  outputElement.innerHTML = '';\n",
              "\n",
              "  const pickedPromise = new Promise((resolve) => {\n",
              "    inputElement.addEventListener('change', (e) => {\n",
              "      resolve(e.target.files);\n",
              "    });\n",
              "  });\n",
              "\n",
              "  const cancel = document.createElement('button');\n",
              "  inputElement.parentElement.appendChild(cancel);\n",
              "  cancel.textContent = 'Cancel upload';\n",
              "  const cancelPromise = new Promise((resolve) => {\n",
              "    cancel.onclick = () => {\n",
              "      resolve(null);\n",
              "    };\n",
              "  });\n",
              "\n",
              "  // Wait for the user to pick the files.\n",
              "  const files = yield {\n",
              "    promise: Promise.race([pickedPromise, cancelPromise]),\n",
              "    response: {\n",
              "      action: 'starting',\n",
              "    }\n",
              "  };\n",
              "\n",
              "  cancel.remove();\n",
              "\n",
              "  // Disable the input element since further picks are not allowed.\n",
              "  inputElement.disabled = true;\n",
              "\n",
              "  if (!files) {\n",
              "    return {\n",
              "      response: {\n",
              "        action: 'complete',\n",
              "      }\n",
              "    };\n",
              "  }\n",
              "\n",
              "  for (const file of files) {\n",
              "    const li = document.createElement('li');\n",
              "    li.append(span(file.name, {fontWeight: 'bold'}));\n",
              "    li.append(span(\n",
              "        `(${file.type || 'n/a'}) - ${file.size} bytes, ` +\n",
              "        `last modified: ${\n",
              "            file.lastModifiedDate ? file.lastModifiedDate.toLocaleDateString() :\n",
              "                                    'n/a'} - `));\n",
              "    const percent = span('0% done');\n",
              "    li.appendChild(percent);\n",
              "\n",
              "    outputElement.appendChild(li);\n",
              "\n",
              "    const fileDataPromise = new Promise((resolve) => {\n",
              "      const reader = new FileReader();\n",
              "      reader.onload = (e) => {\n",
              "        resolve(e.target.result);\n",
              "      };\n",
              "      reader.readAsArrayBuffer(file);\n",
              "    });\n",
              "    // Wait for the data to be ready.\n",
              "    let fileData = yield {\n",
              "      promise: fileDataPromise,\n",
              "      response: {\n",
              "        action: 'continue',\n",
              "      }\n",
              "    };\n",
              "\n",
              "    // Use a chunked sending to avoid message size limits. See b/62115660.\n",
              "    let position = 0;\n",
              "    do {\n",
              "      const length = Math.min(fileData.byteLength - position, MAX_PAYLOAD_SIZE);\n",
              "      const chunk = new Uint8Array(fileData, position, length);\n",
              "      position += length;\n",
              "\n",
              "      const base64 = btoa(String.fromCharCode.apply(null, chunk));\n",
              "      yield {\n",
              "        response: {\n",
              "          action: 'append',\n",
              "          file: file.name,\n",
              "          data: base64,\n",
              "        },\n",
              "      };\n",
              "\n",
              "      let percentDone = fileData.byteLength === 0 ?\n",
              "          100 :\n",
              "          Math.round((position / fileData.byteLength) * 100);\n",
              "      percent.textContent = `${percentDone}% done`;\n",
              "\n",
              "    } while (position < fileData.byteLength);\n",
              "  }\n",
              "\n",
              "  // All done.\n",
              "  yield {\n",
              "    response: {\n",
              "      action: 'complete',\n",
              "    }\n",
              "  };\n",
              "}\n",
              "\n",
              "scope.google = scope.google || {};\n",
              "scope.google.colab = scope.google.colab || {};\n",
              "scope.google.colab._files = {\n",
              "  _uploadFiles,\n",
              "  _uploadFilesContinue,\n",
              "};\n",
              "})(self);\n",
              "</script> "
            ]
          },
          "metadata": {}
        },
        {
          "output_type": "stream",
          "name": "stdout",
          "text": [
            "Saving blogs_categories.csv to blogs_categories (1).csv\n"
          ]
        }
      ]
    },
    {
      "cell_type": "code",
      "source": [
        "# reading the dataset \"blogs_categories\"\n",
        "df=pd.read_csv('blogs_categories.csv')\n",
        "df"
      ],
      "metadata": {
        "colab": {
          "base_uri": "https://localhost:8080/",
          "height": 423
        },
        "id": "QkXw-Wtpw3p8",
        "outputId": "2f7cc596-8ed8-4519-fc3a-cc9387212f3f"
      },
      "execution_count": 67,
      "outputs": [
        {
          "output_type": "execute_result",
          "data": {
            "text/plain": [
              "       Unnamed: 0                                               Data  \\\n",
              "0               0  Xref: cantaloupe.srv.cs.cmu.edu alt.atheism:49...   \n",
              "1               1  Xref: cantaloupe.srv.cs.cmu.edu alt.atheism:51...   \n",
              "2               2  Newsgroups: alt.atheism\\r\\nPath: cantaloupe.sr...   \n",
              "3               3  Xref: cantaloupe.srv.cs.cmu.edu alt.atheism:51...   \n",
              "4               4  Xref: cantaloupe.srv.cs.cmu.edu alt.atheism:51...   \n",
              "...           ...                                                ...   \n",
              "19992       19992  Xref: cantaloupe.srv.cs.cmu.edu alt.atheism:54...   \n",
              "19993       19993  Xref: cantaloupe.srv.cs.cmu.edu alt.atheism:54...   \n",
              "19994       19994  Xref: cantaloupe.srv.cs.cmu.edu talk.religion....   \n",
              "19995       19995  Xref: cantaloupe.srv.cs.cmu.edu talk.religion....   \n",
              "19996       19996  Xref: cantaloupe.srv.cs.cmu.edu talk.abortion:...   \n",
              "\n",
              "                   Labels  \n",
              "0             alt.atheism  \n",
              "1             alt.atheism  \n",
              "2             alt.atheism  \n",
              "3             alt.atheism  \n",
              "4             alt.atheism  \n",
              "...                   ...  \n",
              "19992  talk.religion.misc  \n",
              "19993  talk.religion.misc  \n",
              "19994  talk.religion.misc  \n",
              "19995  talk.religion.misc  \n",
              "19996  talk.religion.misc  \n",
              "\n",
              "[19997 rows x 3 columns]"
            ],
            "text/html": [
              "\n",
              "  <div id=\"df-c49ef830-9ea5-40c8-981d-bc558fb2a1de\" class=\"colab-df-container\">\n",
              "    <div>\n",
              "<style scoped>\n",
              "    .dataframe tbody tr th:only-of-type {\n",
              "        vertical-align: middle;\n",
              "    }\n",
              "\n",
              "    .dataframe tbody tr th {\n",
              "        vertical-align: top;\n",
              "    }\n",
              "\n",
              "    .dataframe thead th {\n",
              "        text-align: right;\n",
              "    }\n",
              "</style>\n",
              "<table border=\"1\" class=\"dataframe\">\n",
              "  <thead>\n",
              "    <tr style=\"text-align: right;\">\n",
              "      <th></th>\n",
              "      <th>Unnamed: 0</th>\n",
              "      <th>Data</th>\n",
              "      <th>Labels</th>\n",
              "    </tr>\n",
              "  </thead>\n",
              "  <tbody>\n",
              "    <tr>\n",
              "      <th>0</th>\n",
              "      <td>0</td>\n",
              "      <td>Xref: cantaloupe.srv.cs.cmu.edu alt.atheism:49...</td>\n",
              "      <td>alt.atheism</td>\n",
              "    </tr>\n",
              "    <tr>\n",
              "      <th>1</th>\n",
              "      <td>1</td>\n",
              "      <td>Xref: cantaloupe.srv.cs.cmu.edu alt.atheism:51...</td>\n",
              "      <td>alt.atheism</td>\n",
              "    </tr>\n",
              "    <tr>\n",
              "      <th>2</th>\n",
              "      <td>2</td>\n",
              "      <td>Newsgroups: alt.atheism\\r\\nPath: cantaloupe.sr...</td>\n",
              "      <td>alt.atheism</td>\n",
              "    </tr>\n",
              "    <tr>\n",
              "      <th>3</th>\n",
              "      <td>3</td>\n",
              "      <td>Xref: cantaloupe.srv.cs.cmu.edu alt.atheism:51...</td>\n",
              "      <td>alt.atheism</td>\n",
              "    </tr>\n",
              "    <tr>\n",
              "      <th>4</th>\n",
              "      <td>4</td>\n",
              "      <td>Xref: cantaloupe.srv.cs.cmu.edu alt.atheism:51...</td>\n",
              "      <td>alt.atheism</td>\n",
              "    </tr>\n",
              "    <tr>\n",
              "      <th>...</th>\n",
              "      <td>...</td>\n",
              "      <td>...</td>\n",
              "      <td>...</td>\n",
              "    </tr>\n",
              "    <tr>\n",
              "      <th>19992</th>\n",
              "      <td>19992</td>\n",
              "      <td>Xref: cantaloupe.srv.cs.cmu.edu alt.atheism:54...</td>\n",
              "      <td>talk.religion.misc</td>\n",
              "    </tr>\n",
              "    <tr>\n",
              "      <th>19993</th>\n",
              "      <td>19993</td>\n",
              "      <td>Xref: cantaloupe.srv.cs.cmu.edu alt.atheism:54...</td>\n",
              "      <td>talk.religion.misc</td>\n",
              "    </tr>\n",
              "    <tr>\n",
              "      <th>19994</th>\n",
              "      <td>19994</td>\n",
              "      <td>Xref: cantaloupe.srv.cs.cmu.edu talk.religion....</td>\n",
              "      <td>talk.religion.misc</td>\n",
              "    </tr>\n",
              "    <tr>\n",
              "      <th>19995</th>\n",
              "      <td>19995</td>\n",
              "      <td>Xref: cantaloupe.srv.cs.cmu.edu talk.religion....</td>\n",
              "      <td>talk.religion.misc</td>\n",
              "    </tr>\n",
              "    <tr>\n",
              "      <th>19996</th>\n",
              "      <td>19996</td>\n",
              "      <td>Xref: cantaloupe.srv.cs.cmu.edu talk.abortion:...</td>\n",
              "      <td>talk.religion.misc</td>\n",
              "    </tr>\n",
              "  </tbody>\n",
              "</table>\n",
              "<p>19997 rows × 3 columns</p>\n",
              "</div>\n",
              "    <div class=\"colab-df-buttons\">\n",
              "\n",
              "  <div class=\"colab-df-container\">\n",
              "    <button class=\"colab-df-convert\" onclick=\"convertToInteractive('df-c49ef830-9ea5-40c8-981d-bc558fb2a1de')\"\n",
              "            title=\"Convert this dataframe to an interactive table.\"\n",
              "            style=\"display:none;\">\n",
              "\n",
              "  <svg xmlns=\"http://www.w3.org/2000/svg\" height=\"24px\" viewBox=\"0 -960 960 960\">\n",
              "    <path d=\"M120-120v-720h720v720H120Zm60-500h600v-160H180v160Zm220 220h160v-160H400v160Zm0 220h160v-160H400v160ZM180-400h160v-160H180v160Zm440 0h160v-160H620v160ZM180-180h160v-160H180v160Zm440 0h160v-160H620v160Z\"/>\n",
              "  </svg>\n",
              "    </button>\n",
              "\n",
              "  <style>\n",
              "    .colab-df-container {\n",
              "      display:flex;\n",
              "      gap: 12px;\n",
              "    }\n",
              "\n",
              "    .colab-df-convert {\n",
              "      background-color: #E8F0FE;\n",
              "      border: none;\n",
              "      border-radius: 50%;\n",
              "      cursor: pointer;\n",
              "      display: none;\n",
              "      fill: #1967D2;\n",
              "      height: 32px;\n",
              "      padding: 0 0 0 0;\n",
              "      width: 32px;\n",
              "    }\n",
              "\n",
              "    .colab-df-convert:hover {\n",
              "      background-color: #E2EBFA;\n",
              "      box-shadow: 0px 1px 2px rgba(60, 64, 67, 0.3), 0px 1px 3px 1px rgba(60, 64, 67, 0.15);\n",
              "      fill: #174EA6;\n",
              "    }\n",
              "\n",
              "    .colab-df-buttons div {\n",
              "      margin-bottom: 4px;\n",
              "    }\n",
              "\n",
              "    [theme=dark] .colab-df-convert {\n",
              "      background-color: #3B4455;\n",
              "      fill: #D2E3FC;\n",
              "    }\n",
              "\n",
              "    [theme=dark] .colab-df-convert:hover {\n",
              "      background-color: #434B5C;\n",
              "      box-shadow: 0px 1px 3px 1px rgba(0, 0, 0, 0.15);\n",
              "      filter: drop-shadow(0px 1px 2px rgba(0, 0, 0, 0.3));\n",
              "      fill: #FFFFFF;\n",
              "    }\n",
              "  </style>\n",
              "\n",
              "    <script>\n",
              "      const buttonEl =\n",
              "        document.querySelector('#df-c49ef830-9ea5-40c8-981d-bc558fb2a1de button.colab-df-convert');\n",
              "      buttonEl.style.display =\n",
              "        google.colab.kernel.accessAllowed ? 'block' : 'none';\n",
              "\n",
              "      async function convertToInteractive(key) {\n",
              "        const element = document.querySelector('#df-c49ef830-9ea5-40c8-981d-bc558fb2a1de');\n",
              "        const dataTable =\n",
              "          await google.colab.kernel.invokeFunction('convertToInteractive',\n",
              "                                                    [key], {});\n",
              "        if (!dataTable) return;\n",
              "\n",
              "        const docLinkHtml = 'Like what you see? Visit the ' +\n",
              "          '<a target=\"_blank\" href=https://colab.research.google.com/notebooks/data_table.ipynb>data table notebook</a>'\n",
              "          + ' to learn more about interactive tables.';\n",
              "        element.innerHTML = '';\n",
              "        dataTable['output_type'] = 'display_data';\n",
              "        await google.colab.output.renderOutput(dataTable, element);\n",
              "        const docLink = document.createElement('div');\n",
              "        docLink.innerHTML = docLinkHtml;\n",
              "        element.appendChild(docLink);\n",
              "      }\n",
              "    </script>\n",
              "  </div>\n",
              "\n",
              "\n",
              "<div id=\"df-e26a9373-41e9-4b3c-86a9-3b5d178f0e0e\">\n",
              "  <button class=\"colab-df-quickchart\" onclick=\"quickchart('df-e26a9373-41e9-4b3c-86a9-3b5d178f0e0e')\"\n",
              "            title=\"Suggest charts\"\n",
              "            style=\"display:none;\">\n",
              "\n",
              "<svg xmlns=\"http://www.w3.org/2000/svg\" height=\"24px\"viewBox=\"0 0 24 24\"\n",
              "     width=\"24px\">\n",
              "    <g>\n",
              "        <path d=\"M19 3H5c-1.1 0-2 .9-2 2v14c0 1.1.9 2 2 2h14c1.1 0 2-.9 2-2V5c0-1.1-.9-2-2-2zM9 17H7v-7h2v7zm4 0h-2V7h2v10zm4 0h-2v-4h2v4z\"/>\n",
              "    </g>\n",
              "</svg>\n",
              "  </button>\n",
              "\n",
              "<style>\n",
              "  .colab-df-quickchart {\n",
              "      --bg-color: #E8F0FE;\n",
              "      --fill-color: #1967D2;\n",
              "      --hover-bg-color: #E2EBFA;\n",
              "      --hover-fill-color: #174EA6;\n",
              "      --disabled-fill-color: #AAA;\n",
              "      --disabled-bg-color: #DDD;\n",
              "  }\n",
              "\n",
              "  [theme=dark] .colab-df-quickchart {\n",
              "      --bg-color: #3B4455;\n",
              "      --fill-color: #D2E3FC;\n",
              "      --hover-bg-color: #434B5C;\n",
              "      --hover-fill-color: #FFFFFF;\n",
              "      --disabled-bg-color: #3B4455;\n",
              "      --disabled-fill-color: #666;\n",
              "  }\n",
              "\n",
              "  .colab-df-quickchart {\n",
              "    background-color: var(--bg-color);\n",
              "    border: none;\n",
              "    border-radius: 50%;\n",
              "    cursor: pointer;\n",
              "    display: none;\n",
              "    fill: var(--fill-color);\n",
              "    height: 32px;\n",
              "    padding: 0;\n",
              "    width: 32px;\n",
              "  }\n",
              "\n",
              "  .colab-df-quickchart:hover {\n",
              "    background-color: var(--hover-bg-color);\n",
              "    box-shadow: 0 1px 2px rgba(60, 64, 67, 0.3), 0 1px 3px 1px rgba(60, 64, 67, 0.15);\n",
              "    fill: var(--button-hover-fill-color);\n",
              "  }\n",
              "\n",
              "  .colab-df-quickchart-complete:disabled,\n",
              "  .colab-df-quickchart-complete:disabled:hover {\n",
              "    background-color: var(--disabled-bg-color);\n",
              "    fill: var(--disabled-fill-color);\n",
              "    box-shadow: none;\n",
              "  }\n",
              "\n",
              "  .colab-df-spinner {\n",
              "    border: 2px solid var(--fill-color);\n",
              "    border-color: transparent;\n",
              "    border-bottom-color: var(--fill-color);\n",
              "    animation:\n",
              "      spin 1s steps(1) infinite;\n",
              "  }\n",
              "\n",
              "  @keyframes spin {\n",
              "    0% {\n",
              "      border-color: transparent;\n",
              "      border-bottom-color: var(--fill-color);\n",
              "      border-left-color: var(--fill-color);\n",
              "    }\n",
              "    20% {\n",
              "      border-color: transparent;\n",
              "      border-left-color: var(--fill-color);\n",
              "      border-top-color: var(--fill-color);\n",
              "    }\n",
              "    30% {\n",
              "      border-color: transparent;\n",
              "      border-left-color: var(--fill-color);\n",
              "      border-top-color: var(--fill-color);\n",
              "      border-right-color: var(--fill-color);\n",
              "    }\n",
              "    40% {\n",
              "      border-color: transparent;\n",
              "      border-right-color: var(--fill-color);\n",
              "      border-top-color: var(--fill-color);\n",
              "    }\n",
              "    60% {\n",
              "      border-color: transparent;\n",
              "      border-right-color: var(--fill-color);\n",
              "    }\n",
              "    80% {\n",
              "      border-color: transparent;\n",
              "      border-right-color: var(--fill-color);\n",
              "      border-bottom-color: var(--fill-color);\n",
              "    }\n",
              "    90% {\n",
              "      border-color: transparent;\n",
              "      border-bottom-color: var(--fill-color);\n",
              "    }\n",
              "  }\n",
              "</style>\n",
              "\n",
              "  <script>\n",
              "    async function quickchart(key) {\n",
              "      const quickchartButtonEl =\n",
              "        document.querySelector('#' + key + ' button');\n",
              "      quickchartButtonEl.disabled = true;  // To prevent multiple clicks.\n",
              "      quickchartButtonEl.classList.add('colab-df-spinner');\n",
              "      try {\n",
              "        const charts = await google.colab.kernel.invokeFunction(\n",
              "            'suggestCharts', [key], {});\n",
              "      } catch (error) {\n",
              "        console.error('Error during call to suggestCharts:', error);\n",
              "      }\n",
              "      quickchartButtonEl.classList.remove('colab-df-spinner');\n",
              "      quickchartButtonEl.classList.add('colab-df-quickchart-complete');\n",
              "    }\n",
              "    (() => {\n",
              "      let quickchartButtonEl =\n",
              "        document.querySelector('#df-e26a9373-41e9-4b3c-86a9-3b5d178f0e0e button');\n",
              "      quickchartButtonEl.style.display =\n",
              "        google.colab.kernel.accessAllowed ? 'block' : 'none';\n",
              "    })();\n",
              "  </script>\n",
              "</div>\n",
              "\n",
              "  <div id=\"id_a4a2d013-2843-42f2-9610-0f1c9caee433\">\n",
              "    <style>\n",
              "      .colab-df-generate {\n",
              "        background-color: #E8F0FE;\n",
              "        border: none;\n",
              "        border-radius: 50%;\n",
              "        cursor: pointer;\n",
              "        display: none;\n",
              "        fill: #1967D2;\n",
              "        height: 32px;\n",
              "        padding: 0 0 0 0;\n",
              "        width: 32px;\n",
              "      }\n",
              "\n",
              "      .colab-df-generate:hover {\n",
              "        background-color: #E2EBFA;\n",
              "        box-shadow: 0px 1px 2px rgba(60, 64, 67, 0.3), 0px 1px 3px 1px rgba(60, 64, 67, 0.15);\n",
              "        fill: #174EA6;\n",
              "      }\n",
              "\n",
              "      [theme=dark] .colab-df-generate {\n",
              "        background-color: #3B4455;\n",
              "        fill: #D2E3FC;\n",
              "      }\n",
              "\n",
              "      [theme=dark] .colab-df-generate:hover {\n",
              "        background-color: #434B5C;\n",
              "        box-shadow: 0px 1px 3px 1px rgba(0, 0, 0, 0.15);\n",
              "        filter: drop-shadow(0px 1px 2px rgba(0, 0, 0, 0.3));\n",
              "        fill: #FFFFFF;\n",
              "      }\n",
              "    </style>\n",
              "    <button class=\"colab-df-generate\" onclick=\"generateWithVariable('df')\"\n",
              "            title=\"Generate code using this dataframe.\"\n",
              "            style=\"display:none;\">\n",
              "\n",
              "  <svg xmlns=\"http://www.w3.org/2000/svg\" height=\"24px\"viewBox=\"0 0 24 24\"\n",
              "       width=\"24px\">\n",
              "    <path d=\"M7,19H8.4L18.45,9,17,7.55,7,17.6ZM5,21V16.75L18.45,3.32a2,2,0,0,1,2.83,0l1.4,1.43a1.91,1.91,0,0,1,.58,1.4,1.91,1.91,0,0,1-.58,1.4L9.25,21ZM18.45,9,17,7.55Zm-12,3A5.31,5.31,0,0,0,4.9,8.1,5.31,5.31,0,0,0,1,6.5,5.31,5.31,0,0,0,4.9,4.9,5.31,5.31,0,0,0,6.5,1,5.31,5.31,0,0,0,8.1,4.9,5.31,5.31,0,0,0,12,6.5,5.46,5.46,0,0,0,6.5,12Z\"/>\n",
              "  </svg>\n",
              "    </button>\n",
              "    <script>\n",
              "      (() => {\n",
              "      const buttonEl =\n",
              "        document.querySelector('#id_a4a2d013-2843-42f2-9610-0f1c9caee433 button.colab-df-generate');\n",
              "      buttonEl.style.display =\n",
              "        google.colab.kernel.accessAllowed ? 'block' : 'none';\n",
              "\n",
              "      buttonEl.onclick = () => {\n",
              "        google.colab.notebook.generateWithVariable('df');\n",
              "      }\n",
              "      })();\n",
              "    </script>\n",
              "  </div>\n",
              "\n",
              "    </div>\n",
              "  </div>\n"
            ],
            "application/vnd.google.colaboratory.intrinsic+json": {
              "type": "dataframe",
              "variable_name": "df",
              "summary": "{\n  \"name\": \"df\",\n  \"rows\": 19997,\n  \"fields\": [\n    {\n      \"column\": \"Unnamed: 0\",\n      \"properties\": {\n        \"dtype\": \"number\",\n        \"std\": 5772,\n        \"min\": 0,\n        \"max\": 19996,\n        \"num_unique_values\": 19997,\n        \"samples\": [\n          10747,\n          4949,\n          3352\n        ],\n        \"semantic_type\": \"\",\n        \"description\": \"\"\n      }\n    },\n    {\n      \"column\": \"Data\",\n      \"properties\": {\n        \"dtype\": \"string\",\n        \"num_unique_values\": 19466,\n        \"samples\": [\n          \"Xref: cantaloupe.srv.cs.cmu.edu soc.religion.christian:21662\\r\\nPath: cantaloupe.srv.cs.cmu.edu!das-news.harvard.edu!noc.near.net!howland.reston.ans.net!agate!ames!pacbell.com!att-out!rutgers!igor.rutgers.edu!geneva.rutgers.edu!christian\\r\\nFrom: af664@yfn.ysu.edu (Frank DeCenso, Jr.)\\r\\nNewsgroups: soc.religion.christian\\r\\nSubject: Re: _Christianity In Crisis_\\r\\nMessage-ID: <May.18.00.54.53.1993.9551@geneva.rutgers.edu>\\r\\nDate: 18 May 93 04:54:54 GMT\\r\\nSender: hedrick@geneva.rutgers.edu\\r\\nOrganization: Youngstown State/Youngstown Free-Net\\r\\nLines: 371\\r\\nApproved: christian@aramis.rutgers.edu\\r\\n\\r\\nFrom Bit.listserv.christia\\r\\n\\r\\nZane writes...\\r\\n \\r\\nFrom: FACN34B@SAUPM00.BITNET (zane of dhahan)\\r\\n>Newsgroups: bit.listserv.christia\\r\\nSubject: Christianity in Crisis\\r\\nDate: Wed May 12 14:43:19 1993\\r\\n \\r\\n\\\"Frank, first of all, thanks for all of the great Scripture verses.  It\\r\\nwas a pleasure to read them.\\\"\\r\\n \\r\\nMY REPLY...\\r\\nYou are welcome, Zane.\\r\\n \\r\\nZane...\\r\\n\\\"I am sure nothing that I will say will change your mind about it... but I\\r\\nwould like to ask you if the book in question really does anything for you.\\r\\nI mean, were you all caught up in the word/faith thing, but now that you\\r\\nhave read the book you've been rescued from all of the error and pain that\\r\\nwill result in your Christian life?\\\"\\r\\n \\r\\nMY REPLY...\\r\\n(1) When I first became a Christian, I entered into the Word/Faith\\r\\n    movement.  It was easy.  I wasn't grounded in the Word of God and sound\\r\\n    doctrine.  When I visited Christian book stores, the cheapest books I\\r\\n    could find to buy were the .50 and $1.00 books by Hagin and others.\\r\\n    Consequently, I began receiving Hagin's monthly magazine (and they\\r\\n    still send it to me), and also Copeland's (also, still sent to me).\\r\\n    It wasn't until I read a booklet by Jimmy Swaggart called _Hyper Faith:\\r\\n    The New Gnosticism_ that I began to realize the teachings I were\\r\\n    partaking of were error.  I started reading the Bible more and studying\\r\\n    more.  Sure enough, Jimmy was right in many points.  As part of my\\r\\n    experience, I am alerting Christians, particularly new Christians, that\\r\\n    these teachings are heretical and they need to do as the Bereans did in\\r\\n    Acts 17:11 - check these teachings out with Scripture!\\r\\n \\r\\n(2) My brother in law was involved in a Word/Faith \\\"cult\\\" in my area - it's\\r\\n    leader is real good friends with Benny Hinn.  Rather then going into\\r\\n    much detail about this, suffice it to say he was deceived, mistreated, and\\r\\n    has now fallen into atheism.  I'm still praying for him (Phil. 1:6).\\r\\n \\r\\n(3) The assistant pastor at the church I teach adult Sunday School in has been\\r\\n    a `follower' of Copeland for 15 years.  He has thousands of tapes by the\\r\\n    Faith teachers.  In the class recently, I quoted several of the teachers'\\r\\n    heretical statements to his surprise.  Since then, I've been able to talk\\r\\n    to him at length about these issues.\\r\\n \\r\\n(4) The leader of the Women's Group at my church is a Benny Hinn `fan'.\\r\\n    Recently, I found that she has been lending _Good Morning, Holy Spirit_ to\\r\\n    women in the church.  That prompted my quotes in Sunday School, as well as\\r\\n    my lending CIC to people in the church.\\r\\n \\r\\nI'm well aware of the abuses and heresies perpetrated in this movement and\\r\\nhave an urgency in my heart and life to warn people about the heresies.\\r\\nWhat heresies?\\r\\n    A. Jesus became sin - took on the very nature of the devil, and became\\r\\n        one with him.\\r\\n    B. Jesus' death on the cross wasn't enough to atone.\\r\\n    C. Jesus was dragged to hell after His death, was beat and abused by\\r\\n        Satan and demons, thus finishing our atonement.  Satan was ruling\\r\\n        over Him there.\\r\\n    D. Jesus was `born-again' in hell.\\r\\n    E. Jesus died spiritually, lost His divinity, and reassumed it after\\r\\n        the resurrection.\\r\\n    F. We are gods.\\r\\n \\r\\nThese are heresies.  Documentation will be provided re: these teachings\\r\\nupon request.\\r\\n \\r\\nZane...\\r\\n\\\"Or what does it do for you?  Is it preventing you from going out and\\r\\njoining up with the word/faith movement which you'd been contemplating\\r\\njoining for so long, but now that you've read the book, you've been saved\\r\\nfrom all of that?\\\"\\r\\n \\r\\nMY REPLY...\\r\\nIt wasn't _Christianity In Crisis_ that helped me; it was a booklet by\\r\\nSwaggart that I mentioned above.  But CIC is MUCH, MUCH better - tremendous\\r\\ndocumentation and insights.\\r\\n \\r\\nZane...\\r\\n\\\"I don't have a nice Scriptural answer for why I believe it is at best un-\\r\\nprofitable for Christians to engage in this type of activity - heresy hunting.\\\"\\r\\n \\r\\nMY REPLY...\\r\\nWhy do you call it \\\"heresy hunting\\\"?  \\\"Hunting\\\" implies it isn't readily\\r\\naccessible or available.  This movement is the fastest growing movement in\\r\\nChristendom.  Hagin has sold over 40 million books and booklets.  Hinn has sold\\r\\nmore books in the last couple of years than Swindoll and Dobson combined.  Fred\\r\\nPrice has the largest church in terms of seating capacity in the USA.  Doesn't\\r\\nsound like much \\\"hunting\\\" is needed.\\r\\n \\r\\nIt is Scriptural to expose doctrinal error.  I gave some verses to you before.\\r\\nMore can be given.  Most of the epistles were written due to error (doctrinal,\\r\\npractical) in the churches.  The early church had numerous councils to expose\\r\\nerror and heresy.  It's not a new thing.  Remember Luther?\\r\\n \\r\\nZane...\\r\\n\\\"I would like to point out though, that historically those who hunt heretics\\r\\noften end up causing a bigger mess than the heretics... but this is my un-\\r\\ndocumented opinion.\\\"\\r\\n \\r\\nMY REPLY...\\r\\n(1) If you can provide documentation, it would be appreciated.\\r\\n(2) Read Ephesians 4:11-16, esp. vss. 13 and 14 and tell me what causes\\r\\n    disunity and immaturity in the body.\\r\\n \\r\\nEPH 4:13-14 till we all come to the unity of the faith and of the knowledge of\\r\\nthe Son of God, to a perfect man, to the measure of the stature of the fullness\\r\\nof Christ; that we should no longer be children, tossed to and fro and carried\\r\\nabout with every wind of doctrine, by the trickery of men, in the cunning\\r\\ncraftiness of deceitful plotting....\\r\\n \\r\\nDisunity, contrary to popular opinion, isn't caused by exposing error; it's\\r\\ncaused by error.\\r\\n \\r\\nZane...\\r\\n\\\"There are many who probably give no place for seeing the Scriptures as\\r\\ndocumenting a Spiritual development or growth in its writers - but I would\\r\\nsuggest that the fiery Paul of the letter to the Galatians mellows and\\r\\nmatures into the one who loses all for the sake of Love in the End.\\\"\\r\\n \\r\\nMY REPLY...\\r\\nMost scholars believe Paul wrote 2 Timothy last.  Let's examine his admonitions\\r\\nto Tim to ascertain how mellow he had become...\\r\\n \\r\\n2TI 1:13-15 Hold fast the pattern of sound words which you have heard from me,\\r\\nin faith and love which are in Christ Jesus. That good thing which was\\r\\ncommitted to you, keep by the Holy Spirit who dwells in us. This you know, that\\r\\nall those in Asia have turned away from me, among whom are Phygellus and\\r\\nHermogenes.\\r\\n \\r\\n2TI 2:15-18 Be diligent to present yourself approved to God, a worker who does\\r\\nnot need to be ashamed, rightly dividing the word of truth. But shun profane\\r\\nand idle babblings, for they will increase to more ungodliness. And their\\r\\nmessage will spread like cancer. Hymenaeus and Philetus are of this sort, who\\r\\nhave strayed concerning the truth, saying that the resurrection is already\\r\\npast; and they overthrow the faith of some.\\r\\n \\r\\n2TI 2:24-26 And a servant of the Lord must not quarrel but be gentle to all,\\r\\nable to teach, patient, in humility correcting those who are in opposition, if\\r\\nGod perhaps will grant them repentance, so that they may know the truth, and\\r\\nthat they may come to their senses and escape the snare of the devil, having\\r\\nbeen taken captive by him to do his will.\\r\\n \\r\\n2TI 3:6-9 For of this sort are those who creep into households and make\\r\\ncaptives of gullible women loaded down with sins, led away by various lusts,\\r\\nalways learning and never able to come to the knowledge of the truth. Now as\\r\\nJannes and Jambres resisted Moses, so do these also resist the truth: men of\\r\\ncorrupt minds, disapproved concerning the faith; but they will progress no\\r\\nfurther, for their folly will be manifest to all, as theirs also was.\\r\\n \\r\\n2TI 3:12-17 Yes, and all who desire to live godly in Christ Jesus will suffer\\r\\npersecution. But evil men and impostors will grow worse and worse, deceiving\\r\\nand being deceived. But you must continue in the things which you have learned\\r\\nand been assured of, knowing from whom you have learned them, and that from\\r\\nchildhood you have known the Holy Scriptures, which are able to make you wise\\r\\nfor salvation through faith which is in Christ Jesus. All Scripture is given by\\r\\ninspiration of God, and is profitable for doctrine, for reproof, for\\r\\ncorrection, for instruction in righteousness, that the man of God may be\\r\\ncomplete, thoroughly equipped for every good work.\\r\\n \\r\\n2TI 4:2-5 Preach the word! Be ready in season and out of season. Convince,\\r\\nrebuke, exhort, with all longsuffering and teaching. For the time will come\\r\\nwhen they will not endure sound doctrine, but according to their own desires,\\r\\nbecause they have itching ears, they will heap up for themselves teachers; and\\r\\nthey will turn their ears away from the truth, and be turned aside to fables.\\r\\nBut you be watchful in all things, endure afflictions, do the work of an\\r\\nevangelist, fulfill your ministry.\\r\\n \\r\\n2TI 4:14-15 Alexander the coppersmith did me much harm. May the Lord repay him\\r\\naccording to his works. You also must beware of him, for he has greatly\\r\\nresisted our words.\\r\\n \\r\\nZane...\\r\\n\\\"The picture I have of Paul is not of one who goes out of his way to destroy\\r\\nthe ministry of wolves... but of one who teaches the sheep, with many tears,\\r\\nthe necessity of absolutely not allowing themselves to be transformed into\\r\\nwolves to protect themselves.\\\"\\r\\n \\r\\nMY REPLY...\\r\\nACT 20:26-31 \\\"Therefore I testify to you this day that I am innocent of the\\r\\nblood of all men. \\\"For I have not shunned to declare to you the whole counsel\\r\\nof God. \\\"Therefore take heed to yourselves and to all the flock, among which\\r\\nthe Holy Spirit has made you overseers, to shepherd the church of God which He\\r\\npurchased with His own blood. \\\"For I know this, that after my departure savage\\r\\nwolves will come in among you, not sparing the flock. \\\"Also from among\\r\\nyourselves men will rise up, speaking perverse things, to draw away the\\r\\ndisciples after themselves. \\\"Therefore watch, and remember that for three years\\r\\nI did not cease to warn everyone night and day with tears.\\r\\n \\r\\nZane...\\r\\n\\\"For all the warning Paul does, it is of note that he never once drops a name\\r\\nof a wolf....  - but I will admit he cries in his beard at the end over those\\r\\nwho have abandoned him - everyone in Asia wasn't it ?\\\"\\r\\n \\r\\nMY REPLY...\\r\\nPaul mentioned names...\\r\\n \\r\\n1TI 1:18-20 This charge I commit to you, son Timothy, according to the\\r\\nprophecies previously made concerning you, that by them you may wage the good\\r\\nwarfare, having faith and a good conscience, which some having rejected,\\r\\nconcerning the faith have suffered shipwreck, of whom are Hymenaeus and\\r\\nAlexander, whom I delivered to Satan that they may learn not to blaspheme.\\r\\n \\r\\n2TI 1:15 This you know, that all those in Asia have turned away from me, among\\r\\nwhom are Phygellus and Hermogenes.\\r\\n \\r\\n2TI 2:16-18 But shun profane and idle babblings, for they will increase to more\\r\\nungodliness. And their message will spread like cancer. Hymenaeus and Philetus\\r\\nare of this sort, who have strayed concerning the truth, saying that the\\r\\nresurrection is already past; and they overthrow the faith of some.\\r\\n \\r\\n2TI 4:10 for Demas has forsaken me, having loved this present world, and has\\r\\ndeparted for Thessalonica--Crescens for Galatia, Titus for Dalmatia.\\r\\n \\r\\n2TI 4:14-15 Alexander the coppersmith did me much harm. May the Lord repay him\\r\\naccording to his works. You also must beware of him, for he has greatly\\r\\nresisted our words.\\r\\n \\r\\nSo did John...\\r\\n \\r\\n3JO 1:9-10 I wrote to the church, but Diotrephes, who loves to have the\\r\\npreeminence among them, does not receive us. Therefore, if I come, I will call\\r\\nto mind his deeds which he does, prating against us with malicious words. And\\r\\nnot content with that, he himself does not receive the brethren, and forbids\\r\\nthose who wish to, putting them out of the church.\\r\\n \\r\\nJesus also singled out teachings and doctrines...\\r\\n \\r\\nREV 2:14-16 \\\"But I have a few things against you, because you have there those\\r\\nwho hold the doctrine of Balaam, who taught Balak to put a stumbling block\\r\\nbefore the children of Israel, to eat things sacrificed to idols, and to commit\\r\\nsexual immorality. \\\"Thus you also have those who hold the doctrine of the\\r\\nNicolaitans, which thing I hate. 'Repent, or else I will come to you quickly\\r\\nand will fight against them with the sword of My mouth.\\r\\n \\r\\nREV 2:20-23 \\\"Nevertheless I have a few things against you, because you allow\\r\\nthat woman Jezebel, who calls herself a prophetess, to teach and seduce My\\r\\nservants to commit sexual immorality and eat things sacrificed to idols. \\\"And I\\r\\ngave her time to repent of her sexual immorality, and she did not repent.\\r\\n\\\"Indeed I will cast her into a sickbed, and those who commit adultery with her\\r\\ninto great tribulation, unless they repent of their deeds. \\\"I will kill her\\r\\nchildren with death, and all the churches shall know that I am He who searches\\r\\nthe minds and hearts. And I will give to each one of you according to your\\r\\nworks.\\r\\n \\r\\nZane...\\r\\n\\\"I question too, the purposes of those who write books and build ministries\\r\\non the faults - deliberate or otherwise - of others.  Maybe if they would\\r\\nwander around in the desert eating locust and honey, or barely cakes...with\\r\\nno worldly goods at stake, money to be made, or no reputations to maintain...\\r\\nI would question their motives - conscious or otherwise - less.\\\"\\r\\n \\r\\nMY REPLY...\\r\\nI won't comment on this because it deals with the intangible motives of others.\\r\\nBut even if they had bad motives, remember what Paul said...\\r\\n \\r\\nPHI 1:15-18 Some indeed preach Christ even from envy and strife, and some also\\r\\nfrom good will: The former preach Christ from selfish ambition, not sincerely,\\r\\nsupposing to add affliction to my chains; but the latter out of love, knowing\\r\\nthat I am appointed for the defense of the gospel. What then? Only that in\\r\\nevery way, whether in pretense or in truth, Christ is preached; and in this I\\r\\nrejoice, yes, and will rejoice.\\r\\n \\r\\nZane...\\r\\n\\\"If we want to be true to the admonitions of Scripture - many of which you\\r\\nlist - about protecting ourselves and the flock from wolves and winds of\\r\\ndoctrines, I suggest we start by allowing the wolf-program in our own noetic\\r\\npasture to be nailed to the Cross.\\\"\\r\\n \\r\\nMY REPLY...\\r\\nPlease explain.\\r\\n \\r\\nZane...\\r\\n\\\"Secondly, I suggest any heresy hunting be restricted to our own fellowships -\\r\\nwhich in the strict Scriptural sense is the local city-church.\\\"\\r\\n \\r\\nMY REPLY...\\r\\nIf heresy was not being propagated over the mass media, then it may not be\\r\\nneeded to go mass media with the exposure.  Unfortunately, heresy is being\\r\\ntaught not just in Copeland's church or Hagin's or Hinn's or Price's, but all\\r\\nover the radio, in print, etc.  No pastor or church leader knows what materials\\r\\nthe sheep are feeding on outside the church.  It's imperative that leadership\\r\\nbe made aware of this, and CIC does just that.\\r\\n \\r\\nAlso, let's examine a passage of Scripture...\\r\\n* EPH 4:11 And He Himself gave some to be apostles, some prophets, some\\r\\nevangelists, and some pastors and teachers,\\r\\n* EPH 4:12 for the equipping of the saints for the work of ministry, for the\\r\\nedifying of the body of Christ,\\r\\n \\r\\nThese ministry gifts that the Lord installs in the church are not just for one\\r\\nindividual church, but for \\\"the body of Christ\\\".\\r\\nPaul was an apostle - he traveled all over distilling his message.  He was also\\r\\na teacher -\\r\\n1CO 4:17 For this reason I have sent Timothy to you, who is my beloved and\\r\\nfaithful son in the Lord, who will remind you of my ways in Christ, as I teach\\r\\neverywhere in every church.\\r\\n1CO 7:17 But as God has distributed to each one, as the Lord has called each\\r\\none, so let him walk. And so I ordain in all the churches.\\r\\n \\r\\nAlso -\\r\\n1CO 12:28 And God has appointed these in the church: first apostles, second\\r\\nprophets, third teachers, after that miracles, then gifts of healings, helps,\\r\\nadministrations, varieties of tongues.\\r\\n \\r\\n* EPH 4:13 till we all come to the unity of the faith and of the knowledge of\\r\\nthe Son of God, to a perfect man, to the measure of the stature of the fullness\\r\\nof Christ;\\r\\n \\r\\nNotice that the \\\"Five-Fold\\\" ministries are going to be around \\\"till\\\" the church\\r\\nis in \\\"unity of the faith and of the knowledge of the Son of God to a perfect\\r\\nman\\\".  This, I believe will not occur fully until the Lord Jesus returns (see\\r\\n1Cor. 13:9-12).  But God wants the body to continue on maturing.  What hinders\\r\\nmaturity and unity of the body?\\r\\n \\r\\n* EPH 4:14 that we should no longer be children, tossed to and fro and carried\\r\\nabout with every wind of doctrine, by the trickery of men, in the cunning\\r\\ncraftiness of deceitful plotting,\\r\\n \\r\\nIt's clear that false doctrine, integrated into the church \\\"by the trickery of\\r\\nmen\\\" causes (1) disunity [the thing we are striving for] and (2) spiritual\\r\\nimmaturity - the church continues in spiritual childhood when Christians are\\r\\n\\\"tossed to and fro and carried about with every wind of doctrine\\\".\\r\\n \\r\\nThe \\\"Five -Fold\\\" ministry, of which there does not appear to be clear\\r\\nScriptural denominational boundaries (\\\"pastors\\\" appear responsible for their\\r\\nindividual flock), is to deal with these doctrines (when necessary) in their\\r\\nstruggle to equip the body.\\r\\n \\r\\nAll believers are called to do this to a degree...\\r\\nJUD 1:3-4 Beloved, while I was very diligent to write to you concerning our\\r\\ncommon salvation, I found it necessary to write to you exhorting you to contend\\r\\nearnestly for the faith which was once for all delivered to the saints. For\\r\\ncertain men have crept in unnoticed, who long ago were marked out for this\\r\\ncondemnation, ungodly men, who turn the grace of our God into lewdness and deny\\r\\nthe only Lord God and our Lord Jesus Christ.\\r\\n \\r\\nZane...\\r\\n\\\"If you'll notice, in Scripture the heresy hunters that went from Church to\\r\\nChurch and area to area, were the \\\"bad guys\\\" and they went after the \\\"good guy\\\"\\r\\nnamely Paul - who they considered to be the arch heretic.\\\"\\r\\n \\r\\nMY REPLY...\\r\\nThey were themselves heretics trying to discredit Paul who was preaching\\r\\ncontrary to what they taught!\\r\\n \\r\\nZane...\\r\\n\\\"Let's face it, the wolves are here for a reason.  And we are here for the\\r\\nReason.  And let's hope the wolves become sheep, and the sheep, lambs.\\\"\\r\\n \\r\\nMY REPLY...\\r\\nYes!\\r\\n2TI 2:24-26 And a servant of the Lord must not quarrel but be gentle to all,\\r\\n                                                           ~~~~~~~~~~~~~~~~\\r\\nable to teach, patient, in humility correcting those who are in opposition, if\\r\\n~~~~~~~~~~~~~~~~~~~~~~~~~~~~~~~~~~~~~~~~~~~~~~~~~~~~~~~~~~~~~~~~~~~~~~~~~~  ~~\\r\\nGod perhaps will grant them repentance, so that they may know the truth, and\\r\\n~~~~~~~~~~~~~~~~~~~~~~~~~~~~~~~~~~~~~~\\r\\nthat they may come to their senses and escape the snare of the devil, having\\r\\nbeen taken captive by him to do his will.\\r\\n \\r\\nAMEN!\\r\\n\\r\\n\\r\\nFrank\\r\\n-- \\r\\n\\\"If one wished to contend with Him, he could not answer Him one time out\\r\\n of a thousand.\\\"  JOB 9:3\\r\\n\",\n          \"Path: cantaloupe.srv.cs.cmu.edu!crabapple.srv.cs.cmu.edu!bb3.andrew.cmu.edu!news.sei.cmu.edu!cis.ohio-state.edu!zaphod.mps.ohio-state.edu!howland.reston.ans.net!agate!dog.ee.lbl.gov!network.ucsd.edu!munnari.oz.au!goanna!escargot!minyos.xx.rmit.OZ.AU!s872505\\r\\nFrom: s872505@minyos.xx.rmit.OZ.AU (Stephen Bokor)\\r\\nNewsgroups: comp.sys.ibm.pc.hardware\\r\\nSubject: Re: A: DRIVE WON'T BOOT\\r\\nMessage-ID: <1r2h10INNh3l@escargot.xx.rmit.OZ.AU>\\r\\nDate: 21 Apr 93 04:02:40 GMT\\r\\nReferences: <120922@netnews.upenn.edu>\\r\\nOrganization: Royal Melbourne Institute of Technology\\r\\nLines: 36\\r\\nNNTP-Posting-Host: minyos.xx.rmit.oz.au\\r\\n\\r\\nbalog@eniac.seas.upenn.edu (Eric J Balog) writes:\\r\\n\\r\\n>Hi!\\r\\n\\r\\n>I recently switched my 3.5\\\" drive to A:. The problem is, while I can read and\\r\\n>write to both the new A: and B: correctly, I can't boot from a floppy in A:.\\r\\n>I've checked the CMOS settings; it is set for Floppy Seek at Boot and Boot \\r\\n>Order A:,C:. \\r\\n\\r\\n>Once, I had a floppy that did not have the systems files on it in A:. I got a\\r\\n>message telling me to put a disk systems disk in the drive. It didn't work.\\r\\n>When I do have a systems disk in the A: drive, this is what happens:\\r\\n>1) Power-on and Memory Test;\\r\\n>2) A: light comes on\\r\\n>3) B: light comes on, followed by a short beep;\\r\\n>4) HD light comes on for an instant;\\r\\n>5) B: light comes on again, then nothing happens\\r\\n\\r\\n>The light goes off, there is no disk activity of any kind, and the screen \\r\\n>blanks. I can't even use ctrl-alt-del.\\r\\n\\r\\n>Any suggestions.\\r\\n\\r\\nHave you checked: 1/ The setting of drive A: to 1.44 M floppy.\\r\\n\\t\\t\\t\\t\\t\\t2/ The setting of drive B: to 1.2 M foppy.\\r\\n\\t\\t\\t\\t\\t\\t3/ The cable connecting the two drives to\\r\\n\\t\\t\\t\\t\\t\\tthe controller card (I can't remember which\\r\\n\\t\\t\\t\\t\\t\\ttwo wires are swapped, but they determine\\r\\n\\t\\t\\t\\t\\t\\twhich is drive A: & b:).\\r\\n\\r\\nI hope this is of some help :-)\\r\\n\\r\\n\\r\\nSteve\\r\\n\\r\\ns872505@minyos.xx.oz.au\\r\\n\",\n          \"Path: cantaloupe.srv.cs.cmu.edu!das-news.harvard.edu!noc.near.net!howland.reston.ans.net!ira.uka.de!news.dfn.de!mailgzrz.TU-Berlin.DE!news.netmbx.de!Germany.EU.net!rz.uni-hildesheim.de!agsc!erni.escape.de!s-link.escape.de!kwgeitz\\r\\nFrom: kwgeitz@s-link.escape.de (Karl-W. Geitz)\\r\\nNewsgroups: comp.os.ms-windows.misc\\r\\nSubject: Re: Data segments and memory model usage\\r\\nMessage-ID: <50phS3ykPo@s-link.escape.de>\\r\\nOrganization: -S-LINK-> Public Mailbox, Braunschweig, Germany\\r\\nDate: Fri, 14 May 1993 19:24:00 +0200\\r\\nLines: 36\\r\\n\\r\\nHello phjm, you wrote:\\r\\n\\r\\n> Firstly, does Windows 3.1 in 386 enhanced mode do anything special\\r\\n> with DLLs that have been compiled using the large memory model?\\r\\n\\r\\nNo.\\r\\n\\r\\n> We are being told that even in 386 enhanced mode Windows\\r\\n> will load DLLs into *real memory below 640K* and page-lock it.\\r\\n\\r\\nNo.\\r\\n\\r\\n> My second question relates to static data inside DLLs. Is there\\r\\n> any way at all to get multiple instances of the static data\\r\\n> segment (DGROUP?)?\\r\\n\\r\\nNo, but...\\r\\n\\r\\nYou can allocate real static data within code segments!\\r\\nWhen you need more dynamic memory you can allocate data on the global heap.\\r\\n\\r\\nYou can forget most of what was written about memory management. Under 3.1\\r\\nyou have paged virtual memory. You can lock every block without hampering\\r\\nthe memory manager. You can use far pointer everytime without always Lock/\\r\\nUnlocking the memory block.\\r\\n\\r\\nAn besides: DLL's are mostly just disguised EXE's, that happen to be called\\r\\nby another task.\\r\\n\\r\\n\\r\\nKarl.\\r\\n\\r\\n------------------------------------------------------------------------\\r\\nKarl-W.Geitz, Hauptstr.50, W-3320 Salzgitter 1, kwgeitz@s-link.escape.de\\r\\nTEL: +49-5300-6701 FAX: +49-5300-6499 CIS: 100010,204 BIX: geitzkwg\\r\\n## CrossPoint v2.1 ##\\r\\n\"\n        ],\n        \"semantic_type\": \"\",\n        \"description\": \"\"\n      }\n    },\n    {\n      \"column\": \"Labels\",\n      \"properties\": {\n        \"dtype\": \"category\",\n        \"num_unique_values\": 21,\n        \"samples\": [\n          \"alt.atheism\",\n          \"talk.politics.guns\",\n          \"sci.space\"\n        ],\n        \"semantic_type\": \"\",\n        \"description\": \"\"\n      }\n    }\n  ]\n}"
            }
          },
          "metadata": {},
          "execution_count": 67
        }
      ]
    },
    {
      "cell_type": "code",
      "source": [
        "# first 5 data from the dataset\n",
        "df.head()"
      ],
      "metadata": {
        "colab": {
          "base_uri": "https://localhost:8080/",
          "height": 206
        },
        "id": "BpEGFV_ix737",
        "outputId": "f8f3fa5e-9e08-4b6b-e2b1-e249567fc45b"
      },
      "execution_count": 68,
      "outputs": [
        {
          "output_type": "execute_result",
          "data": {
            "text/plain": [
              "   Unnamed: 0                                               Data       Labels\n",
              "0           0  Xref: cantaloupe.srv.cs.cmu.edu alt.atheism:49...  alt.atheism\n",
              "1           1  Xref: cantaloupe.srv.cs.cmu.edu alt.atheism:51...  alt.atheism\n",
              "2           2  Newsgroups: alt.atheism\\r\\nPath: cantaloupe.sr...  alt.atheism\n",
              "3           3  Xref: cantaloupe.srv.cs.cmu.edu alt.atheism:51...  alt.atheism\n",
              "4           4  Xref: cantaloupe.srv.cs.cmu.edu alt.atheism:51...  alt.atheism"
            ],
            "text/html": [
              "\n",
              "  <div id=\"df-30b209ad-2040-4d61-b805-8189b480255e\" class=\"colab-df-container\">\n",
              "    <div>\n",
              "<style scoped>\n",
              "    .dataframe tbody tr th:only-of-type {\n",
              "        vertical-align: middle;\n",
              "    }\n",
              "\n",
              "    .dataframe tbody tr th {\n",
              "        vertical-align: top;\n",
              "    }\n",
              "\n",
              "    .dataframe thead th {\n",
              "        text-align: right;\n",
              "    }\n",
              "</style>\n",
              "<table border=\"1\" class=\"dataframe\">\n",
              "  <thead>\n",
              "    <tr style=\"text-align: right;\">\n",
              "      <th></th>\n",
              "      <th>Unnamed: 0</th>\n",
              "      <th>Data</th>\n",
              "      <th>Labels</th>\n",
              "    </tr>\n",
              "  </thead>\n",
              "  <tbody>\n",
              "    <tr>\n",
              "      <th>0</th>\n",
              "      <td>0</td>\n",
              "      <td>Xref: cantaloupe.srv.cs.cmu.edu alt.atheism:49...</td>\n",
              "      <td>alt.atheism</td>\n",
              "    </tr>\n",
              "    <tr>\n",
              "      <th>1</th>\n",
              "      <td>1</td>\n",
              "      <td>Xref: cantaloupe.srv.cs.cmu.edu alt.atheism:51...</td>\n",
              "      <td>alt.atheism</td>\n",
              "    </tr>\n",
              "    <tr>\n",
              "      <th>2</th>\n",
              "      <td>2</td>\n",
              "      <td>Newsgroups: alt.atheism\\r\\nPath: cantaloupe.sr...</td>\n",
              "      <td>alt.atheism</td>\n",
              "    </tr>\n",
              "    <tr>\n",
              "      <th>3</th>\n",
              "      <td>3</td>\n",
              "      <td>Xref: cantaloupe.srv.cs.cmu.edu alt.atheism:51...</td>\n",
              "      <td>alt.atheism</td>\n",
              "    </tr>\n",
              "    <tr>\n",
              "      <th>4</th>\n",
              "      <td>4</td>\n",
              "      <td>Xref: cantaloupe.srv.cs.cmu.edu alt.atheism:51...</td>\n",
              "      <td>alt.atheism</td>\n",
              "    </tr>\n",
              "  </tbody>\n",
              "</table>\n",
              "</div>\n",
              "    <div class=\"colab-df-buttons\">\n",
              "\n",
              "  <div class=\"colab-df-container\">\n",
              "    <button class=\"colab-df-convert\" onclick=\"convertToInteractive('df-30b209ad-2040-4d61-b805-8189b480255e')\"\n",
              "            title=\"Convert this dataframe to an interactive table.\"\n",
              "            style=\"display:none;\">\n",
              "\n",
              "  <svg xmlns=\"http://www.w3.org/2000/svg\" height=\"24px\" viewBox=\"0 -960 960 960\">\n",
              "    <path d=\"M120-120v-720h720v720H120Zm60-500h600v-160H180v160Zm220 220h160v-160H400v160Zm0 220h160v-160H400v160ZM180-400h160v-160H180v160Zm440 0h160v-160H620v160ZM180-180h160v-160H180v160Zm440 0h160v-160H620v160Z\"/>\n",
              "  </svg>\n",
              "    </button>\n",
              "\n",
              "  <style>\n",
              "    .colab-df-container {\n",
              "      display:flex;\n",
              "      gap: 12px;\n",
              "    }\n",
              "\n",
              "    .colab-df-convert {\n",
              "      background-color: #E8F0FE;\n",
              "      border: none;\n",
              "      border-radius: 50%;\n",
              "      cursor: pointer;\n",
              "      display: none;\n",
              "      fill: #1967D2;\n",
              "      height: 32px;\n",
              "      padding: 0 0 0 0;\n",
              "      width: 32px;\n",
              "    }\n",
              "\n",
              "    .colab-df-convert:hover {\n",
              "      background-color: #E2EBFA;\n",
              "      box-shadow: 0px 1px 2px rgba(60, 64, 67, 0.3), 0px 1px 3px 1px rgba(60, 64, 67, 0.15);\n",
              "      fill: #174EA6;\n",
              "    }\n",
              "\n",
              "    .colab-df-buttons div {\n",
              "      margin-bottom: 4px;\n",
              "    }\n",
              "\n",
              "    [theme=dark] .colab-df-convert {\n",
              "      background-color: #3B4455;\n",
              "      fill: #D2E3FC;\n",
              "    }\n",
              "\n",
              "    [theme=dark] .colab-df-convert:hover {\n",
              "      background-color: #434B5C;\n",
              "      box-shadow: 0px 1px 3px 1px rgba(0, 0, 0, 0.15);\n",
              "      filter: drop-shadow(0px 1px 2px rgba(0, 0, 0, 0.3));\n",
              "      fill: #FFFFFF;\n",
              "    }\n",
              "  </style>\n",
              "\n",
              "    <script>\n",
              "      const buttonEl =\n",
              "        document.querySelector('#df-30b209ad-2040-4d61-b805-8189b480255e button.colab-df-convert');\n",
              "      buttonEl.style.display =\n",
              "        google.colab.kernel.accessAllowed ? 'block' : 'none';\n",
              "\n",
              "      async function convertToInteractive(key) {\n",
              "        const element = document.querySelector('#df-30b209ad-2040-4d61-b805-8189b480255e');\n",
              "        const dataTable =\n",
              "          await google.colab.kernel.invokeFunction('convertToInteractive',\n",
              "                                                    [key], {});\n",
              "        if (!dataTable) return;\n",
              "\n",
              "        const docLinkHtml = 'Like what you see? Visit the ' +\n",
              "          '<a target=\"_blank\" href=https://colab.research.google.com/notebooks/data_table.ipynb>data table notebook</a>'\n",
              "          + ' to learn more about interactive tables.';\n",
              "        element.innerHTML = '';\n",
              "        dataTable['output_type'] = 'display_data';\n",
              "        await google.colab.output.renderOutput(dataTable, element);\n",
              "        const docLink = document.createElement('div');\n",
              "        docLink.innerHTML = docLinkHtml;\n",
              "        element.appendChild(docLink);\n",
              "      }\n",
              "    </script>\n",
              "  </div>\n",
              "\n",
              "\n",
              "<div id=\"df-7df94888-5ebf-4ec5-9528-4bf6d284358a\">\n",
              "  <button class=\"colab-df-quickchart\" onclick=\"quickchart('df-7df94888-5ebf-4ec5-9528-4bf6d284358a')\"\n",
              "            title=\"Suggest charts\"\n",
              "            style=\"display:none;\">\n",
              "\n",
              "<svg xmlns=\"http://www.w3.org/2000/svg\" height=\"24px\"viewBox=\"0 0 24 24\"\n",
              "     width=\"24px\">\n",
              "    <g>\n",
              "        <path d=\"M19 3H5c-1.1 0-2 .9-2 2v14c0 1.1.9 2 2 2h14c1.1 0 2-.9 2-2V5c0-1.1-.9-2-2-2zM9 17H7v-7h2v7zm4 0h-2V7h2v10zm4 0h-2v-4h2v4z\"/>\n",
              "    </g>\n",
              "</svg>\n",
              "  </button>\n",
              "\n",
              "<style>\n",
              "  .colab-df-quickchart {\n",
              "      --bg-color: #E8F0FE;\n",
              "      --fill-color: #1967D2;\n",
              "      --hover-bg-color: #E2EBFA;\n",
              "      --hover-fill-color: #174EA6;\n",
              "      --disabled-fill-color: #AAA;\n",
              "      --disabled-bg-color: #DDD;\n",
              "  }\n",
              "\n",
              "  [theme=dark] .colab-df-quickchart {\n",
              "      --bg-color: #3B4455;\n",
              "      --fill-color: #D2E3FC;\n",
              "      --hover-bg-color: #434B5C;\n",
              "      --hover-fill-color: #FFFFFF;\n",
              "      --disabled-bg-color: #3B4455;\n",
              "      --disabled-fill-color: #666;\n",
              "  }\n",
              "\n",
              "  .colab-df-quickchart {\n",
              "    background-color: var(--bg-color);\n",
              "    border: none;\n",
              "    border-radius: 50%;\n",
              "    cursor: pointer;\n",
              "    display: none;\n",
              "    fill: var(--fill-color);\n",
              "    height: 32px;\n",
              "    padding: 0;\n",
              "    width: 32px;\n",
              "  }\n",
              "\n",
              "  .colab-df-quickchart:hover {\n",
              "    background-color: var(--hover-bg-color);\n",
              "    box-shadow: 0 1px 2px rgba(60, 64, 67, 0.3), 0 1px 3px 1px rgba(60, 64, 67, 0.15);\n",
              "    fill: var(--button-hover-fill-color);\n",
              "  }\n",
              "\n",
              "  .colab-df-quickchart-complete:disabled,\n",
              "  .colab-df-quickchart-complete:disabled:hover {\n",
              "    background-color: var(--disabled-bg-color);\n",
              "    fill: var(--disabled-fill-color);\n",
              "    box-shadow: none;\n",
              "  }\n",
              "\n",
              "  .colab-df-spinner {\n",
              "    border: 2px solid var(--fill-color);\n",
              "    border-color: transparent;\n",
              "    border-bottom-color: var(--fill-color);\n",
              "    animation:\n",
              "      spin 1s steps(1) infinite;\n",
              "  }\n",
              "\n",
              "  @keyframes spin {\n",
              "    0% {\n",
              "      border-color: transparent;\n",
              "      border-bottom-color: var(--fill-color);\n",
              "      border-left-color: var(--fill-color);\n",
              "    }\n",
              "    20% {\n",
              "      border-color: transparent;\n",
              "      border-left-color: var(--fill-color);\n",
              "      border-top-color: var(--fill-color);\n",
              "    }\n",
              "    30% {\n",
              "      border-color: transparent;\n",
              "      border-left-color: var(--fill-color);\n",
              "      border-top-color: var(--fill-color);\n",
              "      border-right-color: var(--fill-color);\n",
              "    }\n",
              "    40% {\n",
              "      border-color: transparent;\n",
              "      border-right-color: var(--fill-color);\n",
              "      border-top-color: var(--fill-color);\n",
              "    }\n",
              "    60% {\n",
              "      border-color: transparent;\n",
              "      border-right-color: var(--fill-color);\n",
              "    }\n",
              "    80% {\n",
              "      border-color: transparent;\n",
              "      border-right-color: var(--fill-color);\n",
              "      border-bottom-color: var(--fill-color);\n",
              "    }\n",
              "    90% {\n",
              "      border-color: transparent;\n",
              "      border-bottom-color: var(--fill-color);\n",
              "    }\n",
              "  }\n",
              "</style>\n",
              "\n",
              "  <script>\n",
              "    async function quickchart(key) {\n",
              "      const quickchartButtonEl =\n",
              "        document.querySelector('#' + key + ' button');\n",
              "      quickchartButtonEl.disabled = true;  // To prevent multiple clicks.\n",
              "      quickchartButtonEl.classList.add('colab-df-spinner');\n",
              "      try {\n",
              "        const charts = await google.colab.kernel.invokeFunction(\n",
              "            'suggestCharts', [key], {});\n",
              "      } catch (error) {\n",
              "        console.error('Error during call to suggestCharts:', error);\n",
              "      }\n",
              "      quickchartButtonEl.classList.remove('colab-df-spinner');\n",
              "      quickchartButtonEl.classList.add('colab-df-quickchart-complete');\n",
              "    }\n",
              "    (() => {\n",
              "      let quickchartButtonEl =\n",
              "        document.querySelector('#df-7df94888-5ebf-4ec5-9528-4bf6d284358a button');\n",
              "      quickchartButtonEl.style.display =\n",
              "        google.colab.kernel.accessAllowed ? 'block' : 'none';\n",
              "    })();\n",
              "  </script>\n",
              "</div>\n",
              "\n",
              "    </div>\n",
              "  </div>\n"
            ],
            "application/vnd.google.colaboratory.intrinsic+json": {
              "type": "dataframe",
              "variable_name": "df",
              "summary": "{\n  \"name\": \"df\",\n  \"rows\": 19997,\n  \"fields\": [\n    {\n      \"column\": \"Unnamed: 0\",\n      \"properties\": {\n        \"dtype\": \"number\",\n        \"std\": 5772,\n        \"min\": 0,\n        \"max\": 19996,\n        \"num_unique_values\": 19997,\n        \"samples\": [\n          10747,\n          4949,\n          3352\n        ],\n        \"semantic_type\": \"\",\n        \"description\": \"\"\n      }\n    },\n    {\n      \"column\": \"Data\",\n      \"properties\": {\n        \"dtype\": \"string\",\n        \"num_unique_values\": 19466,\n        \"samples\": [\n          \"Xref: cantaloupe.srv.cs.cmu.edu soc.religion.christian:21662\\r\\nPath: cantaloupe.srv.cs.cmu.edu!das-news.harvard.edu!noc.near.net!howland.reston.ans.net!agate!ames!pacbell.com!att-out!rutgers!igor.rutgers.edu!geneva.rutgers.edu!christian\\r\\nFrom: af664@yfn.ysu.edu (Frank DeCenso, Jr.)\\r\\nNewsgroups: soc.religion.christian\\r\\nSubject: Re: _Christianity In Crisis_\\r\\nMessage-ID: <May.18.00.54.53.1993.9551@geneva.rutgers.edu>\\r\\nDate: 18 May 93 04:54:54 GMT\\r\\nSender: hedrick@geneva.rutgers.edu\\r\\nOrganization: Youngstown State/Youngstown Free-Net\\r\\nLines: 371\\r\\nApproved: christian@aramis.rutgers.edu\\r\\n\\r\\nFrom Bit.listserv.christia\\r\\n\\r\\nZane writes...\\r\\n \\r\\nFrom: FACN34B@SAUPM00.BITNET (zane of dhahan)\\r\\n>Newsgroups: bit.listserv.christia\\r\\nSubject: Christianity in Crisis\\r\\nDate: Wed May 12 14:43:19 1993\\r\\n \\r\\n\\\"Frank, first of all, thanks for all of the great Scripture verses.  It\\r\\nwas a pleasure to read them.\\\"\\r\\n \\r\\nMY REPLY...\\r\\nYou are welcome, Zane.\\r\\n \\r\\nZane...\\r\\n\\\"I am sure nothing that I will say will change your mind about it... but I\\r\\nwould like to ask you if the book in question really does anything for you.\\r\\nI mean, were you all caught up in the word/faith thing, but now that you\\r\\nhave read the book you've been rescued from all of the error and pain that\\r\\nwill result in your Christian life?\\\"\\r\\n \\r\\nMY REPLY...\\r\\n(1) When I first became a Christian, I entered into the Word/Faith\\r\\n    movement.  It was easy.  I wasn't grounded in the Word of God and sound\\r\\n    doctrine.  When I visited Christian book stores, the cheapest books I\\r\\n    could find to buy were the .50 and $1.00 books by Hagin and others.\\r\\n    Consequently, I began receiving Hagin's monthly magazine (and they\\r\\n    still send it to me), and also Copeland's (also, still sent to me).\\r\\n    It wasn't until I read a booklet by Jimmy Swaggart called _Hyper Faith:\\r\\n    The New Gnosticism_ that I began to realize the teachings I were\\r\\n    partaking of were error.  I started reading the Bible more and studying\\r\\n    more.  Sure enough, Jimmy was right in many points.  As part of my\\r\\n    experience, I am alerting Christians, particularly new Christians, that\\r\\n    these teachings are heretical and they need to do as the Bereans did in\\r\\n    Acts 17:11 - check these teachings out with Scripture!\\r\\n \\r\\n(2) My brother in law was involved in a Word/Faith \\\"cult\\\" in my area - it's\\r\\n    leader is real good friends with Benny Hinn.  Rather then going into\\r\\n    much detail about this, suffice it to say he was deceived, mistreated, and\\r\\n    has now fallen into atheism.  I'm still praying for him (Phil. 1:6).\\r\\n \\r\\n(3) The assistant pastor at the church I teach adult Sunday School in has been\\r\\n    a `follower' of Copeland for 15 years.  He has thousands of tapes by the\\r\\n    Faith teachers.  In the class recently, I quoted several of the teachers'\\r\\n    heretical statements to his surprise.  Since then, I've been able to talk\\r\\n    to him at length about these issues.\\r\\n \\r\\n(4) The leader of the Women's Group at my church is a Benny Hinn `fan'.\\r\\n    Recently, I found that she has been lending _Good Morning, Holy Spirit_ to\\r\\n    women in the church.  That prompted my quotes in Sunday School, as well as\\r\\n    my lending CIC to people in the church.\\r\\n \\r\\nI'm well aware of the abuses and heresies perpetrated in this movement and\\r\\nhave an urgency in my heart and life to warn people about the heresies.\\r\\nWhat heresies?\\r\\n    A. Jesus became sin - took on the very nature of the devil, and became\\r\\n        one with him.\\r\\n    B. Jesus' death on the cross wasn't enough to atone.\\r\\n    C. Jesus was dragged to hell after His death, was beat and abused by\\r\\n        Satan and demons, thus finishing our atonement.  Satan was ruling\\r\\n        over Him there.\\r\\n    D. Jesus was `born-again' in hell.\\r\\n    E. Jesus died spiritually, lost His divinity, and reassumed it after\\r\\n        the resurrection.\\r\\n    F. We are gods.\\r\\n \\r\\nThese are heresies.  Documentation will be provided re: these teachings\\r\\nupon request.\\r\\n \\r\\nZane...\\r\\n\\\"Or what does it do for you?  Is it preventing you from going out and\\r\\njoining up with the word/faith movement which you'd been contemplating\\r\\njoining for so long, but now that you've read the book, you've been saved\\r\\nfrom all of that?\\\"\\r\\n \\r\\nMY REPLY...\\r\\nIt wasn't _Christianity In Crisis_ that helped me; it was a booklet by\\r\\nSwaggart that I mentioned above.  But CIC is MUCH, MUCH better - tremendous\\r\\ndocumentation and insights.\\r\\n \\r\\nZane...\\r\\n\\\"I don't have a nice Scriptural answer for why I believe it is at best un-\\r\\nprofitable for Christians to engage in this type of activity - heresy hunting.\\\"\\r\\n \\r\\nMY REPLY...\\r\\nWhy do you call it \\\"heresy hunting\\\"?  \\\"Hunting\\\" implies it isn't readily\\r\\naccessible or available.  This movement is the fastest growing movement in\\r\\nChristendom.  Hagin has sold over 40 million books and booklets.  Hinn has sold\\r\\nmore books in the last couple of years than Swindoll and Dobson combined.  Fred\\r\\nPrice has the largest church in terms of seating capacity in the USA.  Doesn't\\r\\nsound like much \\\"hunting\\\" is needed.\\r\\n \\r\\nIt is Scriptural to expose doctrinal error.  I gave some verses to you before.\\r\\nMore can be given.  Most of the epistles were written due to error (doctrinal,\\r\\npractical) in the churches.  The early church had numerous councils to expose\\r\\nerror and heresy.  It's not a new thing.  Remember Luther?\\r\\n \\r\\nZane...\\r\\n\\\"I would like to point out though, that historically those who hunt heretics\\r\\noften end up causing a bigger mess than the heretics... but this is my un-\\r\\ndocumented opinion.\\\"\\r\\n \\r\\nMY REPLY...\\r\\n(1) If you can provide documentation, it would be appreciated.\\r\\n(2) Read Ephesians 4:11-16, esp. vss. 13 and 14 and tell me what causes\\r\\n    disunity and immaturity in the body.\\r\\n \\r\\nEPH 4:13-14 till we all come to the unity of the faith and of the knowledge of\\r\\nthe Son of God, to a perfect man, to the measure of the stature of the fullness\\r\\nof Christ; that we should no longer be children, tossed to and fro and carried\\r\\nabout with every wind of doctrine, by the trickery of men, in the cunning\\r\\ncraftiness of deceitful plotting....\\r\\n \\r\\nDisunity, contrary to popular opinion, isn't caused by exposing error; it's\\r\\ncaused by error.\\r\\n \\r\\nZane...\\r\\n\\\"There are many who probably give no place for seeing the Scriptures as\\r\\ndocumenting a Spiritual development or growth in its writers - but I would\\r\\nsuggest that the fiery Paul of the letter to the Galatians mellows and\\r\\nmatures into the one who loses all for the sake of Love in the End.\\\"\\r\\n \\r\\nMY REPLY...\\r\\nMost scholars believe Paul wrote 2 Timothy last.  Let's examine his admonitions\\r\\nto Tim to ascertain how mellow he had become...\\r\\n \\r\\n2TI 1:13-15 Hold fast the pattern of sound words which you have heard from me,\\r\\nin faith and love which are in Christ Jesus. That good thing which was\\r\\ncommitted to you, keep by the Holy Spirit who dwells in us. This you know, that\\r\\nall those in Asia have turned away from me, among whom are Phygellus and\\r\\nHermogenes.\\r\\n \\r\\n2TI 2:15-18 Be diligent to present yourself approved to God, a worker who does\\r\\nnot need to be ashamed, rightly dividing the word of truth. But shun profane\\r\\nand idle babblings, for they will increase to more ungodliness. And their\\r\\nmessage will spread like cancer. Hymenaeus and Philetus are of this sort, who\\r\\nhave strayed concerning the truth, saying that the resurrection is already\\r\\npast; and they overthrow the faith of some.\\r\\n \\r\\n2TI 2:24-26 And a servant of the Lord must not quarrel but be gentle to all,\\r\\nable to teach, patient, in humility correcting those who are in opposition, if\\r\\nGod perhaps will grant them repentance, so that they may know the truth, and\\r\\nthat they may come to their senses and escape the snare of the devil, having\\r\\nbeen taken captive by him to do his will.\\r\\n \\r\\n2TI 3:6-9 For of this sort are those who creep into households and make\\r\\ncaptives of gullible women loaded down with sins, led away by various lusts,\\r\\nalways learning and never able to come to the knowledge of the truth. Now as\\r\\nJannes and Jambres resisted Moses, so do these also resist the truth: men of\\r\\ncorrupt minds, disapproved concerning the faith; but they will progress no\\r\\nfurther, for their folly will be manifest to all, as theirs also was.\\r\\n \\r\\n2TI 3:12-17 Yes, and all who desire to live godly in Christ Jesus will suffer\\r\\npersecution. But evil men and impostors will grow worse and worse, deceiving\\r\\nand being deceived. But you must continue in the things which you have learned\\r\\nand been assured of, knowing from whom you have learned them, and that from\\r\\nchildhood you have known the Holy Scriptures, which are able to make you wise\\r\\nfor salvation through faith which is in Christ Jesus. All Scripture is given by\\r\\ninspiration of God, and is profitable for doctrine, for reproof, for\\r\\ncorrection, for instruction in righteousness, that the man of God may be\\r\\ncomplete, thoroughly equipped for every good work.\\r\\n \\r\\n2TI 4:2-5 Preach the word! Be ready in season and out of season. Convince,\\r\\nrebuke, exhort, with all longsuffering and teaching. For the time will come\\r\\nwhen they will not endure sound doctrine, but according to their own desires,\\r\\nbecause they have itching ears, they will heap up for themselves teachers; and\\r\\nthey will turn their ears away from the truth, and be turned aside to fables.\\r\\nBut you be watchful in all things, endure afflictions, do the work of an\\r\\nevangelist, fulfill your ministry.\\r\\n \\r\\n2TI 4:14-15 Alexander the coppersmith did me much harm. May the Lord repay him\\r\\naccording to his works. You also must beware of him, for he has greatly\\r\\nresisted our words.\\r\\n \\r\\nZane...\\r\\n\\\"The picture I have of Paul is not of one who goes out of his way to destroy\\r\\nthe ministry of wolves... but of one who teaches the sheep, with many tears,\\r\\nthe necessity of absolutely not allowing themselves to be transformed into\\r\\nwolves to protect themselves.\\\"\\r\\n \\r\\nMY REPLY...\\r\\nACT 20:26-31 \\\"Therefore I testify to you this day that I am innocent of the\\r\\nblood of all men. \\\"For I have not shunned to declare to you the whole counsel\\r\\nof God. \\\"Therefore take heed to yourselves and to all the flock, among which\\r\\nthe Holy Spirit has made you overseers, to shepherd the church of God which He\\r\\npurchased with His own blood. \\\"For I know this, that after my departure savage\\r\\nwolves will come in among you, not sparing the flock. \\\"Also from among\\r\\nyourselves men will rise up, speaking perverse things, to draw away the\\r\\ndisciples after themselves. \\\"Therefore watch, and remember that for three years\\r\\nI did not cease to warn everyone night and day with tears.\\r\\n \\r\\nZane...\\r\\n\\\"For all the warning Paul does, it is of note that he never once drops a name\\r\\nof a wolf....  - but I will admit he cries in his beard at the end over those\\r\\nwho have abandoned him - everyone in Asia wasn't it ?\\\"\\r\\n \\r\\nMY REPLY...\\r\\nPaul mentioned names...\\r\\n \\r\\n1TI 1:18-20 This charge I commit to you, son Timothy, according to the\\r\\nprophecies previously made concerning you, that by them you may wage the good\\r\\nwarfare, having faith and a good conscience, which some having rejected,\\r\\nconcerning the faith have suffered shipwreck, of whom are Hymenaeus and\\r\\nAlexander, whom I delivered to Satan that they may learn not to blaspheme.\\r\\n \\r\\n2TI 1:15 This you know, that all those in Asia have turned away from me, among\\r\\nwhom are Phygellus and Hermogenes.\\r\\n \\r\\n2TI 2:16-18 But shun profane and idle babblings, for they will increase to more\\r\\nungodliness. And their message will spread like cancer. Hymenaeus and Philetus\\r\\nare of this sort, who have strayed concerning the truth, saying that the\\r\\nresurrection is already past; and they overthrow the faith of some.\\r\\n \\r\\n2TI 4:10 for Demas has forsaken me, having loved this present world, and has\\r\\ndeparted for Thessalonica--Crescens for Galatia, Titus for Dalmatia.\\r\\n \\r\\n2TI 4:14-15 Alexander the coppersmith did me much harm. May the Lord repay him\\r\\naccording to his works. You also must beware of him, for he has greatly\\r\\nresisted our words.\\r\\n \\r\\nSo did John...\\r\\n \\r\\n3JO 1:9-10 I wrote to the church, but Diotrephes, who loves to have the\\r\\npreeminence among them, does not receive us. Therefore, if I come, I will call\\r\\nto mind his deeds which he does, prating against us with malicious words. And\\r\\nnot content with that, he himself does not receive the brethren, and forbids\\r\\nthose who wish to, putting them out of the church.\\r\\n \\r\\nJesus also singled out teachings and doctrines...\\r\\n \\r\\nREV 2:14-16 \\\"But I have a few things against you, because you have there those\\r\\nwho hold the doctrine of Balaam, who taught Balak to put a stumbling block\\r\\nbefore the children of Israel, to eat things sacrificed to idols, and to commit\\r\\nsexual immorality. \\\"Thus you also have those who hold the doctrine of the\\r\\nNicolaitans, which thing I hate. 'Repent, or else I will come to you quickly\\r\\nand will fight against them with the sword of My mouth.\\r\\n \\r\\nREV 2:20-23 \\\"Nevertheless I have a few things against you, because you allow\\r\\nthat woman Jezebel, who calls herself a prophetess, to teach and seduce My\\r\\nservants to commit sexual immorality and eat things sacrificed to idols. \\\"And I\\r\\ngave her time to repent of her sexual immorality, and she did not repent.\\r\\n\\\"Indeed I will cast her into a sickbed, and those who commit adultery with her\\r\\ninto great tribulation, unless they repent of their deeds. \\\"I will kill her\\r\\nchildren with death, and all the churches shall know that I am He who searches\\r\\nthe minds and hearts. And I will give to each one of you according to your\\r\\nworks.\\r\\n \\r\\nZane...\\r\\n\\\"I question too, the purposes of those who write books and build ministries\\r\\non the faults - deliberate or otherwise - of others.  Maybe if they would\\r\\nwander around in the desert eating locust and honey, or barely cakes...with\\r\\nno worldly goods at stake, money to be made, or no reputations to maintain...\\r\\nI would question their motives - conscious or otherwise - less.\\\"\\r\\n \\r\\nMY REPLY...\\r\\nI won't comment on this because it deals with the intangible motives of others.\\r\\nBut even if they had bad motives, remember what Paul said...\\r\\n \\r\\nPHI 1:15-18 Some indeed preach Christ even from envy and strife, and some also\\r\\nfrom good will: The former preach Christ from selfish ambition, not sincerely,\\r\\nsupposing to add affliction to my chains; but the latter out of love, knowing\\r\\nthat I am appointed for the defense of the gospel. What then? Only that in\\r\\nevery way, whether in pretense or in truth, Christ is preached; and in this I\\r\\nrejoice, yes, and will rejoice.\\r\\n \\r\\nZane...\\r\\n\\\"If we want to be true to the admonitions of Scripture - many of which you\\r\\nlist - about protecting ourselves and the flock from wolves and winds of\\r\\ndoctrines, I suggest we start by allowing the wolf-program in our own noetic\\r\\npasture to be nailed to the Cross.\\\"\\r\\n \\r\\nMY REPLY...\\r\\nPlease explain.\\r\\n \\r\\nZane...\\r\\n\\\"Secondly, I suggest any heresy hunting be restricted to our own fellowships -\\r\\nwhich in the strict Scriptural sense is the local city-church.\\\"\\r\\n \\r\\nMY REPLY...\\r\\nIf heresy was not being propagated over the mass media, then it may not be\\r\\nneeded to go mass media with the exposure.  Unfortunately, heresy is being\\r\\ntaught not just in Copeland's church or Hagin's or Hinn's or Price's, but all\\r\\nover the radio, in print, etc.  No pastor or church leader knows what materials\\r\\nthe sheep are feeding on outside the church.  It's imperative that leadership\\r\\nbe made aware of this, and CIC does just that.\\r\\n \\r\\nAlso, let's examine a passage of Scripture...\\r\\n* EPH 4:11 And He Himself gave some to be apostles, some prophets, some\\r\\nevangelists, and some pastors and teachers,\\r\\n* EPH 4:12 for the equipping of the saints for the work of ministry, for the\\r\\nedifying of the body of Christ,\\r\\n \\r\\nThese ministry gifts that the Lord installs in the church are not just for one\\r\\nindividual church, but for \\\"the body of Christ\\\".\\r\\nPaul was an apostle - he traveled all over distilling his message.  He was also\\r\\na teacher -\\r\\n1CO 4:17 For this reason I have sent Timothy to you, who is my beloved and\\r\\nfaithful son in the Lord, who will remind you of my ways in Christ, as I teach\\r\\neverywhere in every church.\\r\\n1CO 7:17 But as God has distributed to each one, as the Lord has called each\\r\\none, so let him walk. And so I ordain in all the churches.\\r\\n \\r\\nAlso -\\r\\n1CO 12:28 And God has appointed these in the church: first apostles, second\\r\\nprophets, third teachers, after that miracles, then gifts of healings, helps,\\r\\nadministrations, varieties of tongues.\\r\\n \\r\\n* EPH 4:13 till we all come to the unity of the faith and of the knowledge of\\r\\nthe Son of God, to a perfect man, to the measure of the stature of the fullness\\r\\nof Christ;\\r\\n \\r\\nNotice that the \\\"Five-Fold\\\" ministries are going to be around \\\"till\\\" the church\\r\\nis in \\\"unity of the faith and of the knowledge of the Son of God to a perfect\\r\\nman\\\".  This, I believe will not occur fully until the Lord Jesus returns (see\\r\\n1Cor. 13:9-12).  But God wants the body to continue on maturing.  What hinders\\r\\nmaturity and unity of the body?\\r\\n \\r\\n* EPH 4:14 that we should no longer be children, tossed to and fro and carried\\r\\nabout with every wind of doctrine, by the trickery of men, in the cunning\\r\\ncraftiness of deceitful plotting,\\r\\n \\r\\nIt's clear that false doctrine, integrated into the church \\\"by the trickery of\\r\\nmen\\\" causes (1) disunity [the thing we are striving for] and (2) spiritual\\r\\nimmaturity - the church continues in spiritual childhood when Christians are\\r\\n\\\"tossed to and fro and carried about with every wind of doctrine\\\".\\r\\n \\r\\nThe \\\"Five -Fold\\\" ministry, of which there does not appear to be clear\\r\\nScriptural denominational boundaries (\\\"pastors\\\" appear responsible for their\\r\\nindividual flock), is to deal with these doctrines (when necessary) in their\\r\\nstruggle to equip the body.\\r\\n \\r\\nAll believers are called to do this to a degree...\\r\\nJUD 1:3-4 Beloved, while I was very diligent to write to you concerning our\\r\\ncommon salvation, I found it necessary to write to you exhorting you to contend\\r\\nearnestly for the faith which was once for all delivered to the saints. For\\r\\ncertain men have crept in unnoticed, who long ago were marked out for this\\r\\ncondemnation, ungodly men, who turn the grace of our God into lewdness and deny\\r\\nthe only Lord God and our Lord Jesus Christ.\\r\\n \\r\\nZane...\\r\\n\\\"If you'll notice, in Scripture the heresy hunters that went from Church to\\r\\nChurch and area to area, were the \\\"bad guys\\\" and they went after the \\\"good guy\\\"\\r\\nnamely Paul - who they considered to be the arch heretic.\\\"\\r\\n \\r\\nMY REPLY...\\r\\nThey were themselves heretics trying to discredit Paul who was preaching\\r\\ncontrary to what they taught!\\r\\n \\r\\nZane...\\r\\n\\\"Let's face it, the wolves are here for a reason.  And we are here for the\\r\\nReason.  And let's hope the wolves become sheep, and the sheep, lambs.\\\"\\r\\n \\r\\nMY REPLY...\\r\\nYes!\\r\\n2TI 2:24-26 And a servant of the Lord must not quarrel but be gentle to all,\\r\\n                                                           ~~~~~~~~~~~~~~~~\\r\\nable to teach, patient, in humility correcting those who are in opposition, if\\r\\n~~~~~~~~~~~~~~~~~~~~~~~~~~~~~~~~~~~~~~~~~~~~~~~~~~~~~~~~~~~~~~~~~~~~~~~~~~  ~~\\r\\nGod perhaps will grant them repentance, so that they may know the truth, and\\r\\n~~~~~~~~~~~~~~~~~~~~~~~~~~~~~~~~~~~~~~\\r\\nthat they may come to their senses and escape the snare of the devil, having\\r\\nbeen taken captive by him to do his will.\\r\\n \\r\\nAMEN!\\r\\n\\r\\n\\r\\nFrank\\r\\n-- \\r\\n\\\"If one wished to contend with Him, he could not answer Him one time out\\r\\n of a thousand.\\\"  JOB 9:3\\r\\n\",\n          \"Path: cantaloupe.srv.cs.cmu.edu!crabapple.srv.cs.cmu.edu!bb3.andrew.cmu.edu!news.sei.cmu.edu!cis.ohio-state.edu!zaphod.mps.ohio-state.edu!howland.reston.ans.net!agate!dog.ee.lbl.gov!network.ucsd.edu!munnari.oz.au!goanna!escargot!minyos.xx.rmit.OZ.AU!s872505\\r\\nFrom: s872505@minyos.xx.rmit.OZ.AU (Stephen Bokor)\\r\\nNewsgroups: comp.sys.ibm.pc.hardware\\r\\nSubject: Re: A: DRIVE WON'T BOOT\\r\\nMessage-ID: <1r2h10INNh3l@escargot.xx.rmit.OZ.AU>\\r\\nDate: 21 Apr 93 04:02:40 GMT\\r\\nReferences: <120922@netnews.upenn.edu>\\r\\nOrganization: Royal Melbourne Institute of Technology\\r\\nLines: 36\\r\\nNNTP-Posting-Host: minyos.xx.rmit.oz.au\\r\\n\\r\\nbalog@eniac.seas.upenn.edu (Eric J Balog) writes:\\r\\n\\r\\n>Hi!\\r\\n\\r\\n>I recently switched my 3.5\\\" drive to A:. The problem is, while I can read and\\r\\n>write to both the new A: and B: correctly, I can't boot from a floppy in A:.\\r\\n>I've checked the CMOS settings; it is set for Floppy Seek at Boot and Boot \\r\\n>Order A:,C:. \\r\\n\\r\\n>Once, I had a floppy that did not have the systems files on it in A:. I got a\\r\\n>message telling me to put a disk systems disk in the drive. It didn't work.\\r\\n>When I do have a systems disk in the A: drive, this is what happens:\\r\\n>1) Power-on and Memory Test;\\r\\n>2) A: light comes on\\r\\n>3) B: light comes on, followed by a short beep;\\r\\n>4) HD light comes on for an instant;\\r\\n>5) B: light comes on again, then nothing happens\\r\\n\\r\\n>The light goes off, there is no disk activity of any kind, and the screen \\r\\n>blanks. I can't even use ctrl-alt-del.\\r\\n\\r\\n>Any suggestions.\\r\\n\\r\\nHave you checked: 1/ The setting of drive A: to 1.44 M floppy.\\r\\n\\t\\t\\t\\t\\t\\t2/ The setting of drive B: to 1.2 M foppy.\\r\\n\\t\\t\\t\\t\\t\\t3/ The cable connecting the two drives to\\r\\n\\t\\t\\t\\t\\t\\tthe controller card (I can't remember which\\r\\n\\t\\t\\t\\t\\t\\ttwo wires are swapped, but they determine\\r\\n\\t\\t\\t\\t\\t\\twhich is drive A: & b:).\\r\\n\\r\\nI hope this is of some help :-)\\r\\n\\r\\n\\r\\nSteve\\r\\n\\r\\ns872505@minyos.xx.oz.au\\r\\n\",\n          \"Path: cantaloupe.srv.cs.cmu.edu!das-news.harvard.edu!noc.near.net!howland.reston.ans.net!ira.uka.de!news.dfn.de!mailgzrz.TU-Berlin.DE!news.netmbx.de!Germany.EU.net!rz.uni-hildesheim.de!agsc!erni.escape.de!s-link.escape.de!kwgeitz\\r\\nFrom: kwgeitz@s-link.escape.de (Karl-W. Geitz)\\r\\nNewsgroups: comp.os.ms-windows.misc\\r\\nSubject: Re: Data segments and memory model usage\\r\\nMessage-ID: <50phS3ykPo@s-link.escape.de>\\r\\nOrganization: -S-LINK-> Public Mailbox, Braunschweig, Germany\\r\\nDate: Fri, 14 May 1993 19:24:00 +0200\\r\\nLines: 36\\r\\n\\r\\nHello phjm, you wrote:\\r\\n\\r\\n> Firstly, does Windows 3.1 in 386 enhanced mode do anything special\\r\\n> with DLLs that have been compiled using the large memory model?\\r\\n\\r\\nNo.\\r\\n\\r\\n> We are being told that even in 386 enhanced mode Windows\\r\\n> will load DLLs into *real memory below 640K* and page-lock it.\\r\\n\\r\\nNo.\\r\\n\\r\\n> My second question relates to static data inside DLLs. Is there\\r\\n> any way at all to get multiple instances of the static data\\r\\n> segment (DGROUP?)?\\r\\n\\r\\nNo, but...\\r\\n\\r\\nYou can allocate real static data within code segments!\\r\\nWhen you need more dynamic memory you can allocate data on the global heap.\\r\\n\\r\\nYou can forget most of what was written about memory management. Under 3.1\\r\\nyou have paged virtual memory. You can lock every block without hampering\\r\\nthe memory manager. You can use far pointer everytime without always Lock/\\r\\nUnlocking the memory block.\\r\\n\\r\\nAn besides: DLL's are mostly just disguised EXE's, that happen to be called\\r\\nby another task.\\r\\n\\r\\n\\r\\nKarl.\\r\\n\\r\\n------------------------------------------------------------------------\\r\\nKarl-W.Geitz, Hauptstr.50, W-3320 Salzgitter 1, kwgeitz@s-link.escape.de\\r\\nTEL: +49-5300-6701 FAX: +49-5300-6499 CIS: 100010,204 BIX: geitzkwg\\r\\n## CrossPoint v2.1 ##\\r\\n\"\n        ],\n        \"semantic_type\": \"\",\n        \"description\": \"\"\n      }\n    },\n    {\n      \"column\": \"Labels\",\n      \"properties\": {\n        \"dtype\": \"category\",\n        \"num_unique_values\": 21,\n        \"samples\": [\n          \"alt.atheism\",\n          \"talk.politics.guns\",\n          \"sci.space\"\n        ],\n        \"semantic_type\": \"\",\n        \"description\": \"\"\n      }\n    }\n  ]\n}"
            }
          },
          "metadata": {},
          "execution_count": 68
        }
      ]
    },
    {
      "cell_type": "code",
      "source": [
        "#checking null values\n",
        "df.isnull().sum()"
      ],
      "metadata": {
        "colab": {
          "base_uri": "https://localhost:8080/"
        },
        "id": "8zLacmHhyKnS",
        "outputId": "348b3f47-134c-47df-a648-60814c253005"
      },
      "execution_count": 69,
      "outputs": [
        {
          "output_type": "execute_result",
          "data": {
            "text/plain": [
              "Unnamed: 0    0\n",
              "Data          0\n",
              "Labels        0\n",
              "dtype: int64"
            ]
          },
          "metadata": {},
          "execution_count": 69
        }
      ]
    },
    {
      "cell_type": "code",
      "source": [
        "#creating a column for length of the data\n",
        "df['len']=df['Data'].apply(len)\n",
        "df"
      ],
      "metadata": {
        "colab": {
          "base_uri": "https://localhost:8080/",
          "height": 423
        },
        "id": "klQRLV6ez9MW",
        "outputId": "9c4b7a6f-9bde-45c3-df96-fe216a3996b9"
      },
      "execution_count": 70,
      "outputs": [
        {
          "output_type": "execute_result",
          "data": {
            "text/plain": [
              "       Unnamed: 0                                               Data  \\\n",
              "0               0  Xref: cantaloupe.srv.cs.cmu.edu alt.atheism:49...   \n",
              "1               1  Xref: cantaloupe.srv.cs.cmu.edu alt.atheism:51...   \n",
              "2               2  Newsgroups: alt.atheism\\r\\nPath: cantaloupe.sr...   \n",
              "3               3  Xref: cantaloupe.srv.cs.cmu.edu alt.atheism:51...   \n",
              "4               4  Xref: cantaloupe.srv.cs.cmu.edu alt.atheism:51...   \n",
              "...           ...                                                ...   \n",
              "19992       19992  Xref: cantaloupe.srv.cs.cmu.edu alt.atheism:54...   \n",
              "19993       19993  Xref: cantaloupe.srv.cs.cmu.edu alt.atheism:54...   \n",
              "19994       19994  Xref: cantaloupe.srv.cs.cmu.edu talk.religion....   \n",
              "19995       19995  Xref: cantaloupe.srv.cs.cmu.edu talk.religion....   \n",
              "19996       19996  Xref: cantaloupe.srv.cs.cmu.edu talk.abortion:...   \n",
              "\n",
              "                   Labels    len  \n",
              "0             alt.atheism  12731  \n",
              "1             alt.atheism  33193  \n",
              "2             alt.atheism   4654  \n",
              "3             alt.atheism   2108  \n",
              "4             alt.atheism   1375  \n",
              "...                   ...    ...  \n",
              "19992  talk.religion.misc   1838  \n",
              "19993  talk.religion.misc   2128  \n",
              "19994  talk.religion.misc   1650  \n",
              "19995  talk.religion.misc   2686  \n",
              "19996  talk.religion.misc   1390  \n",
              "\n",
              "[19997 rows x 4 columns]"
            ],
            "text/html": [
              "\n",
              "  <div id=\"df-1d8565e6-b546-44df-885b-b139ae0b2d6b\" class=\"colab-df-container\">\n",
              "    <div>\n",
              "<style scoped>\n",
              "    .dataframe tbody tr th:only-of-type {\n",
              "        vertical-align: middle;\n",
              "    }\n",
              "\n",
              "    .dataframe tbody tr th {\n",
              "        vertical-align: top;\n",
              "    }\n",
              "\n",
              "    .dataframe thead th {\n",
              "        text-align: right;\n",
              "    }\n",
              "</style>\n",
              "<table border=\"1\" class=\"dataframe\">\n",
              "  <thead>\n",
              "    <tr style=\"text-align: right;\">\n",
              "      <th></th>\n",
              "      <th>Unnamed: 0</th>\n",
              "      <th>Data</th>\n",
              "      <th>Labels</th>\n",
              "      <th>len</th>\n",
              "    </tr>\n",
              "  </thead>\n",
              "  <tbody>\n",
              "    <tr>\n",
              "      <th>0</th>\n",
              "      <td>0</td>\n",
              "      <td>Xref: cantaloupe.srv.cs.cmu.edu alt.atheism:49...</td>\n",
              "      <td>alt.atheism</td>\n",
              "      <td>12731</td>\n",
              "    </tr>\n",
              "    <tr>\n",
              "      <th>1</th>\n",
              "      <td>1</td>\n",
              "      <td>Xref: cantaloupe.srv.cs.cmu.edu alt.atheism:51...</td>\n",
              "      <td>alt.atheism</td>\n",
              "      <td>33193</td>\n",
              "    </tr>\n",
              "    <tr>\n",
              "      <th>2</th>\n",
              "      <td>2</td>\n",
              "      <td>Newsgroups: alt.atheism\\r\\nPath: cantaloupe.sr...</td>\n",
              "      <td>alt.atheism</td>\n",
              "      <td>4654</td>\n",
              "    </tr>\n",
              "    <tr>\n",
              "      <th>3</th>\n",
              "      <td>3</td>\n",
              "      <td>Xref: cantaloupe.srv.cs.cmu.edu alt.atheism:51...</td>\n",
              "      <td>alt.atheism</td>\n",
              "      <td>2108</td>\n",
              "    </tr>\n",
              "    <tr>\n",
              "      <th>4</th>\n",
              "      <td>4</td>\n",
              "      <td>Xref: cantaloupe.srv.cs.cmu.edu alt.atheism:51...</td>\n",
              "      <td>alt.atheism</td>\n",
              "      <td>1375</td>\n",
              "    </tr>\n",
              "    <tr>\n",
              "      <th>...</th>\n",
              "      <td>...</td>\n",
              "      <td>...</td>\n",
              "      <td>...</td>\n",
              "      <td>...</td>\n",
              "    </tr>\n",
              "    <tr>\n",
              "      <th>19992</th>\n",
              "      <td>19992</td>\n",
              "      <td>Xref: cantaloupe.srv.cs.cmu.edu alt.atheism:54...</td>\n",
              "      <td>talk.religion.misc</td>\n",
              "      <td>1838</td>\n",
              "    </tr>\n",
              "    <tr>\n",
              "      <th>19993</th>\n",
              "      <td>19993</td>\n",
              "      <td>Xref: cantaloupe.srv.cs.cmu.edu alt.atheism:54...</td>\n",
              "      <td>talk.religion.misc</td>\n",
              "      <td>2128</td>\n",
              "    </tr>\n",
              "    <tr>\n",
              "      <th>19994</th>\n",
              "      <td>19994</td>\n",
              "      <td>Xref: cantaloupe.srv.cs.cmu.edu talk.religion....</td>\n",
              "      <td>talk.religion.misc</td>\n",
              "      <td>1650</td>\n",
              "    </tr>\n",
              "    <tr>\n",
              "      <th>19995</th>\n",
              "      <td>19995</td>\n",
              "      <td>Xref: cantaloupe.srv.cs.cmu.edu talk.religion....</td>\n",
              "      <td>talk.religion.misc</td>\n",
              "      <td>2686</td>\n",
              "    </tr>\n",
              "    <tr>\n",
              "      <th>19996</th>\n",
              "      <td>19996</td>\n",
              "      <td>Xref: cantaloupe.srv.cs.cmu.edu talk.abortion:...</td>\n",
              "      <td>talk.religion.misc</td>\n",
              "      <td>1390</td>\n",
              "    </tr>\n",
              "  </tbody>\n",
              "</table>\n",
              "<p>19997 rows × 4 columns</p>\n",
              "</div>\n",
              "    <div class=\"colab-df-buttons\">\n",
              "\n",
              "  <div class=\"colab-df-container\">\n",
              "    <button class=\"colab-df-convert\" onclick=\"convertToInteractive('df-1d8565e6-b546-44df-885b-b139ae0b2d6b')\"\n",
              "            title=\"Convert this dataframe to an interactive table.\"\n",
              "            style=\"display:none;\">\n",
              "\n",
              "  <svg xmlns=\"http://www.w3.org/2000/svg\" height=\"24px\" viewBox=\"0 -960 960 960\">\n",
              "    <path d=\"M120-120v-720h720v720H120Zm60-500h600v-160H180v160Zm220 220h160v-160H400v160Zm0 220h160v-160H400v160ZM180-400h160v-160H180v160Zm440 0h160v-160H620v160ZM180-180h160v-160H180v160Zm440 0h160v-160H620v160Z\"/>\n",
              "  </svg>\n",
              "    </button>\n",
              "\n",
              "  <style>\n",
              "    .colab-df-container {\n",
              "      display:flex;\n",
              "      gap: 12px;\n",
              "    }\n",
              "\n",
              "    .colab-df-convert {\n",
              "      background-color: #E8F0FE;\n",
              "      border: none;\n",
              "      border-radius: 50%;\n",
              "      cursor: pointer;\n",
              "      display: none;\n",
              "      fill: #1967D2;\n",
              "      height: 32px;\n",
              "      padding: 0 0 0 0;\n",
              "      width: 32px;\n",
              "    }\n",
              "\n",
              "    .colab-df-convert:hover {\n",
              "      background-color: #E2EBFA;\n",
              "      box-shadow: 0px 1px 2px rgba(60, 64, 67, 0.3), 0px 1px 3px 1px rgba(60, 64, 67, 0.15);\n",
              "      fill: #174EA6;\n",
              "    }\n",
              "\n",
              "    .colab-df-buttons div {\n",
              "      margin-bottom: 4px;\n",
              "    }\n",
              "\n",
              "    [theme=dark] .colab-df-convert {\n",
              "      background-color: #3B4455;\n",
              "      fill: #D2E3FC;\n",
              "    }\n",
              "\n",
              "    [theme=dark] .colab-df-convert:hover {\n",
              "      background-color: #434B5C;\n",
              "      box-shadow: 0px 1px 3px 1px rgba(0, 0, 0, 0.15);\n",
              "      filter: drop-shadow(0px 1px 2px rgba(0, 0, 0, 0.3));\n",
              "      fill: #FFFFFF;\n",
              "    }\n",
              "  </style>\n",
              "\n",
              "    <script>\n",
              "      const buttonEl =\n",
              "        document.querySelector('#df-1d8565e6-b546-44df-885b-b139ae0b2d6b button.colab-df-convert');\n",
              "      buttonEl.style.display =\n",
              "        google.colab.kernel.accessAllowed ? 'block' : 'none';\n",
              "\n",
              "      async function convertToInteractive(key) {\n",
              "        const element = document.querySelector('#df-1d8565e6-b546-44df-885b-b139ae0b2d6b');\n",
              "        const dataTable =\n",
              "          await google.colab.kernel.invokeFunction('convertToInteractive',\n",
              "                                                    [key], {});\n",
              "        if (!dataTable) return;\n",
              "\n",
              "        const docLinkHtml = 'Like what you see? Visit the ' +\n",
              "          '<a target=\"_blank\" href=https://colab.research.google.com/notebooks/data_table.ipynb>data table notebook</a>'\n",
              "          + ' to learn more about interactive tables.';\n",
              "        element.innerHTML = '';\n",
              "        dataTable['output_type'] = 'display_data';\n",
              "        await google.colab.output.renderOutput(dataTable, element);\n",
              "        const docLink = document.createElement('div');\n",
              "        docLink.innerHTML = docLinkHtml;\n",
              "        element.appendChild(docLink);\n",
              "      }\n",
              "    </script>\n",
              "  </div>\n",
              "\n",
              "\n",
              "<div id=\"df-6a0fe8ab-5e95-4115-a701-16f251828c7b\">\n",
              "  <button class=\"colab-df-quickchart\" onclick=\"quickchart('df-6a0fe8ab-5e95-4115-a701-16f251828c7b')\"\n",
              "            title=\"Suggest charts\"\n",
              "            style=\"display:none;\">\n",
              "\n",
              "<svg xmlns=\"http://www.w3.org/2000/svg\" height=\"24px\"viewBox=\"0 0 24 24\"\n",
              "     width=\"24px\">\n",
              "    <g>\n",
              "        <path d=\"M19 3H5c-1.1 0-2 .9-2 2v14c0 1.1.9 2 2 2h14c1.1 0 2-.9 2-2V5c0-1.1-.9-2-2-2zM9 17H7v-7h2v7zm4 0h-2V7h2v10zm4 0h-2v-4h2v4z\"/>\n",
              "    </g>\n",
              "</svg>\n",
              "  </button>\n",
              "\n",
              "<style>\n",
              "  .colab-df-quickchart {\n",
              "      --bg-color: #E8F0FE;\n",
              "      --fill-color: #1967D2;\n",
              "      --hover-bg-color: #E2EBFA;\n",
              "      --hover-fill-color: #174EA6;\n",
              "      --disabled-fill-color: #AAA;\n",
              "      --disabled-bg-color: #DDD;\n",
              "  }\n",
              "\n",
              "  [theme=dark] .colab-df-quickchart {\n",
              "      --bg-color: #3B4455;\n",
              "      --fill-color: #D2E3FC;\n",
              "      --hover-bg-color: #434B5C;\n",
              "      --hover-fill-color: #FFFFFF;\n",
              "      --disabled-bg-color: #3B4455;\n",
              "      --disabled-fill-color: #666;\n",
              "  }\n",
              "\n",
              "  .colab-df-quickchart {\n",
              "    background-color: var(--bg-color);\n",
              "    border: none;\n",
              "    border-radius: 50%;\n",
              "    cursor: pointer;\n",
              "    display: none;\n",
              "    fill: var(--fill-color);\n",
              "    height: 32px;\n",
              "    padding: 0;\n",
              "    width: 32px;\n",
              "  }\n",
              "\n",
              "  .colab-df-quickchart:hover {\n",
              "    background-color: var(--hover-bg-color);\n",
              "    box-shadow: 0 1px 2px rgba(60, 64, 67, 0.3), 0 1px 3px 1px rgba(60, 64, 67, 0.15);\n",
              "    fill: var(--button-hover-fill-color);\n",
              "  }\n",
              "\n",
              "  .colab-df-quickchart-complete:disabled,\n",
              "  .colab-df-quickchart-complete:disabled:hover {\n",
              "    background-color: var(--disabled-bg-color);\n",
              "    fill: var(--disabled-fill-color);\n",
              "    box-shadow: none;\n",
              "  }\n",
              "\n",
              "  .colab-df-spinner {\n",
              "    border: 2px solid var(--fill-color);\n",
              "    border-color: transparent;\n",
              "    border-bottom-color: var(--fill-color);\n",
              "    animation:\n",
              "      spin 1s steps(1) infinite;\n",
              "  }\n",
              "\n",
              "  @keyframes spin {\n",
              "    0% {\n",
              "      border-color: transparent;\n",
              "      border-bottom-color: var(--fill-color);\n",
              "      border-left-color: var(--fill-color);\n",
              "    }\n",
              "    20% {\n",
              "      border-color: transparent;\n",
              "      border-left-color: var(--fill-color);\n",
              "      border-top-color: var(--fill-color);\n",
              "    }\n",
              "    30% {\n",
              "      border-color: transparent;\n",
              "      border-left-color: var(--fill-color);\n",
              "      border-top-color: var(--fill-color);\n",
              "      border-right-color: var(--fill-color);\n",
              "    }\n",
              "    40% {\n",
              "      border-color: transparent;\n",
              "      border-right-color: var(--fill-color);\n",
              "      border-top-color: var(--fill-color);\n",
              "    }\n",
              "    60% {\n",
              "      border-color: transparent;\n",
              "      border-right-color: var(--fill-color);\n",
              "    }\n",
              "    80% {\n",
              "      border-color: transparent;\n",
              "      border-right-color: var(--fill-color);\n",
              "      border-bottom-color: var(--fill-color);\n",
              "    }\n",
              "    90% {\n",
              "      border-color: transparent;\n",
              "      border-bottom-color: var(--fill-color);\n",
              "    }\n",
              "  }\n",
              "</style>\n",
              "\n",
              "  <script>\n",
              "    async function quickchart(key) {\n",
              "      const quickchartButtonEl =\n",
              "        document.querySelector('#' + key + ' button');\n",
              "      quickchartButtonEl.disabled = true;  // To prevent multiple clicks.\n",
              "      quickchartButtonEl.classList.add('colab-df-spinner');\n",
              "      try {\n",
              "        const charts = await google.colab.kernel.invokeFunction(\n",
              "            'suggestCharts', [key], {});\n",
              "      } catch (error) {\n",
              "        console.error('Error during call to suggestCharts:', error);\n",
              "      }\n",
              "      quickchartButtonEl.classList.remove('colab-df-spinner');\n",
              "      quickchartButtonEl.classList.add('colab-df-quickchart-complete');\n",
              "    }\n",
              "    (() => {\n",
              "      let quickchartButtonEl =\n",
              "        document.querySelector('#df-6a0fe8ab-5e95-4115-a701-16f251828c7b button');\n",
              "      quickchartButtonEl.style.display =\n",
              "        google.colab.kernel.accessAllowed ? 'block' : 'none';\n",
              "    })();\n",
              "  </script>\n",
              "</div>\n",
              "\n",
              "  <div id=\"id_4e4aea83-9881-48f9-a941-f227436e16d1\">\n",
              "    <style>\n",
              "      .colab-df-generate {\n",
              "        background-color: #E8F0FE;\n",
              "        border: none;\n",
              "        border-radius: 50%;\n",
              "        cursor: pointer;\n",
              "        display: none;\n",
              "        fill: #1967D2;\n",
              "        height: 32px;\n",
              "        padding: 0 0 0 0;\n",
              "        width: 32px;\n",
              "      }\n",
              "\n",
              "      .colab-df-generate:hover {\n",
              "        background-color: #E2EBFA;\n",
              "        box-shadow: 0px 1px 2px rgba(60, 64, 67, 0.3), 0px 1px 3px 1px rgba(60, 64, 67, 0.15);\n",
              "        fill: #174EA6;\n",
              "      }\n",
              "\n",
              "      [theme=dark] .colab-df-generate {\n",
              "        background-color: #3B4455;\n",
              "        fill: #D2E3FC;\n",
              "      }\n",
              "\n",
              "      [theme=dark] .colab-df-generate:hover {\n",
              "        background-color: #434B5C;\n",
              "        box-shadow: 0px 1px 3px 1px rgba(0, 0, 0, 0.15);\n",
              "        filter: drop-shadow(0px 1px 2px rgba(0, 0, 0, 0.3));\n",
              "        fill: #FFFFFF;\n",
              "      }\n",
              "    </style>\n",
              "    <button class=\"colab-df-generate\" onclick=\"generateWithVariable('df')\"\n",
              "            title=\"Generate code using this dataframe.\"\n",
              "            style=\"display:none;\">\n",
              "\n",
              "  <svg xmlns=\"http://www.w3.org/2000/svg\" height=\"24px\"viewBox=\"0 0 24 24\"\n",
              "       width=\"24px\">\n",
              "    <path d=\"M7,19H8.4L18.45,9,17,7.55,7,17.6ZM5,21V16.75L18.45,3.32a2,2,0,0,1,2.83,0l1.4,1.43a1.91,1.91,0,0,1,.58,1.4,1.91,1.91,0,0,1-.58,1.4L9.25,21ZM18.45,9,17,7.55Zm-12,3A5.31,5.31,0,0,0,4.9,8.1,5.31,5.31,0,0,0,1,6.5,5.31,5.31,0,0,0,4.9,4.9,5.31,5.31,0,0,0,6.5,1,5.31,5.31,0,0,0,8.1,4.9,5.31,5.31,0,0,0,12,6.5,5.46,5.46,0,0,0,6.5,12Z\"/>\n",
              "  </svg>\n",
              "    </button>\n",
              "    <script>\n",
              "      (() => {\n",
              "      const buttonEl =\n",
              "        document.querySelector('#id_4e4aea83-9881-48f9-a941-f227436e16d1 button.colab-df-generate');\n",
              "      buttonEl.style.display =\n",
              "        google.colab.kernel.accessAllowed ? 'block' : 'none';\n",
              "\n",
              "      buttonEl.onclick = () => {\n",
              "        google.colab.notebook.generateWithVariable('df');\n",
              "      }\n",
              "      })();\n",
              "    </script>\n",
              "  </div>\n",
              "\n",
              "    </div>\n",
              "  </div>\n"
            ],
            "application/vnd.google.colaboratory.intrinsic+json": {
              "type": "dataframe",
              "variable_name": "df",
              "summary": "{\n  \"name\": \"df\",\n  \"rows\": 19997,\n  \"fields\": [\n    {\n      \"column\": \"Unnamed: 0\",\n      \"properties\": {\n        \"dtype\": \"number\",\n        \"std\": 5772,\n        \"min\": 0,\n        \"max\": 19996,\n        \"num_unique_values\": 19997,\n        \"samples\": [\n          10747,\n          4949,\n          3352\n        ],\n        \"semantic_type\": \"\",\n        \"description\": \"\"\n      }\n    },\n    {\n      \"column\": \"Data\",\n      \"properties\": {\n        \"dtype\": \"string\",\n        \"num_unique_values\": 19466,\n        \"samples\": [\n          \"Xref: cantaloupe.srv.cs.cmu.edu soc.religion.christian:21662\\r\\nPath: cantaloupe.srv.cs.cmu.edu!das-news.harvard.edu!noc.near.net!howland.reston.ans.net!agate!ames!pacbell.com!att-out!rutgers!igor.rutgers.edu!geneva.rutgers.edu!christian\\r\\nFrom: af664@yfn.ysu.edu (Frank DeCenso, Jr.)\\r\\nNewsgroups: soc.religion.christian\\r\\nSubject: Re: _Christianity In Crisis_\\r\\nMessage-ID: <May.18.00.54.53.1993.9551@geneva.rutgers.edu>\\r\\nDate: 18 May 93 04:54:54 GMT\\r\\nSender: hedrick@geneva.rutgers.edu\\r\\nOrganization: Youngstown State/Youngstown Free-Net\\r\\nLines: 371\\r\\nApproved: christian@aramis.rutgers.edu\\r\\n\\r\\nFrom Bit.listserv.christia\\r\\n\\r\\nZane writes...\\r\\n \\r\\nFrom: FACN34B@SAUPM00.BITNET (zane of dhahan)\\r\\n>Newsgroups: bit.listserv.christia\\r\\nSubject: Christianity in Crisis\\r\\nDate: Wed May 12 14:43:19 1993\\r\\n \\r\\n\\\"Frank, first of all, thanks for all of the great Scripture verses.  It\\r\\nwas a pleasure to read them.\\\"\\r\\n \\r\\nMY REPLY...\\r\\nYou are welcome, Zane.\\r\\n \\r\\nZane...\\r\\n\\\"I am sure nothing that I will say will change your mind about it... but I\\r\\nwould like to ask you if the book in question really does anything for you.\\r\\nI mean, were you all caught up in the word/faith thing, but now that you\\r\\nhave read the book you've been rescued from all of the error and pain that\\r\\nwill result in your Christian life?\\\"\\r\\n \\r\\nMY REPLY...\\r\\n(1) When I first became a Christian, I entered into the Word/Faith\\r\\n    movement.  It was easy.  I wasn't grounded in the Word of God and sound\\r\\n    doctrine.  When I visited Christian book stores, the cheapest books I\\r\\n    could find to buy were the .50 and $1.00 books by Hagin and others.\\r\\n    Consequently, I began receiving Hagin's monthly magazine (and they\\r\\n    still send it to me), and also Copeland's (also, still sent to me).\\r\\n    It wasn't until I read a booklet by Jimmy Swaggart called _Hyper Faith:\\r\\n    The New Gnosticism_ that I began to realize the teachings I were\\r\\n    partaking of were error.  I started reading the Bible more and studying\\r\\n    more.  Sure enough, Jimmy was right in many points.  As part of my\\r\\n    experience, I am alerting Christians, particularly new Christians, that\\r\\n    these teachings are heretical and they need to do as the Bereans did in\\r\\n    Acts 17:11 - check these teachings out with Scripture!\\r\\n \\r\\n(2) My brother in law was involved in a Word/Faith \\\"cult\\\" in my area - it's\\r\\n    leader is real good friends with Benny Hinn.  Rather then going into\\r\\n    much detail about this, suffice it to say he was deceived, mistreated, and\\r\\n    has now fallen into atheism.  I'm still praying for him (Phil. 1:6).\\r\\n \\r\\n(3) The assistant pastor at the church I teach adult Sunday School in has been\\r\\n    a `follower' of Copeland for 15 years.  He has thousands of tapes by the\\r\\n    Faith teachers.  In the class recently, I quoted several of the teachers'\\r\\n    heretical statements to his surprise.  Since then, I've been able to talk\\r\\n    to him at length about these issues.\\r\\n \\r\\n(4) The leader of the Women's Group at my church is a Benny Hinn `fan'.\\r\\n    Recently, I found that she has been lending _Good Morning, Holy Spirit_ to\\r\\n    women in the church.  That prompted my quotes in Sunday School, as well as\\r\\n    my lending CIC to people in the church.\\r\\n \\r\\nI'm well aware of the abuses and heresies perpetrated in this movement and\\r\\nhave an urgency in my heart and life to warn people about the heresies.\\r\\nWhat heresies?\\r\\n    A. Jesus became sin - took on the very nature of the devil, and became\\r\\n        one with him.\\r\\n    B. Jesus' death on the cross wasn't enough to atone.\\r\\n    C. Jesus was dragged to hell after His death, was beat and abused by\\r\\n        Satan and demons, thus finishing our atonement.  Satan was ruling\\r\\n        over Him there.\\r\\n    D. Jesus was `born-again' in hell.\\r\\n    E. Jesus died spiritually, lost His divinity, and reassumed it after\\r\\n        the resurrection.\\r\\n    F. We are gods.\\r\\n \\r\\nThese are heresies.  Documentation will be provided re: these teachings\\r\\nupon request.\\r\\n \\r\\nZane...\\r\\n\\\"Or what does it do for you?  Is it preventing you from going out and\\r\\njoining up with the word/faith movement which you'd been contemplating\\r\\njoining for so long, but now that you've read the book, you've been saved\\r\\nfrom all of that?\\\"\\r\\n \\r\\nMY REPLY...\\r\\nIt wasn't _Christianity In Crisis_ that helped me; it was a booklet by\\r\\nSwaggart that I mentioned above.  But CIC is MUCH, MUCH better - tremendous\\r\\ndocumentation and insights.\\r\\n \\r\\nZane...\\r\\n\\\"I don't have a nice Scriptural answer for why I believe it is at best un-\\r\\nprofitable for Christians to engage in this type of activity - heresy hunting.\\\"\\r\\n \\r\\nMY REPLY...\\r\\nWhy do you call it \\\"heresy hunting\\\"?  \\\"Hunting\\\" implies it isn't readily\\r\\naccessible or available.  This movement is the fastest growing movement in\\r\\nChristendom.  Hagin has sold over 40 million books and booklets.  Hinn has sold\\r\\nmore books in the last couple of years than Swindoll and Dobson combined.  Fred\\r\\nPrice has the largest church in terms of seating capacity in the USA.  Doesn't\\r\\nsound like much \\\"hunting\\\" is needed.\\r\\n \\r\\nIt is Scriptural to expose doctrinal error.  I gave some verses to you before.\\r\\nMore can be given.  Most of the epistles were written due to error (doctrinal,\\r\\npractical) in the churches.  The early church had numerous councils to expose\\r\\nerror and heresy.  It's not a new thing.  Remember Luther?\\r\\n \\r\\nZane...\\r\\n\\\"I would like to point out though, that historically those who hunt heretics\\r\\noften end up causing a bigger mess than the heretics... but this is my un-\\r\\ndocumented opinion.\\\"\\r\\n \\r\\nMY REPLY...\\r\\n(1) If you can provide documentation, it would be appreciated.\\r\\n(2) Read Ephesians 4:11-16, esp. vss. 13 and 14 and tell me what causes\\r\\n    disunity and immaturity in the body.\\r\\n \\r\\nEPH 4:13-14 till we all come to the unity of the faith and of the knowledge of\\r\\nthe Son of God, to a perfect man, to the measure of the stature of the fullness\\r\\nof Christ; that we should no longer be children, tossed to and fro and carried\\r\\nabout with every wind of doctrine, by the trickery of men, in the cunning\\r\\ncraftiness of deceitful plotting....\\r\\n \\r\\nDisunity, contrary to popular opinion, isn't caused by exposing error; it's\\r\\ncaused by error.\\r\\n \\r\\nZane...\\r\\n\\\"There are many who probably give no place for seeing the Scriptures as\\r\\ndocumenting a Spiritual development or growth in its writers - but I would\\r\\nsuggest that the fiery Paul of the letter to the Galatians mellows and\\r\\nmatures into the one who loses all for the sake of Love in the End.\\\"\\r\\n \\r\\nMY REPLY...\\r\\nMost scholars believe Paul wrote 2 Timothy last.  Let's examine his admonitions\\r\\nto Tim to ascertain how mellow he had become...\\r\\n \\r\\n2TI 1:13-15 Hold fast the pattern of sound words which you have heard from me,\\r\\nin faith and love which are in Christ Jesus. That good thing which was\\r\\ncommitted to you, keep by the Holy Spirit who dwells in us. This you know, that\\r\\nall those in Asia have turned away from me, among whom are Phygellus and\\r\\nHermogenes.\\r\\n \\r\\n2TI 2:15-18 Be diligent to present yourself approved to God, a worker who does\\r\\nnot need to be ashamed, rightly dividing the word of truth. But shun profane\\r\\nand idle babblings, for they will increase to more ungodliness. And their\\r\\nmessage will spread like cancer. Hymenaeus and Philetus are of this sort, who\\r\\nhave strayed concerning the truth, saying that the resurrection is already\\r\\npast; and they overthrow the faith of some.\\r\\n \\r\\n2TI 2:24-26 And a servant of the Lord must not quarrel but be gentle to all,\\r\\nable to teach, patient, in humility correcting those who are in opposition, if\\r\\nGod perhaps will grant them repentance, so that they may know the truth, and\\r\\nthat they may come to their senses and escape the snare of the devil, having\\r\\nbeen taken captive by him to do his will.\\r\\n \\r\\n2TI 3:6-9 For of this sort are those who creep into households and make\\r\\ncaptives of gullible women loaded down with sins, led away by various lusts,\\r\\nalways learning and never able to come to the knowledge of the truth. Now as\\r\\nJannes and Jambres resisted Moses, so do these also resist the truth: men of\\r\\ncorrupt minds, disapproved concerning the faith; but they will progress no\\r\\nfurther, for their folly will be manifest to all, as theirs also was.\\r\\n \\r\\n2TI 3:12-17 Yes, and all who desire to live godly in Christ Jesus will suffer\\r\\npersecution. But evil men and impostors will grow worse and worse, deceiving\\r\\nand being deceived. But you must continue in the things which you have learned\\r\\nand been assured of, knowing from whom you have learned them, and that from\\r\\nchildhood you have known the Holy Scriptures, which are able to make you wise\\r\\nfor salvation through faith which is in Christ Jesus. All Scripture is given by\\r\\ninspiration of God, and is profitable for doctrine, for reproof, for\\r\\ncorrection, for instruction in righteousness, that the man of God may be\\r\\ncomplete, thoroughly equipped for every good work.\\r\\n \\r\\n2TI 4:2-5 Preach the word! Be ready in season and out of season. Convince,\\r\\nrebuke, exhort, with all longsuffering and teaching. For the time will come\\r\\nwhen they will not endure sound doctrine, but according to their own desires,\\r\\nbecause they have itching ears, they will heap up for themselves teachers; and\\r\\nthey will turn their ears away from the truth, and be turned aside to fables.\\r\\nBut you be watchful in all things, endure afflictions, do the work of an\\r\\nevangelist, fulfill your ministry.\\r\\n \\r\\n2TI 4:14-15 Alexander the coppersmith did me much harm. May the Lord repay him\\r\\naccording to his works. You also must beware of him, for he has greatly\\r\\nresisted our words.\\r\\n \\r\\nZane...\\r\\n\\\"The picture I have of Paul is not of one who goes out of his way to destroy\\r\\nthe ministry of wolves... but of one who teaches the sheep, with many tears,\\r\\nthe necessity of absolutely not allowing themselves to be transformed into\\r\\nwolves to protect themselves.\\\"\\r\\n \\r\\nMY REPLY...\\r\\nACT 20:26-31 \\\"Therefore I testify to you this day that I am innocent of the\\r\\nblood of all men. \\\"For I have not shunned to declare to you the whole counsel\\r\\nof God. \\\"Therefore take heed to yourselves and to all the flock, among which\\r\\nthe Holy Spirit has made you overseers, to shepherd the church of God which He\\r\\npurchased with His own blood. \\\"For I know this, that after my departure savage\\r\\nwolves will come in among you, not sparing the flock. \\\"Also from among\\r\\nyourselves men will rise up, speaking perverse things, to draw away the\\r\\ndisciples after themselves. \\\"Therefore watch, and remember that for three years\\r\\nI did not cease to warn everyone night and day with tears.\\r\\n \\r\\nZane...\\r\\n\\\"For all the warning Paul does, it is of note that he never once drops a name\\r\\nof a wolf....  - but I will admit he cries in his beard at the end over those\\r\\nwho have abandoned him - everyone in Asia wasn't it ?\\\"\\r\\n \\r\\nMY REPLY...\\r\\nPaul mentioned names...\\r\\n \\r\\n1TI 1:18-20 This charge I commit to you, son Timothy, according to the\\r\\nprophecies previously made concerning you, that by them you may wage the good\\r\\nwarfare, having faith and a good conscience, which some having rejected,\\r\\nconcerning the faith have suffered shipwreck, of whom are Hymenaeus and\\r\\nAlexander, whom I delivered to Satan that they may learn not to blaspheme.\\r\\n \\r\\n2TI 1:15 This you know, that all those in Asia have turned away from me, among\\r\\nwhom are Phygellus and Hermogenes.\\r\\n \\r\\n2TI 2:16-18 But shun profane and idle babblings, for they will increase to more\\r\\nungodliness. And their message will spread like cancer. Hymenaeus and Philetus\\r\\nare of this sort, who have strayed concerning the truth, saying that the\\r\\nresurrection is already past; and they overthrow the faith of some.\\r\\n \\r\\n2TI 4:10 for Demas has forsaken me, having loved this present world, and has\\r\\ndeparted for Thessalonica--Crescens for Galatia, Titus for Dalmatia.\\r\\n \\r\\n2TI 4:14-15 Alexander the coppersmith did me much harm. May the Lord repay him\\r\\naccording to his works. You also must beware of him, for he has greatly\\r\\nresisted our words.\\r\\n \\r\\nSo did John...\\r\\n \\r\\n3JO 1:9-10 I wrote to the church, but Diotrephes, who loves to have the\\r\\npreeminence among them, does not receive us. Therefore, if I come, I will call\\r\\nto mind his deeds which he does, prating against us with malicious words. And\\r\\nnot content with that, he himself does not receive the brethren, and forbids\\r\\nthose who wish to, putting them out of the church.\\r\\n \\r\\nJesus also singled out teachings and doctrines...\\r\\n \\r\\nREV 2:14-16 \\\"But I have a few things against you, because you have there those\\r\\nwho hold the doctrine of Balaam, who taught Balak to put a stumbling block\\r\\nbefore the children of Israel, to eat things sacrificed to idols, and to commit\\r\\nsexual immorality. \\\"Thus you also have those who hold the doctrine of the\\r\\nNicolaitans, which thing I hate. 'Repent, or else I will come to you quickly\\r\\nand will fight against them with the sword of My mouth.\\r\\n \\r\\nREV 2:20-23 \\\"Nevertheless I have a few things against you, because you allow\\r\\nthat woman Jezebel, who calls herself a prophetess, to teach and seduce My\\r\\nservants to commit sexual immorality and eat things sacrificed to idols. \\\"And I\\r\\ngave her time to repent of her sexual immorality, and she did not repent.\\r\\n\\\"Indeed I will cast her into a sickbed, and those who commit adultery with her\\r\\ninto great tribulation, unless they repent of their deeds. \\\"I will kill her\\r\\nchildren with death, and all the churches shall know that I am He who searches\\r\\nthe minds and hearts. And I will give to each one of you according to your\\r\\nworks.\\r\\n \\r\\nZane...\\r\\n\\\"I question too, the purposes of those who write books and build ministries\\r\\non the faults - deliberate or otherwise - of others.  Maybe if they would\\r\\nwander around in the desert eating locust and honey, or barely cakes...with\\r\\nno worldly goods at stake, money to be made, or no reputations to maintain...\\r\\nI would question their motives - conscious or otherwise - less.\\\"\\r\\n \\r\\nMY REPLY...\\r\\nI won't comment on this because it deals with the intangible motives of others.\\r\\nBut even if they had bad motives, remember what Paul said...\\r\\n \\r\\nPHI 1:15-18 Some indeed preach Christ even from envy and strife, and some also\\r\\nfrom good will: The former preach Christ from selfish ambition, not sincerely,\\r\\nsupposing to add affliction to my chains; but the latter out of love, knowing\\r\\nthat I am appointed for the defense of the gospel. What then? Only that in\\r\\nevery way, whether in pretense or in truth, Christ is preached; and in this I\\r\\nrejoice, yes, and will rejoice.\\r\\n \\r\\nZane...\\r\\n\\\"If we want to be true to the admonitions of Scripture - many of which you\\r\\nlist - about protecting ourselves and the flock from wolves and winds of\\r\\ndoctrines, I suggest we start by allowing the wolf-program in our own noetic\\r\\npasture to be nailed to the Cross.\\\"\\r\\n \\r\\nMY REPLY...\\r\\nPlease explain.\\r\\n \\r\\nZane...\\r\\n\\\"Secondly, I suggest any heresy hunting be restricted to our own fellowships -\\r\\nwhich in the strict Scriptural sense is the local city-church.\\\"\\r\\n \\r\\nMY REPLY...\\r\\nIf heresy was not being propagated over the mass media, then it may not be\\r\\nneeded to go mass media with the exposure.  Unfortunately, heresy is being\\r\\ntaught not just in Copeland's church or Hagin's or Hinn's or Price's, but all\\r\\nover the radio, in print, etc.  No pastor or church leader knows what materials\\r\\nthe sheep are feeding on outside the church.  It's imperative that leadership\\r\\nbe made aware of this, and CIC does just that.\\r\\n \\r\\nAlso, let's examine a passage of Scripture...\\r\\n* EPH 4:11 And He Himself gave some to be apostles, some prophets, some\\r\\nevangelists, and some pastors and teachers,\\r\\n* EPH 4:12 for the equipping of the saints for the work of ministry, for the\\r\\nedifying of the body of Christ,\\r\\n \\r\\nThese ministry gifts that the Lord installs in the church are not just for one\\r\\nindividual church, but for \\\"the body of Christ\\\".\\r\\nPaul was an apostle - he traveled all over distilling his message.  He was also\\r\\na teacher -\\r\\n1CO 4:17 For this reason I have sent Timothy to you, who is my beloved and\\r\\nfaithful son in the Lord, who will remind you of my ways in Christ, as I teach\\r\\neverywhere in every church.\\r\\n1CO 7:17 But as God has distributed to each one, as the Lord has called each\\r\\none, so let him walk. And so I ordain in all the churches.\\r\\n \\r\\nAlso -\\r\\n1CO 12:28 And God has appointed these in the church: first apostles, second\\r\\nprophets, third teachers, after that miracles, then gifts of healings, helps,\\r\\nadministrations, varieties of tongues.\\r\\n \\r\\n* EPH 4:13 till we all come to the unity of the faith and of the knowledge of\\r\\nthe Son of God, to a perfect man, to the measure of the stature of the fullness\\r\\nof Christ;\\r\\n \\r\\nNotice that the \\\"Five-Fold\\\" ministries are going to be around \\\"till\\\" the church\\r\\nis in \\\"unity of the faith and of the knowledge of the Son of God to a perfect\\r\\nman\\\".  This, I believe will not occur fully until the Lord Jesus returns (see\\r\\n1Cor. 13:9-12).  But God wants the body to continue on maturing.  What hinders\\r\\nmaturity and unity of the body?\\r\\n \\r\\n* EPH 4:14 that we should no longer be children, tossed to and fro and carried\\r\\nabout with every wind of doctrine, by the trickery of men, in the cunning\\r\\ncraftiness of deceitful plotting,\\r\\n \\r\\nIt's clear that false doctrine, integrated into the church \\\"by the trickery of\\r\\nmen\\\" causes (1) disunity [the thing we are striving for] and (2) spiritual\\r\\nimmaturity - the church continues in spiritual childhood when Christians are\\r\\n\\\"tossed to and fro and carried about with every wind of doctrine\\\".\\r\\n \\r\\nThe \\\"Five -Fold\\\" ministry, of which there does not appear to be clear\\r\\nScriptural denominational boundaries (\\\"pastors\\\" appear responsible for their\\r\\nindividual flock), is to deal with these doctrines (when necessary) in their\\r\\nstruggle to equip the body.\\r\\n \\r\\nAll believers are called to do this to a degree...\\r\\nJUD 1:3-4 Beloved, while I was very diligent to write to you concerning our\\r\\ncommon salvation, I found it necessary to write to you exhorting you to contend\\r\\nearnestly for the faith which was once for all delivered to the saints. For\\r\\ncertain men have crept in unnoticed, who long ago were marked out for this\\r\\ncondemnation, ungodly men, who turn the grace of our God into lewdness and deny\\r\\nthe only Lord God and our Lord Jesus Christ.\\r\\n \\r\\nZane...\\r\\n\\\"If you'll notice, in Scripture the heresy hunters that went from Church to\\r\\nChurch and area to area, were the \\\"bad guys\\\" and they went after the \\\"good guy\\\"\\r\\nnamely Paul - who they considered to be the arch heretic.\\\"\\r\\n \\r\\nMY REPLY...\\r\\nThey were themselves heretics trying to discredit Paul who was preaching\\r\\ncontrary to what they taught!\\r\\n \\r\\nZane...\\r\\n\\\"Let's face it, the wolves are here for a reason.  And we are here for the\\r\\nReason.  And let's hope the wolves become sheep, and the sheep, lambs.\\\"\\r\\n \\r\\nMY REPLY...\\r\\nYes!\\r\\n2TI 2:24-26 And a servant of the Lord must not quarrel but be gentle to all,\\r\\n                                                           ~~~~~~~~~~~~~~~~\\r\\nable to teach, patient, in humility correcting those who are in opposition, if\\r\\n~~~~~~~~~~~~~~~~~~~~~~~~~~~~~~~~~~~~~~~~~~~~~~~~~~~~~~~~~~~~~~~~~~~~~~~~~~  ~~\\r\\nGod perhaps will grant them repentance, so that they may know the truth, and\\r\\n~~~~~~~~~~~~~~~~~~~~~~~~~~~~~~~~~~~~~~\\r\\nthat they may come to their senses and escape the snare of the devil, having\\r\\nbeen taken captive by him to do his will.\\r\\n \\r\\nAMEN!\\r\\n\\r\\n\\r\\nFrank\\r\\n-- \\r\\n\\\"If one wished to contend with Him, he could not answer Him one time out\\r\\n of a thousand.\\\"  JOB 9:3\\r\\n\",\n          \"Path: cantaloupe.srv.cs.cmu.edu!crabapple.srv.cs.cmu.edu!bb3.andrew.cmu.edu!news.sei.cmu.edu!cis.ohio-state.edu!zaphod.mps.ohio-state.edu!howland.reston.ans.net!agate!dog.ee.lbl.gov!network.ucsd.edu!munnari.oz.au!goanna!escargot!minyos.xx.rmit.OZ.AU!s872505\\r\\nFrom: s872505@minyos.xx.rmit.OZ.AU (Stephen Bokor)\\r\\nNewsgroups: comp.sys.ibm.pc.hardware\\r\\nSubject: Re: A: DRIVE WON'T BOOT\\r\\nMessage-ID: <1r2h10INNh3l@escargot.xx.rmit.OZ.AU>\\r\\nDate: 21 Apr 93 04:02:40 GMT\\r\\nReferences: <120922@netnews.upenn.edu>\\r\\nOrganization: Royal Melbourne Institute of Technology\\r\\nLines: 36\\r\\nNNTP-Posting-Host: minyos.xx.rmit.oz.au\\r\\n\\r\\nbalog@eniac.seas.upenn.edu (Eric J Balog) writes:\\r\\n\\r\\n>Hi!\\r\\n\\r\\n>I recently switched my 3.5\\\" drive to A:. The problem is, while I can read and\\r\\n>write to both the new A: and B: correctly, I can't boot from a floppy in A:.\\r\\n>I've checked the CMOS settings; it is set for Floppy Seek at Boot and Boot \\r\\n>Order A:,C:. \\r\\n\\r\\n>Once, I had a floppy that did not have the systems files on it in A:. I got a\\r\\n>message telling me to put a disk systems disk in the drive. It didn't work.\\r\\n>When I do have a systems disk in the A: drive, this is what happens:\\r\\n>1) Power-on and Memory Test;\\r\\n>2) A: light comes on\\r\\n>3) B: light comes on, followed by a short beep;\\r\\n>4) HD light comes on for an instant;\\r\\n>5) B: light comes on again, then nothing happens\\r\\n\\r\\n>The light goes off, there is no disk activity of any kind, and the screen \\r\\n>blanks. I can't even use ctrl-alt-del.\\r\\n\\r\\n>Any suggestions.\\r\\n\\r\\nHave you checked: 1/ The setting of drive A: to 1.44 M floppy.\\r\\n\\t\\t\\t\\t\\t\\t2/ The setting of drive B: to 1.2 M foppy.\\r\\n\\t\\t\\t\\t\\t\\t3/ The cable connecting the two drives to\\r\\n\\t\\t\\t\\t\\t\\tthe controller card (I can't remember which\\r\\n\\t\\t\\t\\t\\t\\ttwo wires are swapped, but they determine\\r\\n\\t\\t\\t\\t\\t\\twhich is drive A: & b:).\\r\\n\\r\\nI hope this is of some help :-)\\r\\n\\r\\n\\r\\nSteve\\r\\n\\r\\ns872505@minyos.xx.oz.au\\r\\n\",\n          \"Path: cantaloupe.srv.cs.cmu.edu!das-news.harvard.edu!noc.near.net!howland.reston.ans.net!ira.uka.de!news.dfn.de!mailgzrz.TU-Berlin.DE!news.netmbx.de!Germany.EU.net!rz.uni-hildesheim.de!agsc!erni.escape.de!s-link.escape.de!kwgeitz\\r\\nFrom: kwgeitz@s-link.escape.de (Karl-W. Geitz)\\r\\nNewsgroups: comp.os.ms-windows.misc\\r\\nSubject: Re: Data segments and memory model usage\\r\\nMessage-ID: <50phS3ykPo@s-link.escape.de>\\r\\nOrganization: -S-LINK-> Public Mailbox, Braunschweig, Germany\\r\\nDate: Fri, 14 May 1993 19:24:00 +0200\\r\\nLines: 36\\r\\n\\r\\nHello phjm, you wrote:\\r\\n\\r\\n> Firstly, does Windows 3.1 in 386 enhanced mode do anything special\\r\\n> with DLLs that have been compiled using the large memory model?\\r\\n\\r\\nNo.\\r\\n\\r\\n> We are being told that even in 386 enhanced mode Windows\\r\\n> will load DLLs into *real memory below 640K* and page-lock it.\\r\\n\\r\\nNo.\\r\\n\\r\\n> My second question relates to static data inside DLLs. Is there\\r\\n> any way at all to get multiple instances of the static data\\r\\n> segment (DGROUP?)?\\r\\n\\r\\nNo, but...\\r\\n\\r\\nYou can allocate real static data within code segments!\\r\\nWhen you need more dynamic memory you can allocate data on the global heap.\\r\\n\\r\\nYou can forget most of what was written about memory management. Under 3.1\\r\\nyou have paged virtual memory. You can lock every block without hampering\\r\\nthe memory manager. You can use far pointer everytime without always Lock/\\r\\nUnlocking the memory block.\\r\\n\\r\\nAn besides: DLL's are mostly just disguised EXE's, that happen to be called\\r\\nby another task.\\r\\n\\r\\n\\r\\nKarl.\\r\\n\\r\\n------------------------------------------------------------------------\\r\\nKarl-W.Geitz, Hauptstr.50, W-3320 Salzgitter 1, kwgeitz@s-link.escape.de\\r\\nTEL: +49-5300-6701 FAX: +49-5300-6499 CIS: 100010,204 BIX: geitzkwg\\r\\n## CrossPoint v2.1 ##\\r\\n\"\n        ],\n        \"semantic_type\": \"\",\n        \"description\": \"\"\n      }\n    },\n    {\n      \"column\": \"Labels\",\n      \"properties\": {\n        \"dtype\": \"category\",\n        \"num_unique_values\": 21,\n        \"samples\": [\n          \"alt.atheism\",\n          \"talk.politics.guns\",\n          \"sci.space\"\n        ],\n        \"semantic_type\": \"\",\n        \"description\": \"\"\n      }\n    },\n    {\n      \"column\": \"len\",\n      \"properties\": {\n        \"dtype\": \"number\",\n        \"std\": 3990,\n        \"min\": 355,\n        \"max\": 163654,\n        \"num_unique_values\": 4628,\n        \"samples\": [\n          3283,\n          715,\n          2494\n        ],\n        \"semantic_type\": \"\",\n        \"description\": \"\"\n      }\n    }\n  ]\n}"
            }
          },
          "metadata": {},
          "execution_count": 70
        }
      ]
    },
    {
      "cell_type": "code",
      "source": [
        "df.hist(bins=50)"
      ],
      "metadata": {
        "colab": {
          "base_uri": "https://localhost:8080/",
          "height": 487
        },
        "id": "k8ksUYQR0HEO",
        "outputId": "5eaa89b3-098e-450a-df14-679cbc3fc346"
      },
      "execution_count": 71,
      "outputs": [
        {
          "output_type": "execute_result",
          "data": {
            "text/plain": [
              "array([[<Axes: title={'center': 'Unnamed: 0'}>,\n",
              "        <Axes: title={'center': 'len'}>]], dtype=object)"
            ]
          },
          "metadata": {},
          "execution_count": 71
        },
        {
          "output_type": "display_data",
          "data": {
            "text/plain": [
              "<Figure size 640x480 with 2 Axes>"
            ],
            "image/png": "[encoded data removed]"
          },
          "metadata": {}
        }
      ]
    },
    {
      "cell_type": "code",
      "source": [
        "df.hist('len',by='Labels',bins=50)"
      ],
      "metadata": {
        "colab": {
          "base_uri": "https://localhost:8080/",
          "height": 854
        },
        "id": "3dT7arT10UlU",
        "outputId": "72368e00-b932-4252-d1e5-7e2dbcde6389"
      },
      "execution_count": 72,
      "outputs": [
        {
          "output_type": "execute_result",
          "data": {
            "text/plain": [
              "array([[<Axes: title={'center': 'alt.atheism'}>,\n",
              "        <Axes: title={'center': 'alt.atheism\"'}>,\n",
              "        <Axes: title={'center': 'comp.graphics'}>,\n",
              "        <Axes: title={'center': 'comp.os.ms-windows.misc'}>,\n",
              "        <Axes: title={'center': 'comp.sys.ibm.pc.hardware'}>],\n",
              "       [<Axes: title={'center': 'comp.sys.mac.hardware'}>,\n",
              "        <Axes: title={'center': 'comp.windows.x'}>,\n",
              "        <Axes: title={'center': 'misc.forsale'}>,\n",
              "        <Axes: title={'center': 'rec.autos'}>,\n",
              "        <Axes: title={'center': 'rec.motorcycles'}>],\n",
              "       [<Axes: title={'center': 'rec.sport.baseball'}>,\n",
              "        <Axes: title={'center': 'rec.sport.hockey'}>,\n",
              "        <Axes: title={'center': 'sci.crypt'}>,\n",
              "        <Axes: title={'center': 'sci.electronics'}>,\n",
              "        <Axes: title={'center': 'sci.med'}>],\n",
              "       [<Axes: title={'center': 'sci.space'}>,\n",
              "        <Axes: title={'center': 'soc.religion.christian'}>,\n",
              "        <Axes: title={'center': 'talk.politics.guns'}>,\n",
              "        <Axes: title={'center': 'talk.politics.mideast'}>,\n",
              "        <Axes: title={'center': 'talk.politics.misc'}>],\n",
              "       [<Axes: title={'center': 'talk.religion.misc'}>, <Axes: >,\n",
              "        <Axes: >, <Axes: >, <Axes: >]], dtype=object)"
            ]
          },
          "metadata": {},
          "execution_count": 72
        },
        {
          "output_type": "display_data",
          "data": {
            "text/plain": [
              "<Figure size 640x480 with 25 Axes>"
            ],
            "image/png": "[encoded data removed]"
          },
          "metadata": {}
        }
      ]
    },
    {
      "cell_type": "code",
      "source": [
        "df['len'].describe()"
      ],
      "metadata": {
        "colab": {
          "base_uri": "https://localhost:8080/"
        },
        "id": "SAPzKBps0hW5",
        "outputId": "66bb90c0-263a-40c2-94d7-c53288618071"
      },
      "execution_count": 73,
      "outputs": [
        {
          "output_type": "execute_result",
          "data": {
            "text/plain": [
              "count     19997.000000\n",
              "mean       2356.917338\n",
              "std        3990.909014\n",
              "min         355.000000\n",
              "25%        1166.000000\n",
              "50%        1635.000000\n",
              "75%        2371.000000\n",
              "max      163654.000000\n",
              "Name: len, dtype: float64"
            ]
          },
          "metadata": {},
          "execution_count": 73
        }
      ]
    },
    {
      "cell_type": "code",
      "source": [
        "import nltk"
      ],
      "metadata": {
        "id": "6yWwcz_g0mDe"
      },
      "execution_count": 74,
      "outputs": []
    },
    {
      "cell_type": "code",
      "source": [
        "nltk.download('all')"
      ],
      "metadata": {
        "colab": {
          "base_uri": "https://localhost:8080/"
        },
        "id": "4nj2N4pa0rON",
        "outputId": "80ca19d7-9d81-4c60-8a28-2733e2786983"
      },
      "execution_count": 75,
      "outputs": [
        {
          "output_type": "stream",
          "name": "stderr",
          "text": [
            "[nltk_data] Downloading collection 'all'\n",
            "[nltk_data]    | \n",
            "[nltk_data]    | Downloading package abc to /root/nltk_data...\n",
            "[nltk_data]    |   Package abc is already up-to-date!\n",
            "[nltk_data]    | Downloading package alpino to /root/nltk_data...\n",
            "[nltk_data]    |   Package alpino is already up-to-date!\n",
            "[nltk_data]    | Downloading package averaged_perceptron_tagger to\n",
            "[nltk_data]    |     /root/nltk_data...\n",
            "[nltk_data]    |   Package averaged_perceptron_tagger is already up-\n",
            "[nltk_data]    |       to-date!\n",
            "[nltk_data]    | Downloading package averaged_perceptron_tagger_ru to\n",
            "[nltk_data]    |     /root/nltk_data...\n",
            "[nltk_data]    |   Package averaged_perceptron_tagger_ru is already\n",
            "[nltk_data]    |       up-to-date!\n",
            "[nltk_data]    | Downloading package basque_grammars to\n",
            "[nltk_data]    |     /root/nltk_data...\n",
            "[nltk_data]    |   Package basque_grammars is already up-to-date!\n",
            "[nltk_data]    | Downloading package bcp47 to /root/nltk_data...\n",
            "[nltk_data]    |   Package bcp47 is already up-to-date!\n",
            "[nltk_data]    | Downloading package biocreative_ppi to\n",
            "[nltk_data]    |     /root/nltk_data...\n",
            "[nltk_data]    |   Package biocreative_ppi is already up-to-date!\n",
            "[nltk_data]    | Downloading package bllip_wsj_no_aux to\n",
            "[nltk_data]    |     /root/nltk_data...\n",
            "[nltk_data]    |   Package bllip_wsj_no_aux is already up-to-date!\n",
            "[nltk_data]    | Downloading package book_grammars to\n",
            "[nltk_data]    |     /root/nltk_data...\n",
            "[nltk_data]    |   Package book_grammars is already up-to-date!\n",
            "[nltk_data]    | Downloading package brown to /root/nltk_data...\n",
            "[nltk_data]    |   Package brown is already up-to-date!\n",
            "[nltk_data]    | Downloading package brown_tei to /root/nltk_data...\n",
            "[nltk_data]    |   Package brown_tei is already up-to-date!\n",
            "[nltk_data]    | Downloading package cess_cat to /root/nltk_data...\n",
            "[nltk_data]    |   Package cess_cat is already up-to-date!\n",
            "[nltk_data]    | Downloading package cess_esp to /root/nltk_data...\n",
            "[nltk_data]    |   Package cess_esp is already up-to-date!\n",
            "[nltk_data]    | Downloading package chat80 to /root/nltk_data...\n",
            "[nltk_data]    |   Package chat80 is already up-to-date!\n",
            "[nltk_data]    | Downloading package city_database to\n",
            "[nltk_data]    |     /root/nltk_data...\n",
            "[nltk_data]    |   Package city_database is already up-to-date!\n",
            "[nltk_data]    | Downloading package cmudict to /root/nltk_data...\n",
            "[nltk_data]    |   Package cmudict is already up-to-date!\n",
            "[nltk_data]    | Downloading package comparative_sentences to\n",
            "[nltk_data]    |     /root/nltk_data...\n",
            "[nltk_data]    |   Package comparative_sentences is already up-to-\n",
            "[nltk_data]    |       date!\n",
            "[nltk_data]    | Downloading package comtrans to /root/nltk_data...\n",
            "[nltk_data]    |   Package comtrans is already up-to-date!\n",
            "[nltk_data]    | Downloading package conll2000 to /root/nltk_data...\n",
            "[nltk_data]    |   Package conll2000 is already up-to-date!\n",
            "[nltk_data]    | Downloading package conll2002 to /root/nltk_data...\n",
            "[nltk_data]    |   Package conll2002 is already up-to-date!\n",
            "[nltk_data]    | Downloading package conll2007 to /root/nltk_data...\n",
            "[nltk_data]    |   Package conll2007 is already up-to-date!\n",
            "[nltk_data]    | Downloading package crubadan to /root/nltk_data...\n",
            "[nltk_data]    |   Package crubadan is already up-to-date!\n",
            "[nltk_data]    | Downloading package dependency_treebank to\n",
            "[nltk_data]    |     /root/nltk_data...\n",
            "[nltk_data]    |   Package dependency_treebank is already up-to-date!\n",
            "[nltk_data]    | Downloading package dolch to /root/nltk_data...\n",
            "[nltk_data]    |   Package dolch is already up-to-date!\n",
            "[nltk_data]    | Downloading package europarl_raw to\n",
            "[nltk_data]    |     /root/nltk_data...\n",
            "[nltk_data]    |   Package europarl_raw is already up-to-date!\n",
            "[nltk_data]    | Downloading package extended_omw to\n",
            "[nltk_data]    |     /root/nltk_data...\n",
            "[nltk_data]    |   Package extended_omw is already up-to-date!\n",
            "[nltk_data]    | Downloading package floresta to /root/nltk_data...\n",
            "[nltk_data]    |   Package floresta is already up-to-date!\n",
            "[nltk_data]    | Downloading package framenet_v15 to\n",
            "[nltk_data]    |     /root/nltk_data...\n",
            "[nltk_data]    |   Package framenet_v15 is already up-to-date!\n",
            "[nltk_data]    | Downloading package framenet_v17 to\n",
            "[nltk_data]    |     /root/nltk_data...\n",
            "[nltk_data]    |   Package framenet_v17 is already up-to-date!\n",
            "[nltk_data]    | Downloading package gazetteers to /root/nltk_data...\n",
            "[nltk_data]    |   Package gazetteers is already up-to-date!\n",
            "[nltk_data]    | Downloading package genesis to /root/nltk_data...\n",
            "[nltk_data]    |   Package genesis is already up-to-date!\n",
            "[nltk_data]    | Downloading package gutenberg to /root/nltk_data...\n",
            "[nltk_data]    |   Package gutenberg is already up-to-date!\n",
            "[nltk_data]    | Downloading package ieer to /root/nltk_data...\n",
            "[nltk_data]    |   Package ieer is already up-to-date!\n",
            "[nltk_data]    | Downloading package inaugural to /root/nltk_data...\n",
            "[nltk_data]    |   Package inaugural is already up-to-date!\n",
            "[nltk_data]    | Downloading package indian to /root/nltk_data...\n",
            "[nltk_data]    |   Package indian is already up-to-date!\n",
            "[nltk_data]    | Downloading package jeita to /root/nltk_data...\n",
            "[nltk_data]    |   Package jeita is already up-to-date!\n",
            "[nltk_data]    | Downloading package kimmo to /root/nltk_data...\n",
            "[nltk_data]    |   Package kimmo is already up-to-date!\n",
            "[nltk_data]    | Downloading package knbc to /root/nltk_data...\n",
            "[nltk_data]    |   Package knbc is already up-to-date!\n",
            "[nltk_data]    | Downloading package large_grammars to\n",
            "[nltk_data]    |     /root/nltk_data...\n",
            "[nltk_data]    |   Package large_grammars is already up-to-date!\n",
            "[nltk_data]    | Downloading package lin_thesaurus to\n",
            "[nltk_data]    |     /root/nltk_data...\n",
            "[nltk_data]    |   Package lin_thesaurus is already up-to-date!\n",
            "[nltk_data]    | Downloading package mac_morpho to /root/nltk_data...\n",
            "[nltk_data]    |   Package mac_morpho is already up-to-date!\n",
            "[nltk_data]    | Downloading package machado to /root/nltk_data...\n",
            "[nltk_data]    |   Package machado is already up-to-date!\n",
            "[nltk_data]    | Downloading package masc_tagged to /root/nltk_data...\n",
            "[nltk_data]    |   Package masc_tagged is already up-to-date!\n",
            "[nltk_data]    | Downloading package maxent_ne_chunker to\n",
            "[nltk_data]    |     /root/nltk_data...\n",
            "[nltk_data]    |   Package maxent_ne_chunker is already up-to-date!\n",
            "[nltk_data]    | Downloading package maxent_treebank_pos_tagger to\n",
            "[nltk_data]    |     /root/nltk_data...\n",
            "[nltk_data]    |   Package maxent_treebank_pos_tagger is already up-\n",
            "[nltk_data]    |       to-date!\n",
            "[nltk_data]    | Downloading package moses_sample to\n",
            "[nltk_data]    |     /root/nltk_data...\n",
            "[nltk_data]    |   Package moses_sample is already up-to-date!\n",
            "[nltk_data]    | Downloading package movie_reviews to\n",
            "[nltk_data]    |     /root/nltk_data...\n",
            "[nltk_data]    |   Package movie_reviews is already up-to-date!\n",
            "[nltk_data]    | Downloading package mte_teip5 to /root/nltk_data...\n",
            "[nltk_data]    |   Package mte_teip5 is already up-to-date!\n",
            "[nltk_data]    | Downloading package mwa_ppdb to /root/nltk_data...\n",
            "[nltk_data]    |   Package mwa_ppdb is already up-to-date!\n",
            "[nltk_data]    | Downloading package names to /root/nltk_data...\n",
            "[nltk_data]    |   Package names is already up-to-date!\n",
            "[nltk_data]    | Downloading package nombank.1.0 to /root/nltk_data...\n",
            "[nltk_data]    |   Package nombank.1.0 is already up-to-date!\n",
            "[nltk_data]    | Downloading package nonbreaking_prefixes to\n",
            "[nltk_data]    |     /root/nltk_data...\n",
            "[nltk_data]    |   Package nonbreaking_prefixes is already up-to-date!\n",
            "[nltk_data]    | Downloading package nps_chat to /root/nltk_data...\n",
            "[nltk_data]    |   Package nps_chat is already up-to-date!\n",
            "[nltk_data]    | Downloading package omw to /root/nltk_data...\n",
            "[nltk_data]    |   Package omw is already up-to-date!\n",
            "[nltk_data]    | Downloading package omw-1.4 to /root/nltk_data...\n",
            "[nltk_data]    |   Package omw-1.4 is already up-to-date!\n",
            "[nltk_data]    | Downloading package opinion_lexicon to\n",
            "[nltk_data]    |     /root/nltk_data...\n",
            "[nltk_data]    |   Package opinion_lexicon is already up-to-date!\n",
            "[nltk_data]    | Downloading package panlex_swadesh to\n",
            "[nltk_data]    |     /root/nltk_data...\n",
            "[nltk_data]    |   Package panlex_swadesh is already up-to-date!\n",
            "[nltk_data]    | Downloading package paradigms to /root/nltk_data...\n",
            "[nltk_data]    |   Package paradigms is already up-to-date!\n",
            "[nltk_data]    | Downloading package pe08 to /root/nltk_data...\n",
            "[nltk_data]    |   Package pe08 is already up-to-date!\n",
            "[nltk_data]    | Downloading package perluniprops to\n",
            "[nltk_data]    |     /root/nltk_data...\n",
            "[nltk_data]    |   Package perluniprops is already up-to-date!\n",
            "[nltk_data]    | Downloading package pil to /root/nltk_data...\n",
            "[nltk_data]    |   Package pil is already up-to-date!\n",
            "[nltk_data]    | Downloading package pl196x to /root/nltk_data...\n",
            "[nltk_data]    |   Package pl196x is already up-to-date!\n",
            "[nltk_data]    | Downloading package porter_test to /root/nltk_data...\n",
            "[nltk_data]    |   Package porter_test is already up-to-date!\n",
            "[nltk_data]    | Downloading package ppattach to /root/nltk_data...\n",
            "[nltk_data]    |   Package ppattach is already up-to-date!\n",
            "[nltk_data]    | Downloading package problem_reports to\n",
            "[nltk_data]    |     /root/nltk_data...\n",
            "[nltk_data]    |   Package problem_reports is already up-to-date!\n",
            "[nltk_data]    | Downloading package product_reviews_1 to\n",
            "[nltk_data]    |     /root/nltk_data...\n",
            "[nltk_data]    |   Package product_reviews_1 is already up-to-date!\n",
            "[nltk_data]    | Downloading package product_reviews_2 to\n",
            "[nltk_data]    |     /root/nltk_data...\n",
            "[nltk_data]    |   Package product_reviews_2 is already up-to-date!\n",
            "[nltk_data]    | Downloading package propbank to /root/nltk_data...\n",
            "[nltk_data]    |   Package propbank is already up-to-date!\n",
            "[nltk_data]    | Downloading package pros_cons to /root/nltk_data...\n",
            "[nltk_data]    |   Package pros_cons is already up-to-date!\n",
            "[nltk_data]    | Downloading package ptb to /root/nltk_data...\n",
            "[nltk_data]    |   Package ptb is already up-to-date!\n",
            "[nltk_data]    | Downloading package punkt to /root/nltk_data...\n",
            "[nltk_data]    |   Package punkt is already up-to-date!\n",
            "[nltk_data]    | Downloading package qc to /root/nltk_data...\n",
            "[nltk_data]    |   Package qc is already up-to-date!\n",
            "[nltk_data]    | Downloading package reuters to /root/nltk_data...\n",
            "[nltk_data]    |   Package reuters is already up-to-date!\n",
            "[nltk_data]    | Downloading package rslp to /root/nltk_data...\n",
            "[nltk_data]    |   Package rslp is already up-to-date!\n",
            "[nltk_data]    | Downloading package rte to /root/nltk_data...\n",
            "[nltk_data]    |   Package rte is already up-to-date!\n",
            "[nltk_data]    | Downloading package sample_grammars to\n",
            "[nltk_data]    |     /root/nltk_data...\n",
            "[nltk_data]    |   Package sample_grammars is already up-to-date!\n",
            "[nltk_data]    | Downloading package semcor to /root/nltk_data...\n",
            "[nltk_data]    |   Package semcor is already up-to-date!\n",
            "[nltk_data]    | Downloading package senseval to /root/nltk_data...\n",
            "[nltk_data]    |   Package senseval is already up-to-date!\n",
            "[nltk_data]    | Downloading package sentence_polarity to\n",
            "[nltk_data]    |     /root/nltk_data...\n",
            "[nltk_data]    |   Package sentence_polarity is already up-to-date!\n",
            "[nltk_data]    | Downloading package sentiwordnet to\n",
            "[nltk_data]    |     /root/nltk_data...\n",
            "[nltk_data]    |   Package sentiwordnet is already up-to-date!\n",
            "[nltk_data]    | Downloading package shakespeare to /root/nltk_data...\n",
            "[nltk_data]    |   Package shakespeare is already up-to-date!\n",
            "[nltk_data]    | Downloading package sinica_treebank to\n",
            "[nltk_data]    |     /root/nltk_data...\n",
            "[nltk_data]    |   Package sinica_treebank is already up-to-date!\n",
            "[nltk_data]    | Downloading package smultron to /root/nltk_data...\n",
            "[nltk_data]    |   Package smultron is already up-to-date!\n",
            "[nltk_data]    | Downloading package snowball_data to\n",
            "[nltk_data]    |     /root/nltk_data...\n",
            "[nltk_data]    |   Package snowball_data is already up-to-date!\n",
            "[nltk_data]    | Downloading package spanish_grammars to\n",
            "[nltk_data]    |     /root/nltk_data...\n",
            "[nltk_data]    |   Package spanish_grammars is already up-to-date!\n",
            "[nltk_data]    | Downloading package state_union to /root/nltk_data...\n",
            "[nltk_data]    |   Package state_union is already up-to-date!\n",
            "[nltk_data]    | Downloading package stopwords to /root/nltk_data...\n",
            "[nltk_data]    |   Package stopwords is already up-to-date!\n",
            "[nltk_data]    | Downloading package subjectivity to\n",
            "[nltk_data]    |     /root/nltk_data...\n",
            "[nltk_data]    |   Package subjectivity is already up-to-date!\n",
            "[nltk_data]    | Downloading package swadesh to /root/nltk_data...\n",
            "[nltk_data]    |   Package swadesh is already up-to-date!\n",
            "[nltk_data]    | Downloading package switchboard to /root/nltk_data...\n",
            "[nltk_data]    |   Package switchboard is already up-to-date!\n",
            "[nltk_data]    | Downloading package tagsets to /root/nltk_data...\n",
            "[nltk_data]    |   Package tagsets is already up-to-date!\n",
            "[nltk_data]    | Downloading package timit to /root/nltk_data...\n",
            "[nltk_data]    |   Package timit is already up-to-date!\n",
            "[nltk_data]    | Downloading package toolbox to /root/nltk_data...\n",
            "[nltk_data]    |   Package toolbox is already up-to-date!\n",
            "[nltk_data]    | Downloading package treebank to /root/nltk_data...\n",
            "[nltk_data]    |   Package treebank is already up-to-date!\n",
            "[nltk_data]    | Downloading package twitter_samples to\n",
            "[nltk_data]    |     /root/nltk_data...\n",
            "[nltk_data]    |   Package twitter_samples is already up-to-date!\n",
            "[nltk_data]    | Downloading package udhr to /root/nltk_data...\n",
            "[nltk_data]    |   Package udhr is already up-to-date!\n",
            "[nltk_data]    | Downloading package udhr2 to /root/nltk_data...\n",
            "[nltk_data]    |   Package udhr2 is already up-to-date!\n",
            "[nltk_data]    | Downloading package unicode_samples to\n",
            "[nltk_data]    |     /root/nltk_data...\n",
            "[nltk_data]    |   Package unicode_samples is already up-to-date!\n",
            "[nltk_data]    | Downloading package universal_tagset to\n",
            "[nltk_data]    |     /root/nltk_data...\n",
            "[nltk_data]    |   Package universal_tagset is already up-to-date!\n",
            "[nltk_data]    | Downloading package universal_treebanks_v20 to\n",
            "[nltk_data]    |     /root/nltk_data...\n",
            "[nltk_data]    |   Package universal_treebanks_v20 is already up-to-\n",
            "[nltk_data]    |       date!\n",
            "[nltk_data]    | Downloading package vader_lexicon to\n",
            "[nltk_data]    |     /root/nltk_data...\n",
            "[nltk_data]    |   Package vader_lexicon is already up-to-date!\n",
            "[nltk_data]    | Downloading package verbnet to /root/nltk_data...\n",
            "[nltk_data]    |   Package verbnet is already up-to-date!\n",
            "[nltk_data]    | Downloading package verbnet3 to /root/nltk_data...\n",
            "[nltk_data]    |   Package verbnet3 is already up-to-date!\n",
            "[nltk_data]    | Downloading package webtext to /root/nltk_data...\n",
            "[nltk_data]    |   Package webtext is already up-to-date!\n",
            "[nltk_data]    | Downloading package wmt15_eval to /root/nltk_data...\n",
            "[nltk_data]    |   Package wmt15_eval is already up-to-date!\n",
            "[nltk_data]    | Downloading package word2vec_sample to\n",
            "[nltk_data]    |     /root/nltk_data...\n",
            "[nltk_data]    |   Package word2vec_sample is already up-to-date!\n",
            "[nltk_data]    | Downloading package wordnet to /root/nltk_data...\n",
            "[nltk_data]    |   Package wordnet is already up-to-date!\n",
            "[nltk_data]    | Downloading package wordnet2021 to /root/nltk_data...\n",
            "[nltk_data]    |   Package wordnet2021 is already up-to-date!\n",
            "[nltk_data]    | Downloading package wordnet2022 to /root/nltk_data...\n",
            "[nltk_data]    |   Package wordnet2022 is already up-to-date!\n",
            "[nltk_data]    | Downloading package wordnet31 to /root/nltk_data...\n",
            "[nltk_data]    |   Package wordnet31 is already up-to-date!\n",
            "[nltk_data]    | Downloading package wordnet_ic to /root/nltk_data...\n",
            "[nltk_data]    |   Package wordnet_ic is already up-to-date!\n",
            "[nltk_data]    | Downloading package words to /root/nltk_data...\n",
            "[nltk_data]    |   Package words is already up-to-date!\n",
            "[nltk_data]    | Downloading package ycoe to /root/nltk_data...\n",
            "[nltk_data]    |   Package ycoe is already up-to-date!\n",
            "[nltk_data]    | \n",
            "[nltk_data]  Done downloading collection all\n"
          ]
        },
        {
          "output_type": "execute_result",
          "data": {
            "text/plain": [
              "True"
            ]
          },
          "metadata": {},
          "execution_count": 75
        }
      ]
    },
    {
      "cell_type": "code",
      "source": [
        "!pip install spacy"
      ],
      "metadata": {
        "colab": {
          "base_uri": "https://localhost:8080/"
        },
        "id": "FrE1l-5p0wfX",
        "outputId": "42730925-8002-4f43-a90f-cdd9d25af860"
      },
      "execution_count": 76,
      "outputs": [
        {
          "output_type": "stream",
          "name": "stdout",
          "text": [
            "Requirement already satisfied: spacy in /usr/local/lib/python3.10/dist-packages (3.7.4)\n",
            "Requirement already satisfied: spacy-legacy<3.1.0,>=3.0.11 in /usr/local/lib/python3.10/dist-packages (from spacy) (3.0.12)\n",
            "Requirement already satisfied: spacy-loggers<2.0.0,>=1.0.0 in /usr/local/lib/python3.10/dist-packages (from spacy) (1.0.5)\n",
            "Requirement already satisfied: murmurhash<1.1.0,>=0.28.0 in /usr/local/lib/python3.10/dist-packages (from spacy) (1.0.10)\n",
            "Requirement already satisfied: cymem<2.1.0,>=2.0.2 in /usr/local/lib/python3.10/dist-packages (from spacy) (2.0.8)\n",
            "Requirement already satisfied: preshed<3.1.0,>=3.0.2 in /usr/local/lib/python3.10/dist-packages (from spacy) (3.0.9)\n",
            "Requirement already satisfied: thinc<8.3.0,>=8.2.2 in /usr/local/lib/python3.10/dist-packages (from spacy) (8.2.3)\n",
            "Requirement already satisfied: wasabi<1.2.0,>=0.9.1 in /usr/local/lib/python3.10/dist-packages (from spacy) (1.1.2)\n",
            "Requirement already satisfied: srsly<3.0.0,>=2.4.3 in /usr/local/lib/python3.10/dist-packages (from spacy) (2.4.8)\n",
            "Requirement already satisfied: catalogue<2.1.0,>=2.0.6 in /usr/local/lib/python3.10/dist-packages (from spacy) (2.0.10)\n",
            "Requirement already satisfied: weasel<0.4.0,>=0.1.0 in /usr/local/lib/python3.10/dist-packages (from spacy) (0.3.4)\n",
            "Requirement already satisfied: typer<0.10.0,>=0.3.0 in /usr/local/lib/python3.10/dist-packages (from spacy) (0.9.4)\n",
            "Requirement already satisfied: smart-open<7.0.0,>=5.2.1 in /usr/local/lib/python3.10/dist-packages (from spacy) (6.4.0)\n",
            "Requirement already satisfied: tqdm<5.0.0,>=4.38.0 in /usr/local/lib/python3.10/dist-packages (from spacy) (4.66.4)\n",
            "Requirement already satisfied: requests<3.0.0,>=2.13.0 in /usr/local/lib/python3.10/dist-packages (from spacy) (2.31.0)\n",
            "Requirement already satisfied: pydantic!=1.8,!=1.8.1,<3.0.0,>=1.7.4 in /usr/local/lib/python3.10/dist-packages (from spacy) (2.7.1)\n",
            "Requirement already satisfied: jinja2 in /usr/local/lib/python3.10/dist-packages (from spacy) (3.1.4)\n",
            "Requirement already satisfied: setuptools in /usr/local/lib/python3.10/dist-packages (from spacy) (67.7.2)\n",
            "Requirement already satisfied: packaging>=20.0 in /usr/local/lib/python3.10/dist-packages (from spacy) (24.0)\n",
            "Requirement already satisfied: langcodes<4.0.0,>=3.2.0 in /usr/local/lib/python3.10/dist-packages (from spacy) (3.4.0)\n",
            "Requirement already satisfied: numpy>=1.19.0 in /usr/local/lib/python3.10/dist-packages (from spacy) (1.25.2)\n",
            "Requirement already satisfied: language-data>=1.2 in /usr/local/lib/python3.10/dist-packages (from langcodes<4.0.0,>=3.2.0->spacy) (1.2.0)\n",
            "Requirement already satisfied: annotated-types>=0.4.0 in /usr/local/lib/python3.10/dist-packages (from pydantic!=1.8,!=1.8.1,<3.0.0,>=1.7.4->spacy) (0.6.0)\n",
            "Requirement already satisfied: pydantic-core==2.18.2 in /usr/local/lib/python3.10/dist-packages (from pydantic!=1.8,!=1.8.1,<3.0.0,>=1.7.4->spacy) (2.18.2)\n",
            "Requirement already satisfied: typing-extensions>=4.6.1 in /usr/local/lib/python3.10/dist-packages (from pydantic!=1.8,!=1.8.1,<3.0.0,>=1.7.4->spacy) (4.11.0)\n",
            "Requirement already satisfied: charset-normalizer<4,>=2 in /usr/local/lib/python3.10/dist-packages (from requests<3.0.0,>=2.13.0->spacy) (3.3.2)\n",
            "Requirement already satisfied: idna<4,>=2.5 in /usr/local/lib/python3.10/dist-packages (from requests<3.0.0,>=2.13.0->spacy) (3.7)\n",
            "Requirement already satisfied: urllib3<3,>=1.21.1 in /usr/local/lib/python3.10/dist-packages (from requests<3.0.0,>=2.13.0->spacy) (2.0.7)\n",
            "Requirement already satisfied: certifi>=2017.4.17 in /usr/local/lib/python3.10/dist-packages (from requests<3.0.0,>=2.13.0->spacy) (2024.2.2)\n",
            "Requirement already satisfied: blis<0.8.0,>=0.7.8 in /usr/local/lib/python3.10/dist-packages (from thinc<8.3.0,>=8.2.2->spacy) (0.7.11)\n",
            "Requirement already satisfied: confection<1.0.0,>=0.0.1 in /usr/local/lib/python3.10/dist-packages (from thinc<8.3.0,>=8.2.2->spacy) (0.1.4)\n",
            "Requirement already satisfied: click<9.0.0,>=7.1.1 in /usr/local/lib/python3.10/dist-packages (from typer<0.10.0,>=0.3.0->spacy) (8.1.7)\n",
            "Requirement already satisfied: cloudpathlib<0.17.0,>=0.7.0 in /usr/local/lib/python3.10/dist-packages (from weasel<0.4.0,>=0.1.0->spacy) (0.16.0)\n",
            "Requirement already satisfied: MarkupSafe>=2.0 in /usr/local/lib/python3.10/dist-packages (from jinja2->spacy) (2.1.5)\n",
            "Requirement already satisfied: marisa-trie>=0.7.7 in /usr/local/lib/python3.10/dist-packages (from language-data>=1.2->langcodes<4.0.0,>=3.2.0->spacy) (1.1.1)\n"
          ]
        }
      ]
    },
    {
      "cell_type": "code",
      "source": [
        "!pip install wordcloud"
      ],
      "metadata": {
        "colab": {
          "base_uri": "https://localhost:8080/"
        },
        "id": "XZkYoJuc1EeI",
        "outputId": "c6a2e4d5-56f3-44f2-9c7b-fcde1bbe8ab2"
      },
      "execution_count": 77,
      "outputs": [
        {
          "output_type": "stream",
          "name": "stdout",
          "text": [
            "Requirement already satisfied: wordcloud in /usr/local/lib/python3.10/dist-packages (1.9.3)\n",
            "Requirement already satisfied: numpy>=1.6.1 in /usr/local/lib/python3.10/dist-packages (from wordcloud) (1.25.2)\n",
            "Requirement already satisfied: pillow in /usr/local/lib/python3.10/dist-packages (from wordcloud) (9.4.0)\n",
            "Requirement already satisfied: matplotlib in /usr/local/lib/python3.10/dist-packages (from wordcloud) (3.7.1)\n",
            "Requirement already satisfied: contourpy>=1.0.1 in /usr/local/lib/python3.10/dist-packages (from matplotlib->wordcloud) (1.2.1)\n",
            "Requirement already satisfied: cycler>=0.10 in /usr/local/lib/python3.10/dist-packages (from matplotlib->wordcloud) (0.12.1)\n",
            "Requirement already satisfied: fonttools>=4.22.0 in /usr/local/lib/python3.10/dist-packages (from matplotlib->wordcloud) (4.51.0)\n",
            "Requirement already satisfied: kiwisolver>=1.0.1 in /usr/local/lib/python3.10/dist-packages (from matplotlib->wordcloud) (1.4.5)\n",
            "Requirement already satisfied: packaging>=20.0 in /usr/local/lib/python3.10/dist-packages (from matplotlib->wordcloud) (24.0)\n",
            "Requirement already satisfied: pyparsing>=2.3.1 in /usr/local/lib/python3.10/dist-packages (from matplotlib->wordcloud) (3.1.2)\n",
            "Requirement already satisfied: python-dateutil>=2.7 in /usr/local/lib/python3.10/dist-packages (from matplotlib->wordcloud) (2.8.2)\n",
            "Requirement already satisfied: six>=1.5 in /usr/local/lib/python3.10/dist-packages (from python-dateutil>=2.7->matplotlib->wordcloud) (1.16.0)\n"
          ]
        }
      ]
    },
    {
      "cell_type": "code",
      "source": [
        "!python -m spacy download en_core_web_sm"
      ],
      "metadata": {
        "colab": {
          "base_uri": "https://localhost:8080/"
        },
        "id": "A8aXbldo1LV8",
        "outputId": "866ebb4f-27ed-4d1a-936f-c571ad79ffea"
      },
      "execution_count": 78,
      "outputs": [
        {
          "output_type": "stream",
          "name": "stdout",
          "text": [
            "Collecting en-core-web-sm==3.7.1\n",
            "  Downloading https://github.com/explosion/spacy-models/releases/download/en_core_web_sm-3.7.1/en_core_web_sm-3.7.1-py3-none-any.whl (12.8 MB)\n",
            "\u001b[2K     \u001b[90m━━━━━━━━━━━━━━━━━━━━━━━━━━━━━━━━━━━━━━━━\u001b[0m \u001b[32m12.8/12.8 MB\u001b[0m \u001b[31m47.4 MB/s\u001b[0m eta \u001b[36m0:00:00\u001b[0m\n",
            "\u001b[?25hRequirement already satisfied: spacy<3.8.0,>=3.7.2 in /usr/local/lib/python3.10/dist-packages (from en-core-web-sm==3.7.1) (3.7.4)\n",
            "Requirement already satisfied: spacy-legacy<3.1.0,>=3.0.11 in /usr/local/lib/python3.10/dist-packages (from spacy<3.8.0,>=3.7.2->en-core-web-sm==3.7.1) (3.0.12)\n",
            "Requirement already satisfied: spacy-loggers<2.0.0,>=1.0.0 in /usr/local/lib/python3.10/dist-packages (from spacy<3.8.0,>=3.7.2->en-core-web-sm==3.7.1) (1.0.5)\n",
            "Requirement already satisfied: murmurhash<1.1.0,>=0.28.0 in /usr/local/lib/python3.10/dist-packages (from spacy<3.8.0,>=3.7.2->en-core-web-sm==3.7.1) (1.0.10)\n",
            "Requirement already satisfied: cymem<2.1.0,>=2.0.2 in /usr/local/lib/python3.10/dist-packages (from spacy<3.8.0,>=3.7.2->en-core-web-sm==3.7.1) (2.0.8)\n",
            "Requirement already satisfied: preshed<3.1.0,>=3.0.2 in /usr/local/lib/python3.10/dist-packages (from spacy<3.8.0,>=3.7.2->en-core-web-sm==3.7.1) (3.0.9)\n",
            "Requirement already satisfied: thinc<8.3.0,>=8.2.2 in /usr/local/lib/python3.10/dist-packages (from spacy<3.8.0,>=3.7.2->en-core-web-sm==3.7.1) (8.2.3)\n",
            "Requirement already satisfied: wasabi<1.2.0,>=0.9.1 in /usr/local/lib/python3.10/dist-packages (from spacy<3.8.0,>=3.7.2->en-core-web-sm==3.7.1) (1.1.2)\n",
            "Requirement already satisfied: srsly<3.0.0,>=2.4.3 in /usr/local/lib/python3.10/dist-packages (from spacy<3.8.0,>=3.7.2->en-core-web-sm==3.7.1) (2.4.8)\n",
            "Requirement already satisfied: catalogue<2.1.0,>=2.0.6 in /usr/local/lib/python3.10/dist-packages (from spacy<3.8.0,>=3.7.2->en-core-web-sm==3.7.1) (2.0.10)\n",
            "Requirement already satisfied: weasel<0.4.0,>=0.1.0 in /usr/local/lib/python3.10/dist-packages (from spacy<3.8.0,>=3.7.2->en-core-web-sm==3.7.1) (0.3.4)\n",
            "Requirement already satisfied: typer<0.10.0,>=0.3.0 in /usr/local/lib/python3.10/dist-packages (from spacy<3.8.0,>=3.7.2->en-core-web-sm==3.7.1) (0.9.4)\n",
            "Requirement already satisfied: smart-open<7.0.0,>=5.2.1 in /usr/local/lib/python3.10/dist-packages (from spacy<3.8.0,>=3.7.2->en-core-web-sm==3.7.1) (6.4.0)\n",
            "Requirement already satisfied: tqdm<5.0.0,>=4.38.0 in /usr/local/lib/python3.10/dist-packages (from spacy<3.8.0,>=3.7.2->en-core-web-sm==3.7.1) (4.66.4)\n",
            "Requirement already satisfied: requests<3.0.0,>=2.13.0 in /usr/local/lib/python3.10/dist-packages (from spacy<3.8.0,>=3.7.2->en-core-web-sm==3.7.1) (2.31.0)\n",
            "Requirement already satisfied: pydantic!=1.8,!=1.8.1,<3.0.0,>=1.7.4 in /usr/local/lib/python3.10/dist-packages (from spacy<3.8.0,>=3.7.2->en-core-web-sm==3.7.1) (2.7.1)\n",
            "Requirement already satisfied: jinja2 in /usr/local/lib/python3.10/dist-packages (from spacy<3.8.0,>=3.7.2->en-core-web-sm==3.7.1) (3.1.4)\n",
            "Requirement already satisfied: setuptools in /usr/local/lib/python3.10/dist-packages (from spacy<3.8.0,>=3.7.2->en-core-web-sm==3.7.1) (67.7.2)\n",
            "Requirement already satisfied: packaging>=20.0 in /usr/local/lib/python3.10/dist-packages (from spacy<3.8.0,>=3.7.2->en-core-web-sm==3.7.1) (24.0)\n",
            "Requirement already satisfied: langcodes<4.0.0,>=3.2.0 in /usr/local/lib/python3.10/dist-packages (from spacy<3.8.0,>=3.7.2->en-core-web-sm==3.7.1) (3.4.0)\n",
            "Requirement already satisfied: numpy>=1.19.0 in /usr/local/lib/python3.10/dist-packages (from spacy<3.8.0,>=3.7.2->en-core-web-sm==3.7.1) (1.25.2)\n",
            "Requirement already satisfied: language-data>=1.2 in /usr/local/lib/python3.10/dist-packages (from langcodes<4.0.0,>=3.2.0->spacy<3.8.0,>=3.7.2->en-core-web-sm==3.7.1) (1.2.0)\n",
            "Requirement already satisfied: annotated-types>=0.4.0 in /usr/local/lib/python3.10/dist-packages (from pydantic!=1.8,!=1.8.1,<3.0.0,>=1.7.4->spacy<3.8.0,>=3.7.2->en-core-web-sm==3.7.1) (0.6.0)\n",
            "Requirement already satisfied: pydantic-core==2.18.2 in /usr/local/lib/python3.10/dist-packages (from pydantic!=1.8,!=1.8.1,<3.0.0,>=1.7.4->spacy<3.8.0,>=3.7.2->en-core-web-sm==3.7.1) (2.18.2)\n",
            "Requirement already satisfied: typing-extensions>=4.6.1 in /usr/local/lib/python3.10/dist-packages (from pydantic!=1.8,!=1.8.1,<3.0.0,>=1.7.4->spacy<3.8.0,>=3.7.2->en-core-web-sm==3.7.1) (4.11.0)\n",
            "Requirement already satisfied: charset-normalizer<4,>=2 in /usr/local/lib/python3.10/dist-packages (from requests<3.0.0,>=2.13.0->spacy<3.8.0,>=3.7.2->en-core-web-sm==3.7.1) (3.3.2)\n",
            "Requirement already satisfied: idna<4,>=2.5 in /usr/local/lib/python3.10/dist-packages (from requests<3.0.0,>=2.13.0->spacy<3.8.0,>=3.7.2->en-core-web-sm==3.7.1) (3.7)\n",
            "Requirement already satisfied: urllib3<3,>=1.21.1 in /usr/local/lib/python3.10/dist-packages (from requests<3.0.0,>=2.13.0->spacy<3.8.0,>=3.7.2->en-core-web-sm==3.7.1) (2.0.7)\n",
            "Requirement already satisfied: certifi>=2017.4.17 in /usr/local/lib/python3.10/dist-packages (from requests<3.0.0,>=2.13.0->spacy<3.8.0,>=3.7.2->en-core-web-sm==3.7.1) (2024.2.2)\n",
            "Requirement already satisfied: blis<0.8.0,>=0.7.8 in /usr/local/lib/python3.10/dist-packages (from thinc<8.3.0,>=8.2.2->spacy<3.8.0,>=3.7.2->en-core-web-sm==3.7.1) (0.7.11)\n",
            "Requirement already satisfied: confection<1.0.0,>=0.0.1 in /usr/local/lib/python3.10/dist-packages (from thinc<8.3.0,>=8.2.2->spacy<3.8.0,>=3.7.2->en-core-web-sm==3.7.1) (0.1.4)\n",
            "Requirement already satisfied: click<9.0.0,>=7.1.1 in /usr/local/lib/python3.10/dist-packages (from typer<0.10.0,>=0.3.0->spacy<3.8.0,>=3.7.2->en-core-web-sm==3.7.1) (8.1.7)\n",
            "Requirement already satisfied: cloudpathlib<0.17.0,>=0.7.0 in /usr/local/lib/python3.10/dist-packages (from weasel<0.4.0,>=0.1.0->spacy<3.8.0,>=3.7.2->en-core-web-sm==3.7.1) (0.16.0)\n",
            "Requirement already satisfied: MarkupSafe>=2.0 in /usr/local/lib/python3.10/dist-packages (from jinja2->spacy<3.8.0,>=3.7.2->en-core-web-sm==3.7.1) (2.1.5)\n",
            "Requirement already satisfied: marisa-trie>=0.7.7 in /usr/local/lib/python3.10/dist-packages (from language-data>=1.2->langcodes<4.0.0,>=3.2.0->spacy<3.8.0,>=3.7.2->en-core-web-sm==3.7.1) (1.1.1)\n",
            "\u001b[38;5;2m✔ Download and installation successful\u001b[0m\n",
            "You can now load the package via spacy.load('en_core_web_sm')\n",
            "\u001b[38;5;3m⚠ Restart to reload dependencies\u001b[0m\n",
            "If you are in a Jupyter or Colab notebook, you may need to restart Python in\n",
            "order to load all the package's dependencies. You can do this by selecting the\n",
            "'Restart kernel' or 'Restart runtime' option.\n"
          ]
        }
      ]
    },
    {
      "cell_type": "code",
      "source": [
        "nltk.download('punkt')"
      ],
      "metadata": {
        "colab": {
          "base_uri": "https://localhost:8080/"
        },
        "id": "1Sd3DKIQ1PJM",
        "outputId": "b887b8a7-8f9f-4671-ce64-f202361a699a"
      },
      "execution_count": 79,
      "outputs": [
        {
          "output_type": "stream",
          "name": "stderr",
          "text": [
            "[nltk_data] Downloading package punkt to /root/nltk_data...\n",
            "[nltk_data]   Package punkt is already up-to-date!\n"
          ]
        },
        {
          "output_type": "execute_result",
          "data": {
            "text/plain": [
              "True"
            ]
          },
          "metadata": {},
          "execution_count": 79
        }
      ]
    },
    {
      "cell_type": "code",
      "source": [
        "nltk.download('stopwords')"
      ],
      "metadata": {
        "colab": {
          "base_uri": "https://localhost:8080/"
        },
        "id": "GBHqeSBH1kog",
        "outputId": "e845bbc9-3e80-4167-e66b-2b54a72c66de"
      },
      "execution_count": 80,
      "outputs": [
        {
          "output_type": "stream",
          "name": "stderr",
          "text": [
            "[nltk_data] Downloading package stopwords to /root/nltk_data...\n",
            "[nltk_data]   Package stopwords is already up-to-date!\n"
          ]
        },
        {
          "output_type": "execute_result",
          "data": {
            "text/plain": [
              "True"
            ]
          },
          "metadata": {},
          "execution_count": 80
        }
      ]
    },
    {
      "cell_type": "code",
      "source": [
        "import re\n",
        "import nltk\n",
        "from nltk.corpus import stopwords\n",
        "from sklearn.feature_extraction.text import TfidfVectorizer\n",
        "from sklearn.model_selection import train_test_split\n",
        "from sklearn.naive_bayes import MultinomialNB\n",
        "from sklearn.metrics import accuracy_score,classification_report"
      ],
      "metadata": {
        "id": "VqFBrUeL1sMW"
      },
      "execution_count": 81,
      "outputs": []
    },
    {
      "cell_type": "code",
      "source": [
        "def preprocess_text(text):\n",
        "    # Convert text to lowercase\n",
        "    text = text.lower()\n",
        "    # Remove punctuation\n",
        "    text = re.sub(r'[^\\w\\s]', '', text)\n",
        "    # Tokenization\n",
        "    tokens = nltk.word_tokenize(text)\n",
        "    # Remove stopwords\n",
        "    stopwords_list = set(stopwords.words('english'))\n",
        "    tokens = [word for word in tokens if word not in stopwords_list]\n",
        "    # Join tokens back into text\n",
        "    text = ' '.join(tokens)\n",
        "    return text"
      ],
      "metadata": {
        "id": "r5Ep-idG2k8_"
      },
      "execution_count": 82,
      "outputs": []
    },
    {
      "cell_type": "code",
      "source": [
        "#Apply text preprocessing to the 'text' column\n",
        "df['cleaned_text']=df['Data'].apply(preprocess_text)"
      ],
      "metadata": {
        "id": "4LjJf8_k2oSF"
      },
      "execution_count": 83,
      "outputs": []
    },
    {
      "cell_type": "code",
      "source": [
        "#Feature extraction using TF-IDF\n",
        "tfidf_vec=TfidfVectorizer(max_features=5000)\n",
        "tfidf_vec"
      ],
      "metadata": {
        "colab": {
          "base_uri": "https://localhost:8080/",
          "height": 74
        },
        "id": "jzz1yWWb3VwW",
        "outputId": "3c851568-0197-4da0-d64f-f8385b7ad7fc"
      },
      "execution_count": 84,
      "outputs": [
        {
          "output_type": "execute_result",
          "data": {
            "text/plain": [
              "TfidfVectorizer(max_features=5000)"
            ],
            "text/html": [
              "<style>#sk-container-id-3 {color: black;background-color: white;}#sk-container-id-3 pre{padding: 0;}#sk-container-id-3 div.sk-toggleable {background-color: white;}#sk-container-id-3 label.sk-toggleable__label {cursor: pointer;display: block;width: 100%;margin-bottom: 0;padding: 0.3em;box-sizing: border-box;text-align: center;}#sk-container-id-3 label.sk-toggleable__label-arrow:before {content: \"▸\";float: left;margin-right: 0.25em;color: #696969;}#sk-container-id-3 label.sk-toggleable__label-arrow:hover:before {color: black;}#sk-container-id-3 div.sk-estimator:hover label.sk-toggleable__label-arrow:before {color: black;}#sk-container-id-3 div.sk-toggleable__content {max-height: 0;max-width: 0;overflow: hidden;text-align: left;background-color: #f0f8ff;}#sk-container-id-3 div.sk-toggleable__content pre {margin: 0.2em;color: black;border-radius: 0.25em;background-color: #f0f8ff;}#sk-container-id-3 input.sk-toggleable__control:checked~div.sk-toggleable__content {max-height: 200px;max-width: 100%;overflow: auto;}#sk-container-id-3 input.sk-toggleable__control:checked~label.sk-toggleable__label-arrow:before {content: \"▾\";}#sk-container-id-3 div.sk-estimator input.sk-toggleable__control:checked~label.sk-toggleable__label {background-color: #d4ebff;}#sk-container-id-3 div.sk-label input.sk-toggleable__control:checked~label.sk-toggleable__label {background-color: #d4ebff;}#sk-container-id-3 input.sk-hidden--visually {border: 0;clip: rect(1px 1px 1px 1px);clip: rect(1px, 1px, 1px, 1px);height: 1px;margin: -1px;overflow: hidden;padding: 0;position: absolute;width: 1px;}#sk-container-id-3 div.sk-estimator {font-family: monospace;background-color: #f0f8ff;border: 1px dotted black;border-radius: 0.25em;box-sizing: border-box;margin-bottom: 0.5em;}#sk-container-id-3 div.sk-estimator:hover {background-color: #d4ebff;}#sk-container-id-3 div.sk-parallel-item::after {content: \"\";width: 100%;border-bottom: 1px solid gray;flex-grow: 1;}#sk-container-id-3 div.sk-label:hover label.sk-toggleable__label {background-color: #d4ebff;}#sk-container-id-3 div.sk-serial::before {content: \"\";position: absolute;border-left: 1px solid gray;box-sizing: border-box;top: 0;bottom: 0;left: 50%;z-index: 0;}#sk-container-id-3 div.sk-serial {display: flex;flex-direction: column;align-items: center;background-color: white;padding-right: 0.2em;padding-left: 0.2em;position: relative;}#sk-container-id-3 div.sk-item {position: relative;z-index: 1;}#sk-container-id-3 div.sk-parallel {display: flex;align-items: stretch;justify-content: center;background-color: white;position: relative;}#sk-container-id-3 div.sk-item::before, #sk-container-id-3 div.sk-parallel-item::before {content: \"\";position: absolute;border-left: 1px solid gray;box-sizing: border-box;top: 0;bottom: 0;left: 50%;z-index: -1;}#sk-container-id-3 div.sk-parallel-item {display: flex;flex-direction: column;z-index: 1;position: relative;background-color: white;}#sk-container-id-3 div.sk-parallel-item:first-child::after {align-self: flex-end;width: 50%;}#sk-container-id-3 div.sk-parallel-item:last-child::after {align-self: flex-start;width: 50%;}#sk-container-id-3 div.sk-parallel-item:only-child::after {width: 0;}#sk-container-id-3 div.sk-dashed-wrapped {border: 1px dashed gray;margin: 0 0.4em 0.5em 0.4em;box-sizing: border-box;padding-bottom: 0.4em;background-color: white;}#sk-container-id-3 div.sk-label label {font-family: monospace;font-weight: bold;display: inline-block;line-height: 1.2em;}#sk-container-id-3 div.sk-label-container {text-align: center;}#sk-container-id-3 div.sk-container {/* jupyter's `normalize.less` sets `[hidden] { display: none; }` but bootstrap.min.css set `[hidden] { display: none !important; }` so we also need the `!important` here to be able to override the default hidden behavior on the sphinx rendered scikit-learn.org. See: https://github.com/scikit-learn/scikit-learn/issues/21755 */display: inline-block !important;position: relative;}#sk-container-id-3 div.sk-text-repr-fallback {display: none;}</style><div id=\"sk-container-id-3\" class=\"sk-top-container\"><div class=\"sk-text-repr-fallback\"><pre>TfidfVectorizer(max_features=5000)</pre><b>In a Jupyter environment, please rerun this cell to show the HTML representation or trust the notebook. <br />On GitHub, the HTML representation is unable to render, please try loading this page with nbviewer.org.</b></div><div class=\"sk-container\" hidden><div class=\"sk-item\"><div class=\"sk-estimator sk-toggleable\"><input class=\"sk-toggleable__control sk-hidden--visually\" id=\"sk-estimator-id-3\" type=\"checkbox\" checked><label for=\"sk-estimator-id-3\" class=\"sk-toggleable__label sk-toggleable__label-arrow\">TfidfVectorizer</label><div class=\"sk-toggleable__content\"><pre>TfidfVectorizer(max_features=5000)</pre></div></div></div></div></div>"
            ]
          },
          "metadata": {},
          "execution_count": 84
        }
      ]
    },
    {
      "cell_type": "code",
      "source": [
        "a=tfidf_vec.fit_transform(df['cleaned_text'])"
      ],
      "metadata": {
        "id": "LmZ6L3jc37Zt"
      },
      "execution_count": 85,
      "outputs": []
    },
    {
      "cell_type": "code",
      "source": [
        "a"
      ],
      "metadata": {
        "colab": {
          "base_uri": "https://localhost:8080/"
        },
        "id": "it-WdBxS4OVO",
        "outputId": "3deaa8fd-eb73-405b-8d90-48b1b06f15aa"
      },
      "execution_count": 86,
      "outputs": [
        {
          "output_type": "execute_result",
          "data": {
            "text/plain": [
              "<19997x5000 sparse matrix of type '<class 'numpy.float64'>'\n",
              "\twith 1823829 stored elements in Compressed Sparse Row format>"
            ]
          },
          "metadata": {},
          "execution_count": 86
        }
      ]
    },
    {
      "cell_type": "code",
      "source": [
        "b=df['Labels']"
      ],
      "metadata": {
        "id": "VyzlRlf14RWQ"
      },
      "execution_count": 87,
      "outputs": []
    },
    {
      "cell_type": "code",
      "source": [
        "b"
      ],
      "metadata": {
        "colab": {
          "base_uri": "https://localhost:8080/"
        },
        "id": "mQUBFUkQ4WAg",
        "outputId": "7c27c702-50f7-4741-ed69-c9e6053d431b"
      },
      "execution_count": 88,
      "outputs": [
        {
          "output_type": "execute_result",
          "data": {
            "text/plain": [
              "0               alt.atheism\n",
              "1               alt.atheism\n",
              "2               alt.atheism\n",
              "3               alt.atheism\n",
              "4               alt.atheism\n",
              "                ...        \n",
              "19992    talk.religion.misc\n",
              "19993    talk.religion.misc\n",
              "19994    talk.religion.misc\n",
              "19995    talk.religion.misc\n",
              "19996    talk.religion.misc\n",
              "Name: Labels, Length: 19997, dtype: object"
            ]
          },
          "metadata": {},
          "execution_count": 88
        }
      ]
    },
    {
      "cell_type": "code",
      "source": [
        "#splitting the data into training and testing data\n",
        "x_train,x_test,y_train,y_test=train_test_split(a,b,test_size=0.75,random_state=100)"
      ],
      "metadata": {
        "id": "lTaG_zHa4Xbs"
      },
      "execution_count": 89,
      "outputs": []
    },
    {
      "cell_type": "code",
      "source": [
        "print(x_train.shape)\n",
        "print(y_train.shape)\n",
        "print(x_test.shape)\n",
        "print(y_test.shape)"
      ],
      "metadata": {
        "colab": {
          "base_uri": "https://localhost:8080/"
        },
        "id": "YmdmnFuu4vq4",
        "outputId": "fe954904-59ce-4f4a-e1cb-23c341fe79e1"
      },
      "execution_count": 90,
      "outputs": [
        {
          "output_type": "stream",
          "name": "stdout",
          "text": [
            "(4999, 5000)\n",
            "(4999,)\n",
            "(14998, 5000)\n",
            "(14998,)\n"
          ]
        }
      ]
    },
    {
      "cell_type": "code",
      "source": [
        "#using NaiveBayes algorithm\n",
        "naive_bayes=MultinomialNB()"
      ],
      "metadata": {
        "id": "iytQniLZ49gC"
      },
      "execution_count": 91,
      "outputs": []
    },
    {
      "cell_type": "code",
      "source": [
        "naive_bayes.fit(x_train,y_train)"
      ],
      "metadata": {
        "colab": {
          "base_uri": "https://localhost:8080/",
          "height": 74
        },
        "id": "p3Qus2gq5Kgl",
        "outputId": "0506df2f-d8fb-44e6-c275-1cb42cdcc08e"
      },
      "execution_count": 92,
      "outputs": [
        {
          "output_type": "execute_result",
          "data": {
            "text/plain": [
              "MultinomialNB()"
            ],
            "text/html": [
              "<style>#sk-container-id-4 {color: black;background-color: white;}#sk-container-id-4 pre{padding: 0;}#sk-container-id-4 div.sk-toggleable {background-color: white;}#sk-container-id-4 label.sk-toggleable__label {cursor: pointer;display: block;width: 100%;margin-bottom: 0;padding: 0.3em;box-sizing: border-box;text-align: center;}#sk-container-id-4 label.sk-toggleable__label-arrow:before {content: \"▸\";float: left;margin-right: 0.25em;color: #696969;}#sk-container-id-4 label.sk-toggleable__label-arrow:hover:before {color: black;}#sk-container-id-4 div.sk-estimator:hover label.sk-toggleable__label-arrow:before {color: black;}#sk-container-id-4 div.sk-toggleable__content {max-height: 0;max-width: 0;overflow: hidden;text-align: left;background-color: #f0f8ff;}#sk-container-id-4 div.sk-toggleable__content pre {margin: 0.2em;color: black;border-radius: 0.25em;background-color: #f0f8ff;}#sk-container-id-4 input.sk-toggleable__control:checked~div.sk-toggleable__content {max-height: 200px;max-width: 100%;overflow: auto;}#sk-container-id-4 input.sk-toggleable__control:checked~label.sk-toggleable__label-arrow:before {content: \"▾\";}#sk-container-id-4 div.sk-estimator input.sk-toggleable__control:checked~label.sk-toggleable__label {background-color: #d4ebff;}#sk-container-id-4 div.sk-label input.sk-toggleable__control:checked~label.sk-toggleable__label {background-color: #d4ebff;}#sk-container-id-4 input.sk-hidden--visually {border: 0;clip: rect(1px 1px 1px 1px);clip: rect(1px, 1px, 1px, 1px);height: 1px;margin: -1px;overflow: hidden;padding: 0;position: absolute;width: 1px;}#sk-container-id-4 div.sk-estimator {font-family: monospace;background-color: #f0f8ff;border: 1px dotted black;border-radius: 0.25em;box-sizing: border-box;margin-bottom: 0.5em;}#sk-container-id-4 div.sk-estimator:hover {background-color: #d4ebff;}#sk-container-id-4 div.sk-parallel-item::after {content: \"\";width: 100%;border-bottom: 1px solid gray;flex-grow: 1;}#sk-container-id-4 div.sk-label:hover label.sk-toggleable__label {background-color: #d4ebff;}#sk-container-id-4 div.sk-serial::before {content: \"\";position: absolute;border-left: 1px solid gray;box-sizing: border-box;top: 0;bottom: 0;left: 50%;z-index: 0;}#sk-container-id-4 div.sk-serial {display: flex;flex-direction: column;align-items: center;background-color: white;padding-right: 0.2em;padding-left: 0.2em;position: relative;}#sk-container-id-4 div.sk-item {position: relative;z-index: 1;}#sk-container-id-4 div.sk-parallel {display: flex;align-items: stretch;justify-content: center;background-color: white;position: relative;}#sk-container-id-4 div.sk-item::before, #sk-container-id-4 div.sk-parallel-item::before {content: \"\";position: absolute;border-left: 1px solid gray;box-sizing: border-box;top: 0;bottom: 0;left: 50%;z-index: -1;}#sk-container-id-4 div.sk-parallel-item {display: flex;flex-direction: column;z-index: 1;position: relative;background-color: white;}#sk-container-id-4 div.sk-parallel-item:first-child::after {align-self: flex-end;width: 50%;}#sk-container-id-4 div.sk-parallel-item:last-child::after {align-self: flex-start;width: 50%;}#sk-container-id-4 div.sk-parallel-item:only-child::after {width: 0;}#sk-container-id-4 div.sk-dashed-wrapped {border: 1px dashed gray;margin: 0 0.4em 0.5em 0.4em;box-sizing: border-box;padding-bottom: 0.4em;background-color: white;}#sk-container-id-4 div.sk-label label {font-family: monospace;font-weight: bold;display: inline-block;line-height: 1.2em;}#sk-container-id-4 div.sk-label-container {text-align: center;}#sk-container-id-4 div.sk-container {/* jupyter's `normalize.less` sets `[hidden] { display: none; }` but bootstrap.min.css set `[hidden] { display: none !important; }` so we also need the `!important` here to be able to override the default hidden behavior on the sphinx rendered scikit-learn.org. See: https://github.com/scikit-learn/scikit-learn/issues/21755 */display: inline-block !important;position: relative;}#sk-container-id-4 div.sk-text-repr-fallback {display: none;}</style><div id=\"sk-container-id-4\" class=\"sk-top-container\"><div class=\"sk-text-repr-fallback\"><pre>MultinomialNB()</pre><b>In a Jupyter environment, please rerun this cell to show the HTML representation or trust the notebook. <br />On GitHub, the HTML representation is unable to render, please try loading this page with nbviewer.org.</b></div><div class=\"sk-container\" hidden><div class=\"sk-item\"><div class=\"sk-estimator sk-toggleable\"><input class=\"sk-toggleable__control sk-hidden--visually\" id=\"sk-estimator-id-4\" type=\"checkbox\" checked><label for=\"sk-estimator-id-4\" class=\"sk-toggleable__label sk-toggleable__label-arrow\">MultinomialNB</label><div class=\"sk-toggleable__content\"><pre>MultinomialNB()</pre></div></div></div></div></div>"
            ]
          },
          "metadata": {},
          "execution_count": 92
        }
      ]
    },
    {
      "cell_type": "code",
      "source": [
        "# predicting the data\n",
        "y_pred=naive_bayes.predict(x_test)"
      ],
      "metadata": {
        "id": "RYKXdZ3F5RRv"
      },
      "execution_count": 93,
      "outputs": []
    },
    {
      "cell_type": "code",
      "source": [
        "y_pred"
      ],
      "metadata": {
        "colab": {
          "base_uri": "https://localhost:8080/"
        },
        "id": "gjr_AhUm5WJ2",
        "outputId": "b0f74489-e9c6-4499-b018-4e88766bc582"
      },
      "execution_count": 94,
      "outputs": [
        {
          "output_type": "execute_result",
          "data": {
            "text/plain": [
              "array(['sci.med', 'talk.politics.misc', 'comp.sys.mac.hardware', ...,\n",
              "       'comp.os.ms-windows.misc', 'rec.sport.hockey',\n",
              "       'comp.sys.mac.hardware'], dtype='<U24')"
            ]
          },
          "metadata": {},
          "execution_count": 94
        }
      ]
    },
    {
      "cell_type": "code",
      "source": [
        "#  finding performance metrics using accuracy score,precision,recall and f1 score\n",
        "accuracy_score(y_test,y_pred)"
      ],
      "metadata": {
        "colab": {
          "base_uri": "https://localhost:8080/"
        },
        "id": "eYWlI_D95sx7",
        "outputId": "7c109cdd-6bd1-44dc-f969-eea3576edb0b"
      },
      "execution_count": 95,
      "outputs": [
        {
          "output_type": "execute_result",
          "data": {
            "text/plain": [
              "0.8533137751700227"
            ]
          },
          "metadata": {},
          "execution_count": 95
        }
      ]
    },
    {
      "cell_type": "code",
      "source": [
        "classification_report(y_test,y_pred)"
      ],
      "metadata": {
        "colab": {
          "base_uri": "https://localhost:8080/",
          "height": 123
        },
        "id": "1IA8zVHZ57Iv",
        "outputId": "27a6a585-8e5f-49da-fa61-13251bf1e26d"
      },
      "execution_count": 96,
      "outputs": [
        {
          "output_type": "execute_result",
          "data": {
            "text/plain": [
              "'                          precision    recall  f1-score   support\\n\\n             alt.atheism       0.76      0.79      0.78       749\\n            alt.atheism\"       0.00      0.00      0.00         1\\n           comp.graphics       0.82      0.84      0.83       741\\n comp.os.ms-windows.misc       0.70      0.88      0.78       735\\ncomp.sys.ibm.pc.hardware       0.77      0.79      0.78       750\\n   comp.sys.mac.hardware       0.84      0.91      0.87       733\\n          comp.windows.x       0.89      0.88      0.89       745\\n            misc.forsale       0.87      0.83      0.85       762\\n               rec.autos       0.90      0.87      0.89       753\\n         rec.motorcycles       0.96      0.93      0.95       757\\n      rec.sport.baseball       0.97      0.96      0.97       756\\n        rec.sport.hockey       0.98      0.97      0.98       758\\n               sci.crypt       0.93      0.95      0.94       741\\n         sci.electronics       0.90      0.76      0.83       752\\n                 sci.med       0.98      0.89      0.93       767\\n               sci.space       0.94      0.92      0.93       751\\n  soc.religion.christian       0.87      0.99      0.92       748\\n      talk.politics.guns       0.67      0.93      0.78       733\\n   talk.politics.mideast       0.94      0.87      0.91       777\\n      talk.politics.misc       0.77      0.64      0.70       749\\n      talk.religion.misc       0.66      0.45      0.53       740\\n\\n                accuracy                           0.85     14998\\n               macro avg       0.82      0.81      0.81     14998\\n            weighted avg       0.86      0.85      0.85     14998\\n'"
            ],
            "application/vnd.google.colaboratory.intrinsic+json": {
              "type": "string"
            }
          },
          "metadata": {},
          "execution_count": 96
        }
      ]
    },
    {
      "cell_type": "code",
      "source": [
        "from nltk.sentiment.vader import SentimentIntensityAnalyzer"
      ],
      "metadata": {
        "id": "fBvHAGw47619"
      },
      "execution_count": 97,
      "outputs": []
    },
    {
      "cell_type": "code",
      "source": [
        "!python -m nltk.downloader vader_lexicon"
      ],
      "metadata": {
        "colab": {
          "base_uri": "https://localhost:8080/"
        },
        "id": "nGgUVaXh8CnQ",
        "outputId": "c9262d04-a484-4fd4-9a23-c7f465ab793c"
      },
      "execution_count": 98,
      "outputs": [
        {
          "output_type": "stream",
          "name": "stdout",
          "text": [
            "/usr/lib/python3.10/runpy.py:126: RuntimeWarning: 'nltk.downloader' found in sys.modules after import of package 'nltk', but prior to execution of 'nltk.downloader'; this may result in unpredictable behaviour\n",
            "  warn(RuntimeWarning(msg))\n",
            "[nltk_data] Downloading package vader_lexicon to /root/nltk_data...\n",
            "[nltk_data]   Package vader_lexicon is already up-to-date!\n"
          ]
        }
      ]
    },
    {
      "cell_type": "code",
      "source": [
        "#sentiment Analysis\n",
        "sent_analy=SentimentIntensityAnalyzer()"
      ],
      "metadata": {
        "id": "o8wRGHo16LHQ"
      },
      "execution_count": 99,
      "outputs": []
    },
    {
      "cell_type": "code",
      "source": [
        "sentiments=[]\n",
        "for text in df['Data']:\n",
        "  sentiment_scr=sent_analy.polarity_scores(text)\n",
        "  if sentiment_scr['compound']>0:\n",
        "    sentiments.append('positive+ve')\n",
        "  elif sentiment_scr['compound']<0:\n",
        "    sentiments.append('negative-ve')\n",
        "  else:\n",
        "    sentiments.append('neutral')"
      ],
      "metadata": {
        "id": "6GSAq_JH71q3"
      },
      "execution_count": 100,
      "outputs": []
    },
    {
      "cell_type": "code",
      "source": [
        "# adding sentiments to the data\n",
        "df['sentiment']=sentiments"
      ],
      "metadata": {
        "id": "DT7q07aL8iVm"
      },
      "execution_count": 101,
      "outputs": []
    },
    {
      "cell_type": "code",
      "source": [
        "#Examining the distribution of sentiments\n",
        "sentiment_dist=df.groupby(['Labels','sentiment']).size().unstack(fill_value=0)\n",
        "print(\"\\n sentiment Distribution Across Categories:\")\n",
        "print(sentiment_dist)"
      ],
      "metadata": {
        "colab": {
          "base_uri": "https://localhost:8080/"
        },
        "id": "34j8T2qm9Z44",
        "outputId": "d604edf4-b0b2-44e4-9e42-07292fc45f29"
      },
      "execution_count": 102,
      "outputs": [
        {
          "output_type": "stream",
          "name": "stdout",
          "text": [
            "\n",
            " sentiment Distribution Across Categories:\n",
            "sentiment                 negative-ve  neutral  positive+ve\n",
            "Labels                                                     \n",
            "alt.atheism                       379        8          612\n",
            "alt.atheism\"                        0        0            1\n",
            "comp.graphics                     123       47          830\n",
            "comp.os.ms-windows.misc           204       45          751\n",
            "comp.sys.ibm.pc.hardware          218       19          763\n",
            "comp.sys.mac.hardware             243       47          710\n",
            "comp.windows.x                    226       40          734\n",
            "misc.forsale                      126       70          804\n",
            "rec.autos                         304       28          668\n",
            "rec.motorcycles                   311       20          669\n",
            "rec.sport.baseball                228       39          733\n",
            "rec.sport.hockey                  259       16          725\n",
            "sci.crypt                         300        7          693\n",
            "sci.electronics                   178       36          786\n",
            "sci.med                           346       22          632\n",
            "sci.space                         271       21          708\n",
            "soc.religion.christian            260        0          737\n",
            "talk.politics.guns                659       10          331\n",
            "talk.politics.mideast             649        6          345\n",
            "talk.politics.misc                526        4          470\n",
            "talk.religion.misc                389        6          605\n"
          ]
        }
      ]
    },
    {
      "cell_type": "code",
      "source": [
        "from sklearn.metrics import accuracy_score,precision_score,recall_score,f1_score"
      ],
      "metadata": {
        "id": "ei4RzXOd9Zwr"
      },
      "execution_count": 103,
      "outputs": []
    },
    {
      "cell_type": "code",
      "source": [
        "# Naive Bayes Classifier and performance metrics\n",
        "accuracy_scr=accuracy_score(y_test,y_pred)\n",
        "accuracy_scr"
      ],
      "metadata": {
        "colab": {
          "base_uri": "https://localhost:8080/"
        },
        "id": "m_coY0ZL9ZtB",
        "outputId": "1dda1d11-e74c-4900-b542-3389e56af47c"
      },
      "execution_count": 104,
      "outputs": [
        {
          "output_type": "execute_result",
          "data": {
            "text/plain": [
              "0.8533137751700227"
            ]
          },
          "metadata": {},
          "execution_count": 104
        }
      ]
    },
    {
      "cell_type": "code",
      "source": [
        "precision_scr=precision_score(y_test,y_pred,average='weighted')\n",
        "precision_scr"
      ],
      "metadata": {
        "colab": {
          "base_uri": "https://localhost:8080/"
        },
        "id": "f70jV3kR9ZkW",
        "outputId": "ff8e992c-d8c0-4b9a-87e6-38c1c06c742e"
      },
      "execution_count": 105,
      "outputs": [
        {
          "output_type": "execute_result",
          "data": {
            "text/plain": [
              "0.8571052651738537"
            ]
          },
          "metadata": {},
          "execution_count": 105
        }
      ]
    },
    {
      "cell_type": "code",
      "source": [
        "recall_scr=recall_score(y_test,y_pred,average='weighted')\n",
        "recall_scr"
      ],
      "metadata": {
        "colab": {
          "base_uri": "https://localhost:8080/"
        },
        "id": "1D_5LSVU-yet",
        "outputId": "989ea4b6-fbfe-49dc-8056-04b9844bae79"
      },
      "execution_count": 106,
      "outputs": [
        {
          "output_type": "execute_result",
          "data": {
            "text/plain": [
              "0.8533137751700227"
            ]
          },
          "metadata": {},
          "execution_count": 106
        }
      ]
    },
    {
      "cell_type": "code",
      "source": [
        "f1_scr=f1_score(y_test,y_pred,average=\"weighted\")\n",
        "f1_scr"
      ],
      "metadata": {
        "colab": {
          "base_uri": "https://localhost:8080/"
        },
        "id": "7nPxDKLg-73A",
        "outputId": "fa2ad5a3-3db8-441d-84a1-6bfd42c96657"
      },
      "execution_count": 107,
      "outputs": [
        {
          "output_type": "execute_result",
          "data": {
            "text/plain": [
              "0.8514968233885296"
            ]
          },
          "metadata": {},
          "execution_count": 107
        }
      ]
    },
    {
      "cell_type": "code",
      "source": [],
      "metadata": {
        "id": "ot9Iy_ru_GUa"
      },
      "execution_count": 107,
      "outputs": []
    }
  ]
}